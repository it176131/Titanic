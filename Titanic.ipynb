{
 "cells": [
  {
   "cell_type": "markdown",
   "metadata": {},
   "source": [
    "# Imports"
   ]
  },
  {
   "cell_type": "code",
   "execution_count": null,
   "metadata": {},
   "outputs": [],
   "source": [
    "import pandas as pd\n",
    "import numpy as np\n",
    "\n",
    "from scipy import stats\n",
    "from scipy.signal import argrelextrema\n",
    "\n",
    "import itertools\n",
    "\n",
    "import matplotlib.pyplot as plt\n",
    "from matplotlib import style\n",
    "import seaborn as sns\n",
    "\n",
    "style.use('fivethirtyeight')\n",
    "\n",
    "from sklearn.preprocessing import MinMaxScaler\n",
    "from sklearn.model_selection import cross_val_score, train_test_split, GridSearchCV, KFold\n",
    "from sklearn.feature_selection import SelectPercentile, f_classif\n",
    "from sklearn.feature_extraction.text import TfidfVectorizer\n",
    "from sklearn.decomposition import PCA, FactorAnalysis\n",
    "from sklearn.linear_model import LogisticRegression, SGDClassifier\n",
    "from sklearn.neighbors import KNeighborsClassifier\n",
    "from sklearn.ensemble import AdaBoostClassifier, ExtraTreesClassifier, GradientBoostingClassifier, RandomForestClassifier\n",
    "from sklearn.svm import SVC\n",
    "from sklearn.naive_bayes import BernoulliNB, GaussianNB, MultinomialNB\n",
    "from sklearn.neural_network import MLPClassifier\n",
    "\n",
    "from sklearn.metrics import confusion_matrix, accuracy_score, recall_score, f1_score, precision_score\n",
    "\n",
    "%matplotlib inline"
   ]
  },
  {
   "cell_type": "markdown",
   "metadata": {},
   "source": [
    "# Data"
   ]
  },
  {
   "cell_type": "code",
   "execution_count": null,
   "metadata": {},
   "outputs": [],
   "source": [
    "train = pd.read_csv(\"train.csv\")"
   ]
  },
  {
   "cell_type": "code",
   "execution_count": null,
   "metadata": {},
   "outputs": [],
   "source": [
    "train.columns = train.columns.str.lower()"
   ]
  },
  {
   "cell_type": "markdown",
   "metadata": {},
   "source": [
    "# Encode Columns"
   ]
  },
  {
   "cell_type": "code",
   "execution_count": null,
   "metadata": {},
   "outputs": [],
   "source": [
    "train.sex.replace({\n",
    "    'male' : 1,\n",
    "    'female' : 0\n",
    "}, inplace=True)\n",
    "\n",
    "train['missing_cnt'] = train.isnull().sum(axis=1)\n",
    "\n",
    "train['missing_any'] = train.missing_cnt > 0\n",
    "\n",
    "train = train.join(pd.get_dummies(train.embarked, prefix='embarked'))\n",
    "\n",
    "train = train.join(pd.get_dummies(train.pclass, prefix='pclass'))\n",
    "\n",
    "train = train.join(pd.get_dummies(train.name.str.split(', ').str[-1].str.split('.').str[0], prefix='title'))\n",
    "\n",
    "train.columns = train.columns.str.replace(' ', '_')\n",
    "\n",
    "train['miss_master'] = train.loc[:, [\n",
    "    'title_Master',\n",
    "    'title_Miss',\n",
    "]].sum(axis=1)\n",
    "\n",
    "pca = PCA(n_components=.99, random_state=0)\n",
    "\n",
    "train = train.join(pd.DataFrame(pca.fit_transform(train.loc[:, [\n",
    "    'miss_master',\n",
    "    'title_Miss',\n",
    "    'title_Master'\n",
    "]])).add_prefix('pca_'))"
   ]
  },
  {
   "cell_type": "markdown",
   "metadata": {},
   "source": [
    "## Age"
   ]
  },
  {
   "cell_type": "code",
   "execution_count": null,
   "metadata": {},
   "outputs": [],
   "source": [
    "age = train.loc[\n",
    "    train.age.notnull(),\n",
    "    'pclass':\n",
    "]"
   ]
  },
  {
   "cell_type": "code",
   "execution_count": null,
   "metadata": {},
   "outputs": [],
   "source": [
    "def poi(s):\n",
    "    \"\"\"\n",
    "    Takes a series of values, calculates the Gaussian KDE, and returns the Points of Inflection.\n",
    "    \n",
    "    Parameters\n",
    "    ----------\n",
    "    s : array-like\n",
    "        the values to be used for computing the Gaussian KDE\n",
    "    \n",
    "    Returns\n",
    "    -------\n",
    "    poi : array\n",
    "        a 1D array with the points of inflection\n",
    "    \"\"\"\n",
    "    \n",
    "    # compute the gaussian kde\n",
    "    gkde = stats.gaussian_kde(s)\n",
    "    \n",
    "    # get 10,000 x points between the 0 and maximum of s\n",
    "    x = np.linspace(0, s.max()+1, 10000)\n",
    "    \n",
    "    # estimate y points based on x points\n",
    "    y = gkde.pdf(x)\n",
    "    \n",
    "    # find all relative maxima\n",
    "    rel_max = argrelextrema(y, np.greater)[0]\n",
    "    \n",
    "    # find all relative minima\n",
    "    rel_min = argrelextrema(y, np.less)[0]\n",
    "    \n",
    "    # calculate change in x\n",
    "    dx = x[1] - x[0]\n",
    "    \n",
    "    # calculate the slope\n",
    "    dydx = np.gradient(y, dx)\n",
    "    \n",
    "    # find the index for max points of inflection\n",
    "    poi_max = argrelextrema(dydx, np.greater)[0]\n",
    "    \n",
    "    # find the index for min points of inflection\n",
    "    poi_min = argrelextrema(dydx, np.less)[0]\n",
    "    \n",
    "    return x[rel_max], x[rel_min], x[poi_max], x[poi_min]"
   ]
  },
  {
   "cell_type": "code",
   "execution_count": null,
   "metadata": {},
   "outputs": [],
   "source": [
    "POI = poi(age.age)\n",
    "\n",
    "rmax = POI[0]\n",
    "\n",
    "rmin = POI[1]\n",
    "\n",
    "pmax = POI[2]\n",
    "\n",
    "pmin = POI[3]\n",
    "\n",
    "fig, ax = plt.subplots(figsize=(16,8))\n",
    "\n",
    "age.age.plot.kde(ax=ax, label='age', alpha=.5)\n",
    "\n",
    "ax.set_xlim(0, age.age.max())\n",
    "\n",
    "for i in rmax:\n",
    "    ax.axvline(i, color='k', ls=':')\n",
    "\n",
    "for i in rmin:\n",
    "    ax.axvline(i, color='k', ls=':')\n",
    "\n",
    "for i in pmax:\n",
    "    ax.axvline(i, color='g', ls=':', lw=2)\n",
    "\n",
    "for i in pmin:\n",
    "    ax.axvline(i, color='r', ls=':', lw=2);"
   ]
  },
  {
   "cell_type": "code",
   "execution_count": null,
   "metadata": {},
   "outputs": [],
   "source": [
    "p = np.array(sorted(list(itertools.chain.from_iterable(POI))))"
   ]
  },
  {
   "cell_type": "code",
   "execution_count": null,
   "metadata": {},
   "outputs": [],
   "source": [
    "age['age_grp'] = np.where(\n",
    "    age.age <= p[0], 0, np.where(\n",
    "        age.age <= p[1], 1, np.where(\n",
    "            age.age <= p[2], 2, np.where(\n",
    "                age.age <= p[3], 3, np.where(\n",
    "                    age.age <= p[4], 4, np.where(\n",
    "                        age.age <= p[5], 5, np.where(\n",
    "                            age.age <= p[6], 6, np.where(\n",
    "                                age.age <= p[7], 7, np.where(\n",
    "                                    age.age <= p[8], 8, np.where(\n",
    "                                        age.age <= p[9], 9, 10\n",
    "                                    )\n",
    "                                )\n",
    "                            )\n",
    "                        )\n",
    "                    )\n",
    "                )\n",
    "            )\n",
    "        )\n",
    "    )\n",
    ")"
   ]
  },
  {
   "cell_type": "code",
   "execution_count": null,
   "metadata": {},
   "outputs": [],
   "source": [
    "age.age_grp.value_counts().sort_index().plot.bar();"
   ]
  },
  {
   "cell_type": "code",
   "execution_count": null,
   "metadata": {},
   "outputs": [],
   "source": [
    "age['age_grp2'] = age.age < p[3]"
   ]
  },
  {
   "cell_type": "code",
   "execution_count": null,
   "metadata": {},
   "outputs": [],
   "source": [
    "age = age.loc[:,age.notnull().all()].copy()"
   ]
  },
  {
   "cell_type": "code",
   "execution_count": null,
   "metadata": {},
   "outputs": [],
   "source": [
    "age.drop(columns=[\n",
    "    'age',\n",
    "]).corrwith(age.age_grp).abs().sort_values()"
   ]
  },
  {
   "cell_type": "code",
   "execution_count": null,
   "metadata": {},
   "outputs": [],
   "source": [
    "train_age_X, test_age_X, train_age_Y, test_age_Y = train_test_split(age.drop(columns=[\n",
    "    'age',\n",
    "    'age_grp',\n",
    "    'age_grp2',\n",
    "    'ticket',\n",
    "    'name',\n",
    "] + age.columns[\n",
    "    age.columns.str.contains('title')\n",
    "].tolist()), age.age_grp2, test_size=0.1, random_state=0)"
   ]
  },
  {
   "cell_type": "code",
   "execution_count": null,
   "metadata": {},
   "outputs": [],
   "source": [
    "scaler = MinMaxScaler()\n",
    "\n",
    "train_age_X = scaler.fit_transform(train_age_X)\n",
    "\n",
    "test_age_X = scaler.transform(test_age_X)\n",
    "\n",
    "selector = SelectPercentile(percentile=30)\n",
    "\n",
    "train_age_X = selector.fit_transform(train_age_X, train_age_Y)\n",
    "\n",
    "test_age_X = selector.transform(test_age_X)"
   ]
  },
  {
   "cell_type": "code",
   "execution_count": null,
   "metadata": {
    "scrolled": true
   },
   "outputs": [],
   "source": [
    "pg = {\n",
    "    'n_neighbors' : np.arange(1, 30),\n",
    "    'weights' : ['uniform', 'distance'],\n",
    "    'algorithm' : ['auto', 'ball_tree', 'kd_tree', 'brute']\n",
    "}\n",
    "\n",
    "gs = GridSearchCV(estimator=KNeighborsClassifier(), param_grid=pg, cv=10, iid=False)\n",
    "\n",
    "gs.fit(train_age_X, train_age_Y)\n",
    "\n",
    "print(gs.best_score_)\n",
    "print(gs.best_params_)"
   ]
  },
  {
   "cell_type": "code",
   "execution_count": null,
   "metadata": {
    "scrolled": true
   },
   "outputs": [],
   "source": [
    "pg = {\n",
    "    'alpha' : np.arange(0, 1, 0.05),\n",
    "    'fit_prior' : [True, False]\n",
    "}\n",
    "\n",
    "gs = GridSearchCV(estimator=MultinomialNB(), param_grid=pg, cv=10, iid=False)\n",
    "\n",
    "gs.fit(train_age_X, train_age_Y)\n",
    "\n",
    "print(gs.best_score_)\n",
    "print(gs.best_params_)"
   ]
  },
  {
   "cell_type": "code",
   "execution_count": null,
   "metadata": {},
   "outputs": [],
   "source": [
    "pg = {\n",
    "    'n_estimators' : np.arange(10, 100, 5),\n",
    "    'criterion' : ['gini', 'entropy'],\n",
    "    'max_features' : ['auto', 'sqrt', 'log2', None],\n",
    "    'bootstrap' : [True, False]\n",
    "}\n",
    "\n",
    "gs = GridSearchCV(estimator=RandomForestClassifier(), param_grid=pg, cv=10, iid=False)\n",
    "\n",
    "gs.fit(train_age_X, train_age_Y)\n",
    "\n",
    "print(gs.best_score_)\n",
    "print(gs.best_params_)"
   ]
  },
  {
   "cell_type": "code",
   "execution_count": null,
   "metadata": {},
   "outputs": [],
   "source": [
    "rfc = RandomForestClassifier(bootstrap=True, criterion='gini', max_features='auto', n_estimators=25, random_state=0)\n",
    "rfc.fit(train_age_X, train_age_Y)\n",
    "\n",
    "# rfc.feature_importances_\n",
    "\n",
    "age_pred = rfc.predict(test_age_X)\n",
    "\n",
    "pd.DataFrame(\n",
    "    confusion_matrix(test_age_Y, age_pred, labels=test_age_Y.unique()),\n",
    "    columns=pd.MultiIndex.from_product([['Pred'], test_age_Y.unique()]),\n",
    "    index=pd.MultiIndex.from_product([['Actual'], test_age_Y.unique()])\n",
    ").T"
   ]
  },
  {
   "cell_type": "code",
   "execution_count": null,
   "metadata": {},
   "outputs": [],
   "source": [
    "accuracy_score(test_age_Y, age_pred)"
   ]
  },
  {
   "cell_type": "code",
   "execution_count": null,
   "metadata": {},
   "outputs": [],
   "source": [
    "precision_score(test_age_Y, age_pred)"
   ]
  },
  {
   "cell_type": "code",
   "execution_count": null,
   "metadata": {},
   "outputs": [],
   "source": [
    "recall_score(test_age_Y, age_pred)"
   ]
  },
  {
   "cell_type": "code",
   "execution_count": null,
   "metadata": {},
   "outputs": [],
   "source": [
    "f1_score(test_age_Y, age_pred)"
   ]
  },
  {
   "cell_type": "code",
   "execution_count": null,
   "metadata": {},
   "outputs": [],
   "source": [
    "train.sibsp.value_counts()"
   ]
  },
  {
   "cell_type": "code",
   "execution_count": null,
   "metadata": {},
   "outputs": [],
   "source": [
    "train.parch.value_counts()"
   ]
  },
  {
   "cell_type": "code",
   "execution_count": null,
   "metadata": {},
   "outputs": [],
   "source": [
    "train.loc[:, [\n",
    "    'sibsp',\n",
    "    'parch',\n",
    "]].sum(axis=1).value_counts().sort_index().plot.bar()"
   ]
  },
  {
   "cell_type": "code",
   "execution_count": null,
   "metadata": {},
   "outputs": [],
   "source": [
    "fig, ax = plt.subplots(figsize=(16,8))\n",
    "\n",
    "train.loc[:, [\n",
    "    'sibsp',\n",
    "    'parch',\n",
    "]].plot.kde(ax=ax)\n",
    "\n",
    "ax.set_xlim(0);"
   ]
  },
  {
   "cell_type": "code",
   "execution_count": null,
   "metadata": {},
   "outputs": [],
   "source": [
    "fig, ax = plt.subplots(figsize=(16,8))\n",
    "\n",
    "age.age.plot.kde(ax=ax)\n",
    "\n",
    "ax.set_xlim(0, age.age.max())\n",
    "\n",
    "ax.axvline(14, lw=2, ls=':', color='k')\n",
    "ax.axvline(13, lw=2, ls=':', color='k');"
   ]
  },
  {
   "cell_type": "markdown",
   "metadata": {},
   "source": [
    "# Train-Test Split"
   ]
  },
  {
   "cell_type": "code",
   "execution_count": null,
   "metadata": {},
   "outputs": [],
   "source": [
    "train_X, test_X, train_Y, test_Y = train_test_split(\n",
    "    train.drop(columns=[\n",
    "        'passengerid',\n",
    "        'survived',\n",
    "        'pclass',\n",
    "        'name',\n",
    "        'age',\n",
    "        'ticket',\n",
    "        'cabin',\n",
    "        'embarked',\n",
    "    ]),\n",
    "    train.survived,\n",
    "    test_size=0.1,\n",
    "    random_state=0\n",
    ")"
   ]
  },
  {
   "cell_type": "markdown",
   "metadata": {},
   "source": [
    "# Scale"
   ]
  },
  {
   "cell_type": "code",
   "execution_count": null,
   "metadata": {},
   "outputs": [],
   "source": [
    "scaler = MinMaxScaler()\n",
    "\n",
    "train_X = scaler.fit_transform(train_X)\n",
    "\n",
    "test_X = scaler.transform(test_X)"
   ]
  },
  {
   "cell_type": "markdown",
   "metadata": {},
   "source": [
    "# Logistic Regression"
   ]
  },
  {
   "cell_type": "code",
   "execution_count": null,
   "metadata": {},
   "outputs": [],
   "source": [
    "log_param_grid = {\n",
    "    'penalty' : ['l2', 'none'],\n",
    "    'fit_intercept' : [True, False],\n",
    "    'class_weight' : ['balanced', None],\n",
    "    'solver' : ['lbfgs'],\n",
    "    'max_iter' : np.arange(100, 500, 100)\n",
    "}\n",
    "\n",
    "log_gscv = GridSearchCV(estimator=LogisticRegression(), param_grid=log_param_grid, cv=10, iid=False)\n",
    "\n",
    "log_gscv.fit(train_X, train_Y)\n",
    "\n",
    "print(f\"LogRegression Best Score:\\n{log_gscv.best_score_}\")\n",
    "print(f\"LogRegression Best Params:\\n{log_gscv.best_params_}\")"
   ]
  },
  {
   "cell_type": "markdown",
   "metadata": {},
   "source": [
    "# SGD"
   ]
  },
  {
   "cell_type": "code",
   "execution_count": null,
   "metadata": {},
   "outputs": [],
   "source": [
    "sgd_params_grid = {\n",
    "    'loss' : ['hinge', 'log', 'modified_huber',\n",
    "              'squared_hinge', 'perceptron',\n",
    "              'squared_loss', 'huber', 'epsilon_insensitive',\n",
    "              'squared_epsilon_insensitive'],\n",
    "    'penalty' : ['none', 'l2', 'l1', 'elasticnet'],\n",
    "    'alpha' : np.arange(1e-4, 0.9, 0.05),\n",
    "    'fit_intercept' : [True, False],\n",
    "    'max_iter' : np.arange(1100, 1500, 50)\n",
    "}\n",
    "\n",
    "sgd_gscv = GridSearchCV(estimator=SGDClassifier(), param_grid=sgd_params_grid, cv=10, iid=False)\n",
    "\n",
    "sgd_gscv.fit(train_X, train_Y)\n",
    "\n",
    "print(f\"SGD Best Score:\\n{sgd_gscv.best_score_}\")\n",
    "print(f\"SGD Best Params:\\n{sgd_gscv.best_params_}\")"
   ]
  },
  {
   "cell_type": "markdown",
   "metadata": {},
   "source": [
    "# KNN"
   ]
  },
  {
   "cell_type": "code",
   "execution_count": null,
   "metadata": {},
   "outputs": [],
   "source": [
    "knn_param_grid = {\n",
    "    'n_neighbors' : np.arange(1, 25),\n",
    "    'weights' : ['uniform', 'distance'],\n",
    "    'algorithm' : ['auto', 'ball_tree', 'kd_tree', 'brute'],\n",
    "    'leaf_size' : np.arange(1, 45),\n",
    "    'p' : [1, 2]\n",
    "}\n",
    "\n",
    "knn_gscv = GridSearchCV(estimator=KNeighborsClassifier(), param_grid=knn_param_grid, cv=10, iid=False)\n",
    "\n",
    "knn_gscv.fit(train_X, train_Y)\n",
    "\n",
    "print(f\"SVC Best Score:\\n{knn_gscv.best_score_}\")\n",
    "\n",
    "print(f\"SCV Best Params:\\n{knn_gscv.best_params_}\")"
   ]
  },
  {
   "cell_type": "markdown",
   "metadata": {},
   "source": [
    "# SVC"
   ]
  },
  {
   "cell_type": "code",
   "execution_count": null,
   "metadata": {},
   "outputs": [],
   "source": [
    "svc_param_grid = {\n",
    "    'kernel' : ['rbf', 'poly', 'sigmoid'],\n",
    "    'decision_function_shape' : ['ovo', 'ovr'],\n",
    "    'degree' : [1, 2, 3, 4, 5],\n",
    "    'gamma' : ['auto', 'scale']\n",
    "}\n",
    "\n",
    "svc_gscv = GridSearchCV(estimator=SVC(), param_grid=svc_param_grid, cv=10, iid=False)\n",
    "\n",
    "svc_gscv.fit(train_X, train_Y)\n",
    "\n",
    "print(f\"SVC Best Score:\\n{svc_gscv.best_score_}\")\n",
    "\n",
    "print(f\"SCV Best Params:\\n{svc_gscv.best_params_}\")"
   ]
  },
  {
   "cell_type": "markdown",
   "metadata": {},
   "source": [
    "# Ada Boost"
   ]
  },
  {
   "cell_type": "code",
   "execution_count": null,
   "metadata": {},
   "outputs": [],
   "source": [
    "ada_param_grid = {\n",
    "    'n_estimators' : np.arange(25, 75, 5),\n",
    "    'learning_rate' : np.arange(0.75, 1.25, 0.05),\n",
    "    'algorithm' : ['SAMME', 'SAMME.R']\n",
    "}\n",
    "\n",
    "ada_gscv = GridSearchCV(estimator=AdaBoostClassifier(), param_grid=ada_param_grid, cv=10, iid=False)\n",
    "\n",
    "ada_gscv.fit(train_X, train_Y)\n",
    "\n",
    "print(f\"Ada Boost Score:\\n{ada_gscv.best_score_}\")\n",
    "\n",
    "print(f\"Ada Boost Best Params:\\n{ada_gscv.best_params_}\")"
   ]
  },
  {
   "cell_type": "code",
   "execution_count": null,
   "metadata": {},
   "outputs": [],
   "source": []
  }
 ],
 "metadata": {
  "anaconda-cloud": {},
  "kernelspec": {
   "display_name": "Python 3",
   "language": "python",
   "name": "python3"
  },
  "language_info": {
   "codemirror_mode": {
    "name": "ipython",
    "version": 3
   },
   "file_extension": ".py",
   "mimetype": "text/x-python",
   "name": "python",
   "nbconvert_exporter": "python",
   "pygments_lexer": "ipython3",
   "version": "3.7.4"
  },
  "varInspector": {
   "cols": {
    "lenName": 16,
    "lenType": 16,
    "lenVar": 40
   },
   "kernels_config": {
    "python": {
     "delete_cmd_postfix": "",
     "delete_cmd_prefix": "del ",
     "library": "var_list.py",
     "varRefreshCmd": "print(var_dic_list())"
    },
    "r": {
     "delete_cmd_postfix": ") ",
     "delete_cmd_prefix": "rm(",
     "library": "var_list.r",
     "varRefreshCmd": "cat(var_dic_list()) "
    }
   },
   "types_to_exclude": [
    "module",
    "function",
    "builtin_function_or_method",
    "instance",
    "_Feature"
   ],
   "window_display": false
  }
 },
 "nbformat": 4,
 "nbformat_minor": 2
}
