{
 "cells": [
  {
   "cell_type": "markdown",
   "metadata": {},
   "source": [
    "# Imports"
   ]
  },
  {
   "cell_type": "code",
   "execution_count": 62,
   "metadata": {},
   "outputs": [],
   "source": [
    "import pandas as pd\n",
    "import numpy as np\n",
    "\n",
    "from scipy import stats\n",
    "# from scipy.signal import argrelextrema\n",
    "\n",
    "# import itertools\n",
    "\n",
    "import matplotlib.pyplot as plt\n",
    "# from matplotlib import style\n",
    "import seaborn as sns; sns.set()\n",
    "\n",
    "# style.use('fivethirtyeight')\n",
    "\n",
    "from sklearn.preprocessing import MinMaxScaler, OneHotEncoder\n",
    "from sklearn.model_selection import train_test_split, RandomizedSearchCV\n",
    "from sklearn.feature_selection import SelectPercentile, f_classif, chi2, mutual_info_classif\n",
    "from sklearn.feature_extraction.text import TfidfVectorizer, CountVectorizer\n",
    "from sklearn.decomposition import PCA\n",
    "from sklearn.linear_model import LogisticRegression, SGDClassifier\n",
    "# from sklearn.neighbors import KNeighborsClassifier\n",
    "from sklearn.ensemble import (\n",
    "    AdaBoostClassifier, ExtraTreesClassifier, GradientBoostingClassifier, RandomForestClassifier,\n",
    "    BaggingClassifier, VotingClassifier, StackingClassifier\n",
    ")\n",
    "from sklearn.tree import DecisionTreeClassifier\n",
    "from sklearn.svm import SVC\n",
    "from sklearn.naive_bayes import BernoulliNB, GaussianNB\n",
    "from sklearn.neural_network import MLPClassifier\n",
    "\n",
    "from sklearn.pipeline import Pipeline\n",
    "\n",
    "from sklearn.metrics import confusion_matrix, classification_report\n",
    "\n",
    "%matplotlib inline"
   ]
  },
  {
   "cell_type": "markdown",
   "metadata": {},
   "source": [
    "# Data"
   ]
  },
  {
   "cell_type": "code",
   "execution_count": 3,
   "metadata": {},
   "outputs": [],
   "source": [
    "train = pd.read_csv(\"train.csv\")\n",
    "\n",
    "train.columns = train.columns.str.lower()\n",
    "\n",
    "train.set_index(keys='passengerid', inplace=True)"
   ]
  },
  {
   "cell_type": "markdown",
   "metadata": {},
   "source": [
    "- Separate `X` and `y`\n",
    "- Create train/test sets"
   ]
  },
  {
   "cell_type": "code",
   "execution_count": 72,
   "metadata": {},
   "outputs": [],
   "source": [
    "X = train.drop(columns='survived')\n",
    "\n",
    "y = train.survived\n",
    "\n",
    "X_train, X_test, y_train, y_test = train_test_split(X, y, test_size=0.3, stratify=y, random_state=0)"
   ]
  },
  {
   "cell_type": "markdown",
   "metadata": {},
   "source": [
    "# Encode Columns"
   ]
  },
  {
   "cell_type": "code",
   "execution_count": 74,
   "metadata": {},
   "outputs": [],
   "source": [
    "# convert dtype to \"category\"\n",
    "X_train[[\n",
    "    'pclass',\n",
    "    'cabin',\n",
    "    'embarked',\n",
    "]] = X_train.reindex(columns=[\n",
    "    'pclass',\n",
    "    'cabin',\n",
    "    'embarked',\n",
    "]).astype('category')"
   ]
  },
  {
   "cell_type": "code",
   "execution_count": 100,
   "metadata": {},
   "outputs": [],
   "source": [
    "cvect = CountVectorizer(min_df=0.1, binary=True)\n",
    "\n",
    "cvect_data = cvect.fit_transform(X_train.name).todense()\n",
    "\n",
    "cvect_cols = cvect.get_feature_names()\n",
    "\n",
    "cvect_df = pd.DataFrame(cvect_data, columns=cvect_cols, index=X_train.index)"
   ]
  },
  {
   "cell_type": "code",
   "execution_count": 111,
   "metadata": {},
   "outputs": [
    {
     "data": {
      "text/plain": [
       "passengerid\n",
       "232                 [347067]\n",
       "837                 [315097]\n",
       "640                 [376564]\n",
       "390               [SC, 1748]\n",
       "598                   [LINE]\n",
       "               ...          \n",
       "132    [SOTON/O.Q., 3101307]\n",
       "491                  [65304]\n",
       "839                   [1601]\n",
       "49                    [2662]\n",
       "81                  [345767]\n",
       "Name: ticket, Length: 623, dtype: object"
      ]
     },
     "execution_count": 111,
     "metadata": {},
     "output_type": "execute_result"
    }
   ],
   "source": [
    "X_train.ticket.str.split()"
   ]
  },
  {
   "cell_type": "code",
   "execution_count": 112,
   "metadata": {},
   "outputs": [
    {
     "data": {
      "text/html": [
       "<div>\n",
       "<style scoped>\n",
       "    .dataframe tbody tr th:only-of-type {\n",
       "        vertical-align: middle;\n",
       "    }\n",
       "\n",
       "    .dataframe tbody tr th {\n",
       "        vertical-align: top;\n",
       "    }\n",
       "\n",
       "    .dataframe thead th {\n",
       "        text-align: right;\n",
       "    }\n",
       "</style>\n",
       "<table border=\"1\" class=\"dataframe\">\n",
       "  <thead>\n",
       "    <tr style=\"text-align: right;\">\n",
       "      <th></th>\n",
       "      <th>pclass</th>\n",
       "      <th>name</th>\n",
       "      <th>sex</th>\n",
       "      <th>age</th>\n",
       "      <th>sibsp</th>\n",
       "      <th>parch</th>\n",
       "      <th>ticket</th>\n",
       "      <th>fare</th>\n",
       "      <th>cabin</th>\n",
       "      <th>embarked</th>\n",
       "    </tr>\n",
       "    <tr>\n",
       "      <th>passengerid</th>\n",
       "      <th></th>\n",
       "      <th></th>\n",
       "      <th></th>\n",
       "      <th></th>\n",
       "      <th></th>\n",
       "      <th></th>\n",
       "      <th></th>\n",
       "      <th></th>\n",
       "      <th></th>\n",
       "      <th></th>\n",
       "    </tr>\n",
       "  </thead>\n",
       "  <tbody>\n",
       "    <tr>\n",
       "      <th>232</th>\n",
       "      <td>3</td>\n",
       "      <td>Larsson, Mr. Bengt Edvin</td>\n",
       "      <td>male</td>\n",
       "      <td>29.0</td>\n",
       "      <td>0</td>\n",
       "      <td>0</td>\n",
       "      <td>347067</td>\n",
       "      <td>7.7750</td>\n",
       "      <td>NaN</td>\n",
       "      <td>S</td>\n",
       "    </tr>\n",
       "    <tr>\n",
       "      <th>837</th>\n",
       "      <td>3</td>\n",
       "      <td>Pasic, Mr. Jakob</td>\n",
       "      <td>male</td>\n",
       "      <td>21.0</td>\n",
       "      <td>0</td>\n",
       "      <td>0</td>\n",
       "      <td>315097</td>\n",
       "      <td>8.6625</td>\n",
       "      <td>NaN</td>\n",
       "      <td>S</td>\n",
       "    </tr>\n",
       "    <tr>\n",
       "      <th>640</th>\n",
       "      <td>3</td>\n",
       "      <td>Thorneycroft, Mr. Percival</td>\n",
       "      <td>male</td>\n",
       "      <td>NaN</td>\n",
       "      <td>1</td>\n",
       "      <td>0</td>\n",
       "      <td>376564</td>\n",
       "      <td>16.1000</td>\n",
       "      <td>NaN</td>\n",
       "      <td>S</td>\n",
       "    </tr>\n",
       "    <tr>\n",
       "      <th>390</th>\n",
       "      <td>2</td>\n",
       "      <td>Lehmann, Miss. Bertha</td>\n",
       "      <td>female</td>\n",
       "      <td>17.0</td>\n",
       "      <td>0</td>\n",
       "      <td>0</td>\n",
       "      <td>SC 1748</td>\n",
       "      <td>12.0000</td>\n",
       "      <td>NaN</td>\n",
       "      <td>C</td>\n",
       "    </tr>\n",
       "    <tr>\n",
       "      <th>598</th>\n",
       "      <td>3</td>\n",
       "      <td>Johnson, Mr. Alfred</td>\n",
       "      <td>male</td>\n",
       "      <td>49.0</td>\n",
       "      <td>0</td>\n",
       "      <td>0</td>\n",
       "      <td>LINE</td>\n",
       "      <td>0.0000</td>\n",
       "      <td>NaN</td>\n",
       "      <td>S</td>\n",
       "    </tr>\n",
       "  </tbody>\n",
       "</table>\n",
       "</div>"
      ],
      "text/plain": [
       "            pclass                        name     sex   age  sibsp  parch  \\\n",
       "passengerid                                                                  \n",
       "232              3    Larsson, Mr. Bengt Edvin    male  29.0      0      0   \n",
       "837              3            Pasic, Mr. Jakob    male  21.0      0      0   \n",
       "640              3  Thorneycroft, Mr. Percival    male   NaN      1      0   \n",
       "390              2       Lehmann, Miss. Bertha  female  17.0      0      0   \n",
       "598              3         Johnson, Mr. Alfred    male  49.0      0      0   \n",
       "\n",
       "              ticket     fare cabin embarked  \n",
       "passengerid                                   \n",
       "232           347067   7.7750   NaN        S  \n",
       "837           315097   8.6625   NaN        S  \n",
       "640           376564  16.1000   NaN        S  \n",
       "390          SC 1748  12.0000   NaN        C  \n",
       "598             LINE   0.0000   NaN        S  "
      ]
     },
     "execution_count": 112,
     "metadata": {},
     "output_type": "execute_result"
    }
   ],
   "source": [
    "X_train.head()"
   ]
  },
  {
   "cell_type": "code",
   "execution_count": null,
   "metadata": {},
   "outputs": [],
   "source": [
    "train.sex.replace({\n",
    "    'male' : 1,\n",
    "    'female' : 0\n",
    "}, inplace=True)\n",
    "\n",
    "train['missing_cnt'] = train.isnull().sum(axis=1)\n",
    "\n",
    "train['missing_any'] = train.missing_cnt > 0\n",
    "\n",
    "train = train.join(pd.get_dummies(train.embarked, prefix='embarked'))\n",
    "\n",
    "train = train.join(pd.get_dummies(train.pclass, prefix='pclass'))\n",
    "\n",
    "train = train.join(pd.get_dummies(train.name.str.split(', ').str[-1].str.split('.').str[0], prefix='title'))\n",
    "\n",
    "train.columns = train.columns.str.replace(' ', '_')\n",
    "\n",
    "train['miss_master'] = train.loc[:, [\n",
    "    'title_Master',\n",
    "    'title_Miss',\n",
    "]].sum(axis=1)\n",
    "\n",
    "pca = PCA(n_components=.99, random_state=0)\n",
    "\n",
    "train = train.join(pd.DataFrame(pca.fit_transform(train.loc[:, [\n",
    "    'miss_master',\n",
    "    'title_Miss',\n",
    "    'title_Master'\n",
    "]])).add_prefix('pca_'))"
   ]
  },
  {
   "cell_type": "markdown",
   "metadata": {},
   "source": [
    "## Age"
   ]
  },
  {
   "cell_type": "code",
   "execution_count": null,
   "metadata": {},
   "outputs": [],
   "source": [
    "age = train.loc[\n",
    "    train.age.notnull(),\n",
    "    'pclass':\n",
    "]"
   ]
  },
  {
   "cell_type": "code",
   "execution_count": null,
   "metadata": {},
   "outputs": [],
   "source": [
    "def poi(s):\n",
    "    \"\"\"\n",
    "    Takes a series of values, calculates the Gaussian KDE, and returns the Points of Inflection.\n",
    "    \n",
    "    Parameters\n",
    "    ----------\n",
    "    s : array-like\n",
    "        the values to be used for computing the Gaussian KDE\n",
    "    \n",
    "    Returns\n",
    "    -------\n",
    "    poi : array\n",
    "        a 1D array with the points of inflection\n",
    "    \"\"\"\n",
    "    \n",
    "    # compute the gaussian kde\n",
    "    gkde = stats.gaussian_kde(s)\n",
    "    \n",
    "    # get 10,000 x points between the 0 and maximum of s\n",
    "    x = np.linspace(0, s.max()+1, 10000)\n",
    "    \n",
    "    # estimate y points based on x points\n",
    "    y = gkde.pdf(x)\n",
    "    \n",
    "    # find all relative maxima\n",
    "    rel_max = argrelextrema(y, np.greater)[0]\n",
    "    \n",
    "    # find all relative minima\n",
    "    rel_min = argrelextrema(y, np.less)[0]\n",
    "    \n",
    "    # calculate change in x\n",
    "    dx = x[1] - x[0]\n",
    "    \n",
    "    # calculate the slope\n",
    "    dydx = np.gradient(y, dx)\n",
    "    \n",
    "    # find the index for max points of inflection\n",
    "    poi_max = argrelextrema(dydx, np.greater)[0]\n",
    "    \n",
    "    # find the index for min points of inflection\n",
    "    poi_min = argrelextrema(dydx, np.less)[0]\n",
    "    \n",
    "    return x[rel_max], x[rel_min], x[poi_max], x[poi_min]"
   ]
  },
  {
   "cell_type": "code",
   "execution_count": null,
   "metadata": {},
   "outputs": [],
   "source": [
    "POI = poi(age.age)\n",
    "\n",
    "rmax = POI[0]\n",
    "\n",
    "rmin = POI[1]\n",
    "\n",
    "pmax = POI[2]\n",
    "\n",
    "pmin = POI[3]\n",
    "\n",
    "fig, ax = plt.subplots(figsize=(16,8))\n",
    "\n",
    "age.age.plot.kde(ax=ax, label='age', alpha=.5)\n",
    "\n",
    "ax.set_xlim(0, age.age.max())\n",
    "\n",
    "for i in rmax:\n",
    "    ax.axvline(i, color='k', ls=':')\n",
    "\n",
    "for i in rmin:\n",
    "    ax.axvline(i, color='k', ls=':')\n",
    "\n",
    "for i in pmax:\n",
    "    ax.axvline(i, color='g', ls=':', lw=2)\n",
    "\n",
    "for i in pmin:\n",
    "    ax.axvline(i, color='r', ls=':', lw=2);"
   ]
  },
  {
   "cell_type": "code",
   "execution_count": null,
   "metadata": {},
   "outputs": [],
   "source": [
    "p = np.array(sorted(list(itertools.chain.from_iterable(POI))))"
   ]
  },
  {
   "cell_type": "code",
   "execution_count": null,
   "metadata": {},
   "outputs": [],
   "source": [
    "age['age_grp'] = np.where(\n",
    "    age.age <= p[0], 0, np.where(\n",
    "        age.age <= p[1], 1, np.where(\n",
    "            age.age <= p[2], 2, np.where(\n",
    "                age.age <= p[3], 3, np.where(\n",
    "                    age.age <= p[4], 4, np.where(\n",
    "                        age.age <= p[5], 5, np.where(\n",
    "                            age.age <= p[6], 6, np.where(\n",
    "                                age.age <= p[7], 7, np.where(\n",
    "                                    age.age <= p[8], 8, np.where(\n",
    "                                        age.age <= p[9], 9, 10\n",
    "                                    )\n",
    "                                )\n",
    "                            )\n",
    "                        )\n",
    "                    )\n",
    "                )\n",
    "            )\n",
    "        )\n",
    "    )\n",
    ")"
   ]
  },
  {
   "cell_type": "code",
   "execution_count": null,
   "metadata": {},
   "outputs": [],
   "source": [
    "age.age_grp.value_counts().sort_index().plot.bar();"
   ]
  },
  {
   "cell_type": "code",
   "execution_count": null,
   "metadata": {},
   "outputs": [],
   "source": [
    "age['age_grp2'] = age.age < p[3]"
   ]
  },
  {
   "cell_type": "code",
   "execution_count": null,
   "metadata": {},
   "outputs": [],
   "source": [
    "age = age.loc[:,age.notnull().all()].copy()"
   ]
  },
  {
   "cell_type": "code",
   "execution_count": null,
   "metadata": {},
   "outputs": [],
   "source": [
    "age.drop(columns=[\n",
    "    'age',\n",
    "]).corrwith(age.age_grp).abs().sort_values()"
   ]
  },
  {
   "cell_type": "code",
   "execution_count": null,
   "metadata": {},
   "outputs": [],
   "source": [
    "train_age_X, test_age_X, train_age_Y, test_age_Y = train_test_split(age.drop(columns=[\n",
    "    'age',\n",
    "    'age_grp',\n",
    "    'age_grp2',\n",
    "    'ticket',\n",
    "    'name',\n",
    "] + age.columns[\n",
    "    age.columns.str.contains('title')\n",
    "].tolist()), age.age_grp2, test_size=0.1, random_state=0)"
   ]
  },
  {
   "cell_type": "code",
   "execution_count": null,
   "metadata": {},
   "outputs": [],
   "source": [
    "scaler = MinMaxScaler()\n",
    "\n",
    "train_age_X = scaler.fit_transform(train_age_X)\n",
    "\n",
    "test_age_X = scaler.transform(test_age_X)\n",
    "\n",
    "selector = SelectPercentile(percentile=30)\n",
    "\n",
    "train_age_X = selector.fit_transform(train_age_X, train_age_Y)\n",
    "\n",
    "test_age_X = selector.transform(test_age_X)"
   ]
  },
  {
   "cell_type": "code",
   "execution_count": null,
   "metadata": {
    "scrolled": true
   },
   "outputs": [],
   "source": [
    "pg = {\n",
    "    'n_neighbors' : np.arange(1, 30),\n",
    "    'weights' : ['uniform', 'distance'],\n",
    "    'algorithm' : ['auto', 'ball_tree', 'kd_tree', 'brute']\n",
    "}\n",
    "\n",
    "gs = GridSearchCV(estimator=KNeighborsClassifier(), param_grid=pg, cv=10, iid=False)\n",
    "\n",
    "gs.fit(train_age_X, train_age_Y)\n",
    "\n",
    "print(gs.best_score_)\n",
    "print(gs.best_params_)"
   ]
  },
  {
   "cell_type": "code",
   "execution_count": null,
   "metadata": {
    "scrolled": true
   },
   "outputs": [],
   "source": [
    "pg = {\n",
    "    'alpha' : np.arange(0, 1, 0.05),\n",
    "    'fit_prior' : [True, False]\n",
    "}\n",
    "\n",
    "gs = GridSearchCV(estimator=MultinomialNB(), param_grid=pg, cv=10, iid=False)\n",
    "\n",
    "gs.fit(train_age_X, train_age_Y)\n",
    "\n",
    "print(gs.best_score_)\n",
    "print(gs.best_params_)"
   ]
  },
  {
   "cell_type": "code",
   "execution_count": null,
   "metadata": {},
   "outputs": [],
   "source": [
    "pg = {\n",
    "    'n_estimators' : np.arange(10, 100, 5),\n",
    "    'criterion' : ['gini', 'entropy'],\n",
    "    'max_features' : ['auto', 'sqrt', 'log2', None],\n",
    "    'bootstrap' : [True, False]\n",
    "}\n",
    "\n",
    "gs = GridSearchCV(estimator=RandomForestClassifier(), param_grid=pg, cv=10, iid=False)\n",
    "\n",
    "gs.fit(train_age_X, train_age_Y)\n",
    "\n",
    "print(gs.best_score_)\n",
    "print(gs.best_params_)"
   ]
  },
  {
   "cell_type": "code",
   "execution_count": null,
   "metadata": {},
   "outputs": [],
   "source": [
    "rfc = RandomForestClassifier(bootstrap=True, criterion='gini', max_features='auto', n_estimators=25, random_state=0)\n",
    "rfc.fit(train_age_X, train_age_Y)\n",
    "\n",
    "# rfc.feature_importances_\n",
    "\n",
    "age_pred = rfc.predict(test_age_X)\n",
    "\n",
    "pd.DataFrame(\n",
    "    confusion_matrix(test_age_Y, age_pred, labels=test_age_Y.unique()),\n",
    "    columns=pd.MultiIndex.from_product([['Pred'], test_age_Y.unique()]),\n",
    "    index=pd.MultiIndex.from_product([['Actual'], test_age_Y.unique()])\n",
    ").T"
   ]
  },
  {
   "cell_type": "code",
   "execution_count": null,
   "metadata": {},
   "outputs": [],
   "source": [
    "accuracy_score(test_age_Y, age_pred)"
   ]
  },
  {
   "cell_type": "code",
   "execution_count": null,
   "metadata": {},
   "outputs": [],
   "source": [
    "precision_score(test_age_Y, age_pred)"
   ]
  },
  {
   "cell_type": "code",
   "execution_count": null,
   "metadata": {},
   "outputs": [],
   "source": [
    "recall_score(test_age_Y, age_pred)"
   ]
  },
  {
   "cell_type": "code",
   "execution_count": null,
   "metadata": {},
   "outputs": [],
   "source": [
    "f1_score(test_age_Y, age_pred)"
   ]
  },
  {
   "cell_type": "code",
   "execution_count": null,
   "metadata": {},
   "outputs": [],
   "source": [
    "train.sibsp.value_counts()"
   ]
  },
  {
   "cell_type": "code",
   "execution_count": null,
   "metadata": {},
   "outputs": [],
   "source": [
    "train.parch.value_counts()"
   ]
  },
  {
   "cell_type": "code",
   "execution_count": null,
   "metadata": {},
   "outputs": [],
   "source": [
    "train.loc[:, [\n",
    "    'sibsp',\n",
    "    'parch',\n",
    "]].sum(axis=1).value_counts().sort_index().plot.bar()"
   ]
  },
  {
   "cell_type": "code",
   "execution_count": null,
   "metadata": {},
   "outputs": [],
   "source": [
    "fig, ax = plt.subplots(figsize=(16,8))\n",
    "\n",
    "train.loc[:, [\n",
    "    'sibsp',\n",
    "    'parch',\n",
    "]].plot.kde(ax=ax)\n",
    "\n",
    "ax.set_xlim(0);"
   ]
  },
  {
   "cell_type": "code",
   "execution_count": null,
   "metadata": {},
   "outputs": [],
   "source": [
    "fig, ax = plt.subplots(figsize=(16,8))\n",
    "\n",
    "age.age.plot.kde(ax=ax)\n",
    "\n",
    "ax.set_xlim(0, age.age.max())\n",
    "\n",
    "ax.axvline(14, lw=2, ls=':', color='k')\n",
    "ax.axvline(13, lw=2, ls=':', color='k');"
   ]
  },
  {
   "cell_type": "markdown",
   "metadata": {},
   "source": [
    "# Train-Test Split"
   ]
  },
  {
   "cell_type": "code",
   "execution_count": null,
   "metadata": {},
   "outputs": [],
   "source": [
    "train_X, test_X, train_Y, test_Y = train_test_split(\n",
    "    train.drop(columns=[\n",
    "        'passengerid',\n",
    "        'survived',\n",
    "        'pclass',\n",
    "        'name',\n",
    "        'age',\n",
    "        'ticket',\n",
    "        'cabin',\n",
    "        'embarked',\n",
    "    ]),\n",
    "    train.survived,\n",
    "    test_size=0.1,\n",
    "    random_state=0\n",
    ")"
   ]
  },
  {
   "cell_type": "markdown",
   "metadata": {},
   "source": [
    "# Scale"
   ]
  },
  {
   "cell_type": "code",
   "execution_count": null,
   "metadata": {},
   "outputs": [],
   "source": [
    "scaler = MinMaxScaler()\n",
    "\n",
    "train_X = scaler.fit_transform(train_X)\n",
    "\n",
    "test_X = scaler.transform(test_X)"
   ]
  },
  {
   "cell_type": "markdown",
   "metadata": {},
   "source": [
    "# Logistic Regression"
   ]
  },
  {
   "cell_type": "code",
   "execution_count": null,
   "metadata": {},
   "outputs": [],
   "source": [
    "log_param_grid = {\n",
    "    'penalty' : ['l2', 'none'],\n",
    "    'fit_intercept' : [True, False],\n",
    "    'class_weight' : ['balanced', None],\n",
    "    'solver' : ['lbfgs'],\n",
    "    'max_iter' : np.arange(100, 500, 100)\n",
    "}\n",
    "\n",
    "log_gscv = GridSearchCV(estimator=LogisticRegression(), param_grid=log_param_grid, cv=10, iid=False)\n",
    "\n",
    "log_gscv.fit(train_X, train_Y)\n",
    "\n",
    "print(f\"LogRegression Best Score:\\n{log_gscv.best_score_}\")\n",
    "print(f\"LogRegression Best Params:\\n{log_gscv.best_params_}\")"
   ]
  },
  {
   "cell_type": "markdown",
   "metadata": {},
   "source": [
    "# SGD"
   ]
  },
  {
   "cell_type": "code",
   "execution_count": null,
   "metadata": {},
   "outputs": [],
   "source": [
    "sgd_params_grid = {\n",
    "    'loss' : ['hinge', 'log', 'modified_huber',\n",
    "              'squared_hinge', 'perceptron',\n",
    "              'squared_loss', 'huber', 'epsilon_insensitive',\n",
    "              'squared_epsilon_insensitive'],\n",
    "    'penalty' : ['none', 'l2', 'l1', 'elasticnet'],\n",
    "    'alpha' : np.arange(1e-4, 0.9, 0.05),\n",
    "    'fit_intercept' : [True, False],\n",
    "    'max_iter' : np.arange(1100, 1500, 50)\n",
    "}\n",
    "\n",
    "sgd_gscv = GridSearchCV(estimator=SGDClassifier(), param_grid=sgd_params_grid, cv=10, iid=False)\n",
    "\n",
    "sgd_gscv.fit(train_X, train_Y)\n",
    "\n",
    "print(f\"SGD Best Score:\\n{sgd_gscv.best_score_}\")\n",
    "print(f\"SGD Best Params:\\n{sgd_gscv.best_params_}\")"
   ]
  },
  {
   "cell_type": "markdown",
   "metadata": {},
   "source": [
    "# KNN"
   ]
  },
  {
   "cell_type": "code",
   "execution_count": null,
   "metadata": {},
   "outputs": [],
   "source": [
    "knn_param_grid = {\n",
    "    'n_neighbors' : np.arange(1, 25),\n",
    "    'weights' : ['uniform', 'distance'],\n",
    "    'algorithm' : ['auto', 'ball_tree', 'kd_tree', 'brute'],\n",
    "    'leaf_size' : np.arange(1, 45),\n",
    "    'p' : [1, 2]\n",
    "}\n",
    "\n",
    "knn_gscv = GridSearchCV(estimator=KNeighborsClassifier(), param_grid=knn_param_grid, cv=10, iid=False)\n",
    "\n",
    "knn_gscv.fit(train_X, train_Y)\n",
    "\n",
    "print(f\"SVC Best Score:\\n{knn_gscv.best_score_}\")\n",
    "\n",
    "print(f\"SCV Best Params:\\n{knn_gscv.best_params_}\")"
   ]
  },
  {
   "cell_type": "markdown",
   "metadata": {},
   "source": [
    "# SVC"
   ]
  },
  {
   "cell_type": "code",
   "execution_count": null,
   "metadata": {},
   "outputs": [],
   "source": [
    "svc_param_grid = {\n",
    "    'kernel' : ['rbf', 'poly', 'sigmoid'],\n",
    "    'decision_function_shape' : ['ovo', 'ovr'],\n",
    "    'degree' : [1, 2, 3, 4, 5],\n",
    "    'gamma' : ['auto', 'scale']\n",
    "}\n",
    "\n",
    "svc_gscv = GridSearchCV(estimator=SVC(), param_grid=svc_param_grid, cv=10, iid=False)\n",
    "\n",
    "svc_gscv.fit(train_X, train_Y)\n",
    "\n",
    "print(f\"SVC Best Score:\\n{svc_gscv.best_score_}\")\n",
    "\n",
    "print(f\"SCV Best Params:\\n{svc_gscv.best_params_}\")"
   ]
  },
  {
   "cell_type": "markdown",
   "metadata": {},
   "source": [
    "# Ada Boost"
   ]
  },
  {
   "cell_type": "code",
   "execution_count": null,
   "metadata": {},
   "outputs": [],
   "source": [
    "ada_param_grid = {\n",
    "    'n_estimators' : np.arange(25, 75, 5),\n",
    "    'learning_rate' : np.arange(0.75, 1.25, 0.05),\n",
    "    'algorithm' : ['SAMME', 'SAMME.R']\n",
    "}\n",
    "\n",
    "ada_gscv = GridSearchCV(estimator=AdaBoostClassifier(), param_grid=ada_param_grid, cv=10, iid=False)\n",
    "\n",
    "ada_gscv.fit(train_X, train_Y)\n",
    "\n",
    "print(f\"Ada Boost Score:\\n{ada_gscv.best_score_}\")\n",
    "\n",
    "print(f\"Ada Boost Best Params:\\n{ada_gscv.best_params_}\")"
   ]
  },
  {
   "cell_type": "code",
   "execution_count": null,
   "metadata": {},
   "outputs": [],
   "source": []
  }
 ],
 "metadata": {
  "anaconda-cloud": {},
  "kernelspec": {
   "display_name": "Python 3",
   "language": "python",
   "name": "python3"
  },
  "language_info": {
   "codemirror_mode": {
    "name": "ipython",
    "version": 3
   },
   "file_extension": ".py",
   "mimetype": "text/x-python",
   "name": "python",
   "nbconvert_exporter": "python",
   "pygments_lexer": "ipython3",
   "version": "3.7.6"
  },
  "varInspector": {
   "cols": {
    "lenName": 16,
    "lenType": 16,
    "lenVar": 40
   },
   "kernels_config": {
    "python": {
     "delete_cmd_postfix": "",
     "delete_cmd_prefix": "del ",
     "library": "var_list.py",
     "varRefreshCmd": "print(var_dic_list())"
    },
    "r": {
     "delete_cmd_postfix": ") ",
     "delete_cmd_prefix": "rm(",
     "library": "var_list.r",
     "varRefreshCmd": "cat(var_dic_list()) "
    }
   },
   "types_to_exclude": [
    "module",
    "function",
    "builtin_function_or_method",
    "instance",
    "_Feature"
   ],
   "window_display": false
  }
 },
 "nbformat": 4,
 "nbformat_minor": 2
}
