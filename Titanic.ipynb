{
 "cells": [
  {
   "cell_type": "markdown",
   "metadata": {},
   "source": [
    "# Import Data"
   ]
  },
  {
   "cell_type": "code",
   "execution_count": 897,
   "metadata": {},
   "outputs": [],
   "source": [
    "import pandas as pd\n",
    "import numpy as np\n",
    "import seaborn as sns\n",
    "import matplotlib.pyplot as plt\n",
    "from matplotlib import style\n",
    "import itertools\n",
    "\n",
    "style.use('fivethirtyeight')\n",
    "\n",
    "%matplotlib inline"
   ]
  },
  {
   "cell_type": "code",
   "execution_count": 898,
   "metadata": {},
   "outputs": [],
   "source": [
    "train = pd.read_csv(\"train.csv\")"
   ]
  },
  {
   "cell_type": "code",
   "execution_count": 899,
   "metadata": {},
   "outputs": [],
   "source": [
    "test = pd.read_csv(\"test.csv\")"
   ]
  },
  {
   "cell_type": "code",
   "execution_count": 900,
   "metadata": {},
   "outputs": [],
   "source": [
    "df = pd.concat([\n",
    "    train,\n",
    "    test\n",
    "], keys = [\n",
    "    'train',\n",
    "    'test'\n",
    "], sort = False)"
   ]
  },
  {
   "cell_type": "markdown",
   "metadata": {},
   "source": [
    "# Clean Up Column Names"
   ]
  },
  {
   "cell_type": "code",
   "execution_count": 901,
   "metadata": {},
   "outputs": [],
   "source": [
    "df.columns = df.columns.str.lower()"
   ]
  },
  {
   "cell_type": "markdown",
   "metadata": {},
   "source": [
    "# Encode Columns"
   ]
  },
  {
   "cell_type": "code",
   "execution_count": 902,
   "metadata": {},
   "outputs": [
    {
     "data": {
      "text/plain": [
       "passengerid    891\n",
       "survived         2\n",
       "pclass           3\n",
       "name           891\n",
       "sex              2\n",
       "age             88\n",
       "sibsp            7\n",
       "parch            7\n",
       "ticket         681\n",
       "fare           248\n",
       "cabin          147\n",
       "embarked         3\n",
       "dtype: int64"
      ]
     },
     "execution_count": 902,
     "metadata": {},
     "output_type": "execute_result"
    }
   ],
   "source": [
    "df.loc['train'].nunique()"
   ]
  },
  {
   "cell_type": "markdown",
   "metadata": {},
   "source": [
    "- Columns with 1 unique value can be dropped.\n",
    "- Columns with 2 unique values can be encoded.\n",
    "- Columns with 3-5 unique values can be one-hot encoded (dummied) as long as they are categorical.\n",
    "    - For example, `pclass` is categorical (the passenger class), while `sibsp` and `parch` are not (number of siblings/spouses or parents/children traveling with the passenger)."
   ]
  },
  {
   "cell_type": "code",
   "execution_count": 903,
   "metadata": {
    "scrolled": true
   },
   "outputs": [],
   "source": [
    "df.loc[:, 'sex'] = df.loc[:, 'sex'].astype('category').cat.codes"
   ]
  },
  {
   "cell_type": "code",
   "execution_count": 904,
   "metadata": {},
   "outputs": [],
   "source": [
    "df = df.join(pd.get_dummies(df.embarked, prefix = 'embarked')).drop(columns = 'embarked')"
   ]
  },
  {
   "cell_type": "code",
   "execution_count": 905,
   "metadata": {},
   "outputs": [],
   "source": [
    "df = df.join(pd.get_dummies(df.pclass, prefix='pclass')).drop(columns = 'pclass')"
   ]
  },
  {
   "cell_type": "markdown",
   "metadata": {},
   "source": [
    "# Drop Passenger ID column"
   ]
  },
  {
   "cell_type": "code",
   "execution_count": 906,
   "metadata": {},
   "outputs": [],
   "source": [
    "df.drop(columns='passengerid', inplace = True)"
   ]
  },
  {
   "cell_type": "markdown",
   "metadata": {},
   "source": [
    "# Label Columns Categorical/Continuous/Other"
   ]
  },
  {
   "cell_type": "code",
   "execution_count": 907,
   "metadata": {},
   "outputs": [
    {
     "data": {
      "text/html": [
       "<div>\n",
       "<style scoped>\n",
       "    .dataframe tbody tr th:only-of-type {\n",
       "        vertical-align: middle;\n",
       "    }\n",
       "\n",
       "    .dataframe tbody tr th {\n",
       "        vertical-align: top;\n",
       "    }\n",
       "\n",
       "    .dataframe thead th {\n",
       "        text-align: right;\n",
       "    }\n",
       "</style>\n",
       "<table border=\"1\" class=\"dataframe\">\n",
       "  <thead>\n",
       "    <tr style=\"text-align: right;\">\n",
       "      <th></th>\n",
       "      <th></th>\n",
       "      <th>survived</th>\n",
       "      <th>name</th>\n",
       "      <th>sex</th>\n",
       "      <th>age</th>\n",
       "      <th>sibsp</th>\n",
       "      <th>parch</th>\n",
       "      <th>ticket</th>\n",
       "      <th>fare</th>\n",
       "      <th>cabin</th>\n",
       "      <th>embarked_C</th>\n",
       "      <th>embarked_Q</th>\n",
       "      <th>embarked_S</th>\n",
       "      <th>pclass_1</th>\n",
       "      <th>pclass_2</th>\n",
       "      <th>pclass_3</th>\n",
       "    </tr>\n",
       "  </thead>\n",
       "  <tbody>\n",
       "    <tr>\n",
       "      <th>train</th>\n",
       "      <th>0</th>\n",
       "      <td>0.0</td>\n",
       "      <td>Braund, Mr. Owen Harris</td>\n",
       "      <td>1</td>\n",
       "      <td>22.0</td>\n",
       "      <td>1</td>\n",
       "      <td>0</td>\n",
       "      <td>A/5 21171</td>\n",
       "      <td>7.25</td>\n",
       "      <td>NaN</td>\n",
       "      <td>0</td>\n",
       "      <td>0</td>\n",
       "      <td>1</td>\n",
       "      <td>0</td>\n",
       "      <td>0</td>\n",
       "      <td>1</td>\n",
       "    </tr>\n",
       "  </tbody>\n",
       "</table>\n",
       "</div>"
      ],
      "text/plain": [
       "         survived                     name  sex   age  sibsp  parch  \\\n",
       "train 0       0.0  Braund, Mr. Owen Harris    1  22.0      1      0   \n",
       "\n",
       "            ticket  fare cabin  embarked_C  embarked_Q  embarked_S  pclass_1  \\\n",
       "train 0  A/5 21171  7.25   NaN           0           0           1         0   \n",
       "\n",
       "         pclass_2  pclass_3  \n",
       "train 0         0         1  "
      ]
     },
     "execution_count": 907,
     "metadata": {},
     "output_type": "execute_result"
    }
   ],
   "source": [
    "df.head(1)"
   ]
  },
  {
   "cell_type": "code",
   "execution_count": 908,
   "metadata": {},
   "outputs": [],
   "source": [
    "cat_df = df.loc[:, [\n",
    "    'survived',\n",
    "    'sex',\n",
    "    'sibsp',\n",
    "    'parch',\n",
    "    'embarked_C',\n",
    "    'embarked_Q',\n",
    "    'embarked_S',\n",
    "    'pclass_1',\n",
    "    'pclass_2',\n",
    "    'pclass_3'\n",
    "]].copy()\n",
    "cont_df = df.loc[:, [\n",
    "    'age',\n",
    "    'fare'\n",
    "]].copy()\n",
    "other_df = df.loc[:, [\n",
    "    'name',\n",
    "    'ticket',\n",
    "    'cabin'\n",
    "]].copy()"
   ]
  },
  {
   "cell_type": "code",
   "execution_count": 909,
   "metadata": {},
   "outputs": [],
   "source": [
    "cat_cols = pd.MultiIndex.from_product([['categorical'], cat_df.columns])\n",
    "cont_cols = pd.MultiIndex.from_product([['continuous'], cont_df.columns])\n",
    "other_cols = pd.MultiIndex.from_product([['other'], other_df.columns])"
   ]
  },
  {
   "cell_type": "code",
   "execution_count": 910,
   "metadata": {},
   "outputs": [],
   "source": [
    "cat_df.columns = cat_cols\n",
    "cont_df.columns = cont_cols\n",
    "other_df.columns = other_cols"
   ]
  },
  {
   "cell_type": "code",
   "execution_count": 911,
   "metadata": {},
   "outputs": [],
   "source": [
    "df = cat_df.join([cont_df, other_df])"
   ]
  },
  {
   "cell_type": "markdown",
   "metadata": {},
   "source": [
    "# Limit to Numeric Columns for First Run"
   ]
  },
  {
   "cell_type": "code",
   "execution_count": 912,
   "metadata": {
    "scrolled": true
   },
   "outputs": [],
   "source": [
    "train_n = df.loc['train'].select_dtypes(exclude=['O']).copy()"
   ]
  },
  {
   "cell_type": "markdown",
   "metadata": {},
   "source": [
    "# Check for Missing Values"
   ]
  },
  {
   "cell_type": "code",
   "execution_count": 913,
   "metadata": {},
   "outputs": [
    {
     "data": {
      "text/plain": [
       "categorical  survived      False\n",
       "             sex           False\n",
       "             sibsp         False\n",
       "             parch         False\n",
       "             embarked_C    False\n",
       "             embarked_Q    False\n",
       "             embarked_S    False\n",
       "             pclass_1      False\n",
       "             pclass_2      False\n",
       "             pclass_3      False\n",
       "continuous   age            True\n",
       "             fare          False\n",
       "dtype: bool"
      ]
     },
     "execution_count": 913,
     "metadata": {},
     "output_type": "execute_result"
    }
   ],
   "source": [
    "train_n.isnull().any()"
   ]
  },
  {
   "cell_type": "markdown",
   "metadata": {},
   "source": [
    "Drop nulls for now."
   ]
  },
  {
   "cell_type": "code",
   "execution_count": 914,
   "metadata": {},
   "outputs": [],
   "source": [
    "train_n.dropna(inplace=True)"
   ]
  },
  {
   "cell_type": "markdown",
   "metadata": {},
   "source": [
    "# Feature Importance"
   ]
  },
  {
   "cell_type": "markdown",
   "metadata": {},
   "source": [
    "### Preprocess the data first"
   ]
  },
  {
   "cell_type": "code",
   "execution_count": 915,
   "metadata": {},
   "outputs": [
    {
     "name": "stdout",
     "output_type": "stream",
     "text": [
      "('categorical', 'sex') has importance 0.27125977704641724\n",
      "('continuous', 'age') has importance 0.2694229336668874\n",
      "('continuous', 'fare') has importance 0.22168415804962982\n",
      "('categorical', 'pclass_1') has importance 0.05429415146258565\n",
      "('categorical', 'sibsp') has importance 0.043007418167509553\n",
      "('categorical', 'parch') has importance 0.041474446744592906\n",
      "('categorical', 'pclass_3') has importance 0.03916855006111268\n",
      "('categorical', 'pclass_2') has importance 0.03143758505440361\n",
      "('categorical', 'embarked_S') has importance 0.013566255912059877\n",
      "('categorical', 'embarked_C') has importance 0.011958941711659024\n",
      "('categorical', 'embarked_Q') has importance 0.002725782123142223\n",
      "It appears that [('categorical', 'sex'), ('continuous', 'age'), ('continuous', 'fare')] are very important (sum = 0.7623668687629345)\n"
     ]
    }
   ],
   "source": [
    "from sklearn import preprocessing\n",
    "\n",
    "X = train_n.drop(columns='survived', level=1)\n",
    "scaled_X = preprocessing.scale(X)\n",
    "y = train_n.categorical.survived\n",
    "\n",
    "from sklearn.ensemble import ExtraTreesClassifier\n",
    "\n",
    "model = ExtraTreesClassifier()\n",
    "\n",
    "fit = model.fit(scaled_X, y)\n",
    "\n",
    "importances = fit.feature_importances_\n",
    "indices = np.argsort(importances)[::-1]\n",
    "\n",
    "for f in range(X.shape[1]):\n",
    "    print(f\"{X.columns[indices[f]]} has importance {importances[indices[f]]}\")\n",
    "\n",
    "print(f\"It appears that {X.columns[indices[:3]].tolist()} are very important (sum = {sum(importances[indices][:3])})\")"
   ]
  },
  {
   "cell_type": "markdown",
   "metadata": {},
   "source": [
    "# Impute Missing Values"
   ]
  },
  {
   "cell_type": "code",
   "execution_count": 916,
   "metadata": {},
   "outputs": [
    {
     "data": {
      "text/plain": [
       "categorical  survived       True\n",
       "             sex           False\n",
       "             sibsp         False\n",
       "             parch         False\n",
       "             embarked_C    False\n",
       "             embarked_Q    False\n",
       "             embarked_S    False\n",
       "             pclass_1      False\n",
       "             pclass_2      False\n",
       "             pclass_3      False\n",
       "continuous   age            True\n",
       "             fare           True\n",
       "other        name          False\n",
       "             ticket        False\n",
       "             cabin          True\n",
       "dtype: bool"
      ]
     },
     "execution_count": 916,
     "metadata": {},
     "output_type": "execute_result"
    }
   ],
   "source": [
    "df.isnull().any()"
   ]
  },
  {
   "cell_type": "markdown",
   "metadata": {},
   "source": [
    "Ignore the `survived` column as this is what we're trying to predict with our `test` data.\n",
    "\n",
    "---\n",
    "\n",
    "At the very least, I need to impute values in the `age` column as these showed high feature importance.\n",
    "\n",
    "Let's investigate the relationship between `age` and the other columns.\n",
    "\n",
    "Some of these columns are discrete and `age` is continuous. Let's check a few options for comparing continuous and categorical variables."
   ]
  },
  {
   "cell_type": "markdown",
   "metadata": {},
   "source": [
    "# Point Biserial Correlation"
   ]
  },
  {
   "cell_type": "markdown",
   "metadata": {},
   "source": [
    "To use the Point Biserial Correlation test, we first have to check our assumptions...\n",
    "- Is `age` normally distributed?\n",
    "- Is `age` homoscedastic?\n",
    "\n",
    "As a side note, the Point Biserial Correlation can only be used to compare a continous variable with a dichotomous variable."
   ]
  },
  {
   "cell_type": "markdown",
   "metadata": {},
   "source": [
    "### Normal Test"
   ]
  },
  {
   "cell_type": "code",
   "execution_count": 917,
   "metadata": {},
   "outputs": [],
   "source": [
    "from scipy.stats import normaltest, skewtest, kurtosistest"
   ]
  },
  {
   "cell_type": "code",
   "execution_count": 918,
   "metadata": {},
   "outputs": [
    {
     "data": {
      "image/png": "[encoded data removed]",
      "text/plain": [
       "<Figure size 432x288 with 1 Axes>"
      ]
     },
     "metadata": {
      "needs_background": "light"
     },
     "output_type": "display_data"
    }
   ],
   "source": [
    "df.continuous.age.plot.hist();"
   ]
  },
  {
   "cell_type": "code",
   "execution_count": 919,
   "metadata": {},
   "outputs": [
    {
     "data": {
      "text/plain": [
       "NormaltestResult(statistic=28.167942011008588, pvalue=7.645556622690597e-07)"
      ]
     },
     "execution_count": 919,
     "metadata": {},
     "output_type": "execute_result"
    }
   ],
   "source": [
    "normaltest(df.continuous.age, nan_policy='omit')"
   ]
  },
  {
   "cell_type": "code",
   "execution_count": 920,
   "metadata": {},
   "outputs": [
    {
     "data": {
      "text/plain": [
       "SkewtestResult(statistic=5.214437531634691, pvalue=1.8437582114885934e-07)"
      ]
     },
     "execution_count": 920,
     "metadata": {},
     "output_type": "execute_result"
    }
   ],
   "source": [
    "skewtest(df.continuous.age, nan_policy='omit')"
   ]
  },
  {
   "cell_type": "code",
   "execution_count": 921,
   "metadata": {},
   "outputs": [
    {
     "data": {
      "text/plain": [
       "KurtosistestResult(statistic=0.9887280918878047, pvalue=0.32279619456686603)"
      ]
     },
     "execution_count": 921,
     "metadata": {},
     "output_type": "execute_result"
    }
   ],
   "source": [
    "kurtosistest(df.continuous.age, nan_policy='omit')"
   ]
  },
  {
   "cell_type": "code",
   "execution_count": 922,
   "metadata": {},
   "outputs": [
    {
     "data": {
      "text/plain": [
       "0.1469476357378139"
      ]
     },
     "execution_count": 922,
     "metadata": {},
     "output_type": "execute_result"
    }
   ],
   "source": [
    "df.continuous.age.kurtosis()"
   ]
  },
  {
   "cell_type": "markdown",
   "metadata": {},
   "source": [
    "- The historgram for `age` doesn't really look normal.\n",
    "- Testing for normality returns a low p-value, rejecting the null-hypothesis that the data is normally distributed (there's enough evidence to say it's not).\n",
    "- Testing skewness also returns a low p-value and a skewness of 0.4 (positively skewed).\n",
    "- Test kurtosis returns high p-value and a kurtosis of 0.15.\n",
    "\n",
    "Let's see if we can transform the data with a box-cox transformation."
   ]
  },
  {
   "cell_type": "code",
   "execution_count": 923,
   "metadata": {},
   "outputs": [],
   "source": [
    "from scipy.stats import boxcox, boxcox_normplot"
   ]
  },
  {
   "cell_type": "code",
   "execution_count": 924,
   "metadata": {},
   "outputs": [],
   "source": [
    "boxcox_age, max_log = boxcox(df.continuous.age.dropna())"
   ]
  },
  {
   "cell_type": "code",
   "execution_count": 925,
   "metadata": {},
   "outputs": [
    {
     "data": {
      "image/png": "[encoded data removed]",
      "text/plain": [
       "<Figure size 432x288 with 1 Axes>"
      ]
     },
     "metadata": {
      "needs_background": "light"
     },
     "output_type": "display_data"
    }
   ],
   "source": [
    "fig, ax = plt.subplots()\n",
    "bc_plot = boxcox_normplot(df.continuous.age.dropna(), -5, 5, plot=ax)\n",
    "ax.axvline(max_log, c='r');"
   ]
  },
  {
   "cell_type": "code",
   "execution_count": 926,
   "metadata": {},
   "outputs": [
    {
     "data": {
      "text/plain": [
       "SkewtestResult(statistic=-0.4870998583656714, pvalue=0.6261875667865451)"
      ]
     },
     "execution_count": 926,
     "metadata": {},
     "output_type": "execute_result"
    }
   ],
   "source": [
    "skewtest(boxcox_age)"
   ]
  },
  {
   "cell_type": "code",
   "execution_count": 927,
   "metadata": {},
   "outputs": [
    {
     "data": {
      "text/plain": [
       "KurtosistestResult(statistic=1.2825828877607321, pvalue=0.1996382485217043)"
      ]
     },
     "execution_count": 927,
     "metadata": {},
     "output_type": "execute_result"
    }
   ],
   "source": [
    "kurtosistest(boxcox_age)"
   ]
  },
  {
   "cell_type": "code",
   "execution_count": 928,
   "metadata": {},
   "outputs": [
    {
     "data": {
      "image/png": "[encoded data removed]",
      "text/plain": [
       "<Figure size 432x288 with 1 Axes>"
      ]
     },
     "metadata": {
      "needs_background": "light"
     },
     "output_type": "display_data"
    }
   ],
   "source": [
    "plt.hist(boxcox_age);"
   ]
  },
  {
   "cell_type": "markdown",
   "metadata": {},
   "source": [
    "The boxcox transformation returns negative values, which isn't possible for `age`. Let's try a sqare-root transformation."
   ]
  },
  {
   "cell_type": "code",
   "execution_count": 929,
   "metadata": {},
   "outputs": [],
   "source": [
    "sqrt_age = np.sqrt(df.continuous.age.dropna())"
   ]
  },
  {
   "cell_type": "code",
   "execution_count": 930,
   "metadata": {},
   "outputs": [
    {
     "data": {
      "image/png": "[encoded data removed]",
      "text/plain": [
       "<Figure size 432x288 with 1 Axes>"
      ]
     },
     "metadata": {
      "needs_background": "light"
     },
     "output_type": "display_data"
    }
   ],
   "source": [
    "sqrt_age.plot.hist();"
   ]
  },
  {
   "cell_type": "code",
   "execution_count": 931,
   "metadata": {},
   "outputs": [
    {
     "data": {
      "text/plain": [
       "NormaltestResult(statistic=87.75817938582058, pvalue=8.781192047775124e-20)"
      ]
     },
     "execution_count": 931,
     "metadata": {},
     "output_type": "execute_result"
    }
   ],
   "source": [
    "normaltest(sqrt_age)"
   ]
  },
  {
   "cell_type": "code",
   "execution_count": 932,
   "metadata": {},
   "outputs": [
    {
     "data": {
      "text/plain": [
       "SkewtestResult(statistic=-8.035203983780125, pvalue=9.342334707733286e-16)"
      ]
     },
     "execution_count": 932,
     "metadata": {},
     "output_type": "execute_result"
    }
   ],
   "source": [
    "skewtest(sqrt_age)"
   ]
  },
  {
   "cell_type": "code",
   "execution_count": 933,
   "metadata": {},
   "outputs": [
    {
     "data": {
      "text/plain": [
       "KurtosistestResult(statistic=4.815981345983869, pvalue=1.4647820797291446e-06)"
      ]
     },
     "execution_count": 933,
     "metadata": {},
     "output_type": "execute_result"
    }
   ],
   "source": [
    "kurtosistest(sqrt_age)"
   ]
  },
  {
   "cell_type": "markdown",
   "metadata": {},
   "source": [
    "The sqare-root transformation didn't pass any of the normality tests (normality, skew, kurtosis). Let's try a logarithmic transformation."
   ]
  },
  {
   "cell_type": "code",
   "execution_count": 934,
   "metadata": {},
   "outputs": [],
   "source": [
    "log_age = np.log(df.continuous.age.dropna())"
   ]
  },
  {
   "cell_type": "code",
   "execution_count": 935,
   "metadata": {},
   "outputs": [
    {
     "data": {
      "image/png": "[encoded data removed]",
      "text/plain": [
       "<Figure size 432x288 with 1 Axes>"
      ]
     },
     "metadata": {
      "needs_background": "light"
     },
     "output_type": "display_data"
    }
   ],
   "source": [
    "log_age.plot.hist();"
   ]
  },
  {
   "cell_type": "code",
   "execution_count": 936,
   "metadata": {},
   "outputs": [
    {
     "data": {
      "text/plain": [
       "NormaltestResult(statistic=581.4886925238466, pvalue=5.3868486523253154e-127)"
      ]
     },
     "execution_count": 936,
     "metadata": {},
     "output_type": "execute_result"
    }
   ],
   "source": [
    "normaltest(log_age)"
   ]
  },
  {
   "cell_type": "code",
   "execution_count": 937,
   "metadata": {},
   "outputs": [
    {
     "data": {
      "text/plain": [
       "SkewtestResult(statistic=-20.147560406380542, pvalue=2.827067965203307e-90)"
      ]
     },
     "execution_count": 937,
     "metadata": {},
     "output_type": "execute_result"
    }
   ],
   "source": [
    "skewtest(log_age)"
   ]
  },
  {
   "cell_type": "code",
   "execution_count": 938,
   "metadata": {},
   "outputs": [
    {
     "data": {
      "text/plain": [
       "KurtosistestResult(statistic=13.250075554316425, pvalue=4.507492536858734e-40)"
      ]
     },
     "execution_count": 938,
     "metadata": {},
     "output_type": "execute_result"
    }
   ],
   "source": [
    "kurtosistest(log_age)"
   ]
  },
  {
   "cell_type": "markdown",
   "metadata": {},
   "source": [
    "None of the tests passed and negative values were returned for the log transformation. Let's stick with the original data and see if it's homoscedastic with respect to our columns.\n",
    "\n",
    "Because the data isn't necessarily normal, we will use the Levene test because it is less sensitive to departures from normality."
   ]
  },
  {
   "cell_type": "code",
   "execution_count": 939,
   "metadata": {},
   "outputs": [],
   "source": [
    "from scipy.stats import levene"
   ]
  },
  {
   "cell_type": "code",
   "execution_count": 940,
   "metadata": {},
   "outputs": [],
   "source": [
    "point_biserial_df = df.loc[:, list(itertools.product(['categorical'], df.categorical.drop(columns=[\n",
    "    'survived',\n",
    "    'sibsp',\n",
    "    'parch'\n",
    "]).columns))].join(df.loc[:, ('continuous', 'age')]).dropna()\n",
    "\n",
    "point_biserial_df.columns = point_biserial_df.columns.droplevel()"
   ]
  },
  {
   "cell_type": "code",
   "execution_count": 941,
   "metadata": {},
   "outputs": [
    {
     "data": {
      "image/png": "[encoded data removed]",
      "text/plain": [
       "<Figure size 432x288 with 1 Axes>"
      ]
     },
     "metadata": {
      "needs_background": "light"
     },
     "output_type": "display_data"
    }
   ],
   "source": [
    "point_biserial_df.boxplot(column = 'age', by = 'sex');"
   ]
  },
  {
   "cell_type": "code",
   "execution_count": 942,
   "metadata": {},
   "outputs": [
    {
     "data": {
      "text/plain": [
       "LeveneResult(statistic=0.749517171340845, pvalue=0.38682804247347446)"
      ]
     },
     "execution_count": 942,
     "metadata": {},
     "output_type": "execute_result"
    }
   ],
   "source": [
    "levene(point_biserial_df.loc[\n",
    "    point_biserial_df.sex == 0,\n",
    "    'age'\n",
    "], point_biserial_df.loc[\n",
    "    point_biserial_df.sex == 1,\n",
    "    'age'\n",
    "])"
   ]
  },
  {
   "cell_type": "markdown",
   "metadata": {},
   "source": [
    "Grouping on `sex`, `age` IS homoscedastic."
   ]
  },
  {
   "cell_type": "code",
   "execution_count": 943,
   "metadata": {},
   "outputs": [
    {
     "data": {
      "image/png": "[encoded data removed]",
      "text/plain": [
       "<Figure size 432x288 with 1 Axes>"
      ]
     },
     "metadata": {
      "needs_background": "light"
     },
     "output_type": "display_data"
    }
   ],
   "source": [
    "point_biserial_df.boxplot(column = 'age', by = 'embarked_C');"
   ]
  },
  {
   "cell_type": "code",
   "execution_count": 944,
   "metadata": {},
   "outputs": [
    {
     "data": {
      "text/plain": [
       "LeveneResult(statistic=4.7073592930960855, pvalue=0.03025876655611869)"
      ]
     },
     "execution_count": 944,
     "metadata": {},
     "output_type": "execute_result"
    }
   ],
   "source": [
    "levene(point_biserial_df.loc[\n",
    "    point_biserial_df.embarked_C == 0,\n",
    "    'age'\n",
    "], point_biserial_df.loc[\n",
    "    point_biserial_df.embarked_C == 1,\n",
    "    'age'\n",
    "])"
   ]
  },
  {
   "cell_type": "markdown",
   "metadata": {},
   "source": [
    "Grouping on `embarked_C`, `age` is NOT homoscedastic (barely, p-value = 0.03 < 0.05)"
   ]
  },
  {
   "cell_type": "code",
   "execution_count": 945,
   "metadata": {},
   "outputs": [
    {
     "data": {
      "image/png": "[encoded data removed]",
      "text/plain": [
       "<Figure size 432x288 with 1 Axes>"
      ]
     },
     "metadata": {
      "needs_background": "light"
     },
     "output_type": "display_data"
    }
   ],
   "source": [
    "point_biserial_df.boxplot(column='age', by='embarked_Q');"
   ]
  },
  {
   "cell_type": "code",
   "execution_count": 946,
   "metadata": {},
   "outputs": [
    {
     "data": {
      "text/plain": [
       "LeveneResult(statistic=0.002564650132088515, pvalue=0.9596201830369783)"
      ]
     },
     "execution_count": 946,
     "metadata": {},
     "output_type": "execute_result"
    }
   ],
   "source": [
    "levene(point_biserial_df.loc[\n",
    "    point_biserial_df.embarked_Q == 0,\n",
    "    'age'\n",
    "], point_biserial_df.loc[\n",
    "    point_biserial_df.embarked_Q == 1,\n",
    "    'age'\n",
    "])"
   ]
  },
  {
   "cell_type": "markdown",
   "metadata": {},
   "source": [
    "Grouping on `embarked_Q`, `age` IS homoscedastic."
   ]
  },
  {
   "cell_type": "code",
   "execution_count": 947,
   "metadata": {},
   "outputs": [
    {
     "data": {
      "image/png": "[encoded data removed]",
      "text/plain": [
       "<Figure size 432x288 with 1 Axes>"
      ]
     },
     "metadata": {
      "needs_background": "light"
     },
     "output_type": "display_data"
    }
   ],
   "source": [
    "point_biserial_df.boxplot(column='age', by='embarked_S');"
   ]
  },
  {
   "cell_type": "code",
   "execution_count": 948,
   "metadata": {},
   "outputs": [
    {
     "data": {
      "text/plain": [
       "LeveneResult(statistic=4.804293685596284, pvalue=0.02860916051188422)"
      ]
     },
     "execution_count": 948,
     "metadata": {},
     "output_type": "execute_result"
    }
   ],
   "source": [
    "levene(point_biserial_df.loc[\n",
    "    point_biserial_df.embarked_S == 0,\n",
    "    'age'\n",
    "], point_biserial_df.loc[\n",
    "    point_biserial_df.embarked_S == 1,\n",
    "    'age'\n",
    "])"
   ]
  },
  {
   "cell_type": "markdown",
   "metadata": {},
   "source": [
    "Grouping on `embarked_S`, `age` is NOT homoscedastic (barely, p-value = 0.03 < 0.05)."
   ]
  },
  {
   "cell_type": "code",
   "execution_count": 949,
   "metadata": {},
   "outputs": [
    {
     "data": {
      "image/png": "[encoded data removed]",
      "text/plain": [
       "<Figure size 432x288 with 1 Axes>"
      ]
     },
     "metadata": {
      "needs_background": "light"
     },
     "output_type": "display_data"
    }
   ],
   "source": [
    "point_biserial_df.boxplot(column='age', by='pclass_1');"
   ]
  },
  {
   "cell_type": "code",
   "execution_count": 950,
   "metadata": {},
   "outputs": [
    {
     "data": {
      "text/plain": [
       "LeveneResult(statistic=17.68528415781623, pvalue=2.8299208714720455e-05)"
      ]
     },
     "execution_count": 950,
     "metadata": {},
     "output_type": "execute_result"
    }
   ],
   "source": [
    "levene(point_biserial_df.loc[\n",
    "    point_biserial_df.pclass_1 == 0,\n",
    "    'age'\n",
    "], point_biserial_df.loc[\n",
    "    point_biserial_df.pclass_1 == 1,\n",
    "    'age'\n",
    "])"
   ]
  },
  {
   "cell_type": "markdown",
   "metadata": {},
   "source": [
    "Grouping on `pclass_1`, `age` is NOT homoscedastic."
   ]
  },
  {
   "cell_type": "code",
   "execution_count": 951,
   "metadata": {},
   "outputs": [
    {
     "data": {
      "image/png": "[encoded data removed]",
      "text/plain": [
       "<Figure size 432x288 with 1 Axes>"
      ]
     },
     "metadata": {
      "needs_background": "light"
     },
     "output_type": "display_data"
    }
   ],
   "source": [
    "point_biserial_df.boxplot(column='age', by='pclass_2');"
   ]
  },
  {
   "cell_type": "code",
   "execution_count": 952,
   "metadata": {},
   "outputs": [
    {
     "data": {
      "text/plain": [
       "LeveneResult(statistic=3.5053868029067923, pvalue=0.06144893098567997)"
      ]
     },
     "execution_count": 952,
     "metadata": {},
     "output_type": "execute_result"
    }
   ],
   "source": [
    "levene(point_biserial_df.loc[\n",
    "    point_biserial_df.pclass_2 == 0,\n",
    "    'age'\n",
    "], point_biserial_df.loc[\n",
    "    point_biserial_df.pclass_2 == 1,\n",
    "    'age'\n",
    "])"
   ]
  },
  {
   "cell_type": "markdown",
   "metadata": {},
   "source": [
    "Grouping on `pclass_2`, `age` IS homoscedastic."
   ]
  },
  {
   "cell_type": "code",
   "execution_count": 953,
   "metadata": {},
   "outputs": [
    {
     "data": {
      "image/png": "[encoded data removed]",
      "text/plain": [
       "<Figure size 432x288 with 1 Axes>"
      ]
     },
     "metadata": {
      "needs_background": "light"
     },
     "output_type": "display_data"
    }
   ],
   "source": [
    "point_biserial_df.boxplot(column='age', by='pclass_3');"
   ]
  },
  {
   "cell_type": "code",
   "execution_count": 954,
   "metadata": {},
   "outputs": [
    {
     "data": {
      "text/plain": [
       "LeveneResult(statistic=33.17595159624122, pvalue=1.1067292842455217e-08)"
      ]
     },
     "execution_count": 954,
     "metadata": {},
     "output_type": "execute_result"
    }
   ],
   "source": [
    "levene(point_biserial_df.loc[\n",
    "    point_biserial_df.pclass_3 == 0,\n",
    "    'age'\n",
    "], point_biserial_df.loc[\n",
    "    point_biserial_df.pclass_3 == 1,\n",
    "    'age'\n",
    "])"
   ]
  },
  {
   "cell_type": "markdown",
   "metadata": {},
   "source": [
    "Grouping on `pclass_3`, `age` is NOT homoscedastic.\n",
    "\n",
    "---\n",
    "\n",
    "After these results, I think we can compare `age` with the following columns:\n",
    "- `sex`\n",
    "- `embarked_C`\n",
    "- `embarked_Q`\n",
    "- `embarked_S`\n",
    "- `pclass_2`"
   ]
  },
  {
   "cell_type": "code",
   "execution_count": 955,
   "metadata": {},
   "outputs": [],
   "source": [
    "from scipy.stats import pointbiserialr"
   ]
  },
  {
   "cell_type": "code",
   "execution_count": 956,
   "metadata": {},
   "outputs": [
    {
     "data": {
      "text/html": [
       "<div>\n",
       "<style scoped>\n",
       "    .dataframe tbody tr th:only-of-type {\n",
       "        vertical-align: middle;\n",
       "    }\n",
       "\n",
       "    .dataframe tbody tr th {\n",
       "        vertical-align: top;\n",
       "    }\n",
       "\n",
       "    .dataframe thead th {\n",
       "        text-align: right;\n",
       "    }\n",
       "</style>\n",
       "<table border=\"1\" class=\"dataframe\">\n",
       "  <thead>\n",
       "    <tr style=\"text-align: right;\">\n",
       "      <th></th>\n",
       "      <th>correlation</th>\n",
       "      <th>p_value</th>\n",
       "    </tr>\n",
       "  </thead>\n",
       "  <tbody>\n",
       "    <tr>\n",
       "      <th>sex</th>\n",
       "      <td>0.0636449</td>\n",
       "      <td>0.0395877</td>\n",
       "    </tr>\n",
       "    <tr>\n",
       "      <th>embarked_C</th>\n",
       "      <td>0.0857773</td>\n",
       "      <td>0.00550316</td>\n",
       "    </tr>\n",
       "    <tr>\n",
       "      <th>embarked_Q</th>\n",
       "      <td>-0.019458</td>\n",
       "      <td>0.5296</td>\n",
       "    </tr>\n",
       "    <tr>\n",
       "      <th>embarked_S</th>\n",
       "      <td>-0.0759716</td>\n",
       "      <td>0.0139837</td>\n",
       "    </tr>\n",
       "    <tr>\n",
       "      <th>pclass_2</th>\n",
       "      <td>-0.0149864</td>\n",
       "      <td>0.628289</td>\n",
       "    </tr>\n",
       "  </tbody>\n",
       "</table>\n",
       "</div>"
      ],
      "text/plain": [
       "           correlation     p_value\n",
       "sex          0.0636449   0.0395877\n",
       "embarked_C   0.0857773  0.00550316\n",
       "embarked_Q   -0.019458      0.5296\n",
       "embarked_S  -0.0759716   0.0139837\n",
       "pclass_2    -0.0149864    0.628289"
      ]
     },
     "execution_count": 956,
     "metadata": {},
     "output_type": "execute_result"
    }
   ],
   "source": [
    "pb = pd.DataFrame(index=[\n",
    "    'sex',\n",
    "    'embarked_C',\n",
    "    'embarked_Q',\n",
    "    'embarked_S',\n",
    "    'pclass_2'\n",
    "], columns=[\n",
    "    'correlation',\n",
    "    'p_value'\n",
    "])\n",
    "\n",
    "for i in pb.index:\n",
    "    pb.loc[\n",
    "        i,\n",
    "        'correlation'\n",
    "    ], pb.loc[\n",
    "        i,\n",
    "        'p_value'\n",
    "    ] = pointbiserialr(point_biserial_df.loc[:, i], point_biserial_df.age)\n",
    "\n",
    "pb"
   ]
  },
  {
   "cell_type": "markdown",
   "metadata": {},
   "source": [
    "It appears that all of the columns chosen to compare with `age` don't really have any correlation.\n",
    "\n",
    "Let's try a different test and see how it compares with the Point Biserial Correlation."
   ]
  },
  {
   "cell_type": "markdown",
   "metadata": {},
   "source": [
    "# Logistic Regression"
   ]
  },
  {
   "cell_type": "code",
   "execution_count": 957,
   "metadata": {},
   "outputs": [],
   "source": [
    "from statsmodels.api import Logit"
   ]
  },
  {
   "cell_type": "markdown",
   "metadata": {},
   "source": [
    "We'll use the same data from the Point Biserial data frame."
   ]
  },
  {
   "cell_type": "code",
   "execution_count": 958,
   "metadata": {},
   "outputs": [
    {
     "data": {
      "image/png": "[encoded data removed]",
      "text/plain": [
       "<Figure size 432x288 with 1 Axes>"
      ]
     },
     "metadata": {
      "needs_background": "light"
     },
     "output_type": "display_data"
    }
   ],
   "source": [
    "point_biserial_df.plot.scatter('age', 'sex');"
   ]
  },
  {
   "cell_type": "code",
   "execution_count": 959,
   "metadata": {},
   "outputs": [
    {
     "name": "stdout",
     "output_type": "stream",
     "text": [
      "Optimization terminated successfully.\n",
      "         Current function value: 0.658845\n",
      "         Iterations 4\n"
     ]
    },
    {
     "data": {
      "text/html": [
       "<table class=\"simpletable\">\n",
       "<caption>Logit Regression Results</caption>\n",
       "<tr>\n",
       "  <th>Dep. Variable:</th>        <td>sex</td>       <th>  No. Observations:  </th>  <td>  1046</td>  \n",
       "</tr>\n",
       "<tr>\n",
       "  <th>Model:</th>               <td>Logit</td>      <th>  Df Residuals:      </th>  <td>  1045</td>  \n",
       "</tr>\n",
       "<tr>\n",
       "  <th>Method:</th>               <td>MLE</td>       <th>  Df Model:          </th>  <td>     0</td>  \n",
       "</tr>\n",
       "<tr>\n",
       "  <th>Date:</th>          <td>Sat, 19 Jan 2019</td> <th>  Pseudo R-squ.:     </th> <td>0.0009214</td>\n",
       "</tr>\n",
       "<tr>\n",
       "  <th>Time:</th>              <td>19:57:43</td>     <th>  Log-Likelihood:    </th> <td> -689.15</td> \n",
       "</tr>\n",
       "<tr>\n",
       "  <th>converged:</th>           <td>True</td>       <th>  LL-Null:           </th> <td> -689.79</td> \n",
       "</tr>\n",
       "<tr>\n",
       "  <th> </th>                      <td> </td>        <th>  LLR p-value:       </th>  <td>   nan</td>  \n",
       "</tr>\n",
       "</table>\n",
       "<table class=\"simpletable\">\n",
       "<tr>\n",
       "   <td></td>      <th>coef</th>     <th>std err</th>      <th>z</th>      <th>P>|z|</th>  <th>[0.025</th>    <th>0.975]</th>  \n",
       "</tr>\n",
       "<tr>\n",
       "  <th>age</th> <td>    0.0163</td> <td>    0.002</td> <td>    8.212</td> <td> 0.000</td> <td>    0.012</td> <td>    0.020</td>\n",
       "</tr>\n",
       "</table>"
      ],
      "text/plain": [
       "<class 'statsmodels.iolib.summary.Summary'>\n",
       "\"\"\"\n",
       "                           Logit Regression Results                           \n",
       "==============================================================================\n",
       "Dep. Variable:                    sex   No. Observations:                 1046\n",
       "Model:                          Logit   Df Residuals:                     1045\n",
       "Method:                           MLE   Df Model:                            0\n",
       "Date:                Sat, 19 Jan 2019   Pseudo R-squ.:               0.0009214\n",
       "Time:                        19:57:43   Log-Likelihood:                -689.15\n",
       "converged:                       True   LL-Null:                       -689.79\n",
       "                                        LLR p-value:                       nan\n",
       "==============================================================================\n",
       "                 coef    std err          z      P>|z|      [0.025      0.975]\n",
       "------------------------------------------------------------------------------\n",
       "age            0.0163      0.002      8.212      0.000       0.012       0.020\n",
       "==============================================================================\n",
       "\"\"\""
      ]
     },
     "execution_count": 959,
     "metadata": {},
     "output_type": "execute_result"
    }
   ],
   "source": [
    "logit_model = Logit(endog=point_biserial_df.sex, exog=point_biserial_df.age)\n",
    "\n",
    "results = logit_model.fit()\n",
    "\n",
    "results.summary()"
   ]
  },
  {
   "cell_type": "markdown",
   "metadata": {},
   "source": [
    "Using logistic regression, `age` has little explanatory power in predicting `sex`."
   ]
  },
  {
   "cell_type": "code",
   "execution_count": 960,
   "metadata": {},
   "outputs": [
    {
     "data": {
      "image/png": "[encoded data removed]",
      "text/plain": [
       "<Figure size 432x288 with 1 Axes>"
      ]
     },
     "metadata": {
      "needs_background": "light"
     },
     "output_type": "display_data"
    }
   ],
   "source": [
    "point_biserial_df.plot.scatter('age', 'embarked_C');"
   ]
  },
  {
   "cell_type": "code",
   "execution_count": 961,
   "metadata": {},
   "outputs": [
    {
     "name": "stdout",
     "output_type": "stream",
     "text": [
      "Optimization terminated successfully.\n",
      "         Current function value: inf\n",
      "         Iterations 5\n"
     ]
    },
    {
     "name": "stderr",
     "output_type": "stream",
     "text": [
      "C:\\Users\\IT045886\\AppData\\Local\\Continuum\\anaconda3\\lib\\site-packages\\statsmodels\\discrete\\discrete_model.py:1724: RuntimeWarning: divide by zero encountered in log\n",
      "  return np.sum(np.log(self.cdf(q*np.dot(X,params))))\n",
      "C:\\Users\\IT045886\\AppData\\Local\\Continuum\\anaconda3\\lib\\site-packages\\statsmodels\\base\\model.py:488: HessianInversionWarning: Inverting hessian failed, no bse or cov_params available\n",
      "  'available', HessianInversionWarning)\n",
      "C:\\Users\\IT045886\\AppData\\Local\\Continuum\\anaconda3\\lib\\site-packages\\statsmodels\\base\\model.py:488: HessianInversionWarning: Inverting hessian failed, no bse or cov_params available\n",
      "  'available', HessianInversionWarning)\n"
     ]
    },
    {
     "data": {
      "text/html": [
       "<table class=\"simpletable\">\n",
       "<caption>Logit Regression Results</caption>\n",
       "<tr>\n",
       "  <th>Dep. Variable:</th>    <td>embarked_C</td>    <th>  No. Observations:  </th>  <td>  1046</td> \n",
       "</tr>\n",
       "<tr>\n",
       "  <th>Model:</th>               <td>Logit</td>      <th>  Df Residuals:      </th>  <td>  1045</td> \n",
       "</tr>\n",
       "<tr>\n",
       "  <th>Method:</th>               <td>MLE</td>       <th>  Df Model:          </th>  <td>     0</td> \n",
       "</tr>\n",
       "<tr>\n",
       "  <th>Date:</th>          <td>Sat, 19 Jan 2019</td> <th>  Pseudo R-squ.:     </th>  <td>   inf</td> \n",
       "</tr>\n",
       "<tr>\n",
       "  <th>Time:</th>              <td>19:57:44</td>     <th>  Log-Likelihood:    </th> <td>    -inf</td>\n",
       "</tr>\n",
       "<tr>\n",
       "  <th>converged:</th>           <td>True</td>       <th>  LL-Null:           </th> <td>  0.0000</td>\n",
       "</tr>\n",
       "<tr>\n",
       "  <th> </th>                      <td> </td>        <th>  LLR p-value:       </th>  <td>   nan</td> \n",
       "</tr>\n",
       "</table>\n",
       "<table class=\"simpletable\">\n",
       "<tr>\n",
       "   <td></td>      <th>coef</th>     <th>std err</th>      <th>z</th>      <th>P>|z|</th>  <th>[0.025</th>    <th>0.975]</th>  \n",
       "</tr>\n",
       "<tr>\n",
       "  <th>age</th> <td>   -0.0364</td> <td>    0.002</td> <td>  -15.014</td> <td> 0.000</td> <td>   -0.041</td> <td>   -0.032</td>\n",
       "</tr>\n",
       "</table>"
      ],
      "text/plain": [
       "<class 'statsmodels.iolib.summary.Summary'>\n",
       "\"\"\"\n",
       "                           Logit Regression Results                           \n",
       "==============================================================================\n",
       "Dep. Variable:             embarked_C   No. Observations:                 1046\n",
       "Model:                          Logit   Df Residuals:                     1045\n",
       "Method:                           MLE   Df Model:                            0\n",
       "Date:                Sat, 19 Jan 2019   Pseudo R-squ.:                     inf\n",
       "Time:                        19:57:44   Log-Likelihood:                   -inf\n",
       "converged:                       True   LL-Null:                        0.0000\n",
       "                                        LLR p-value:                       nan\n",
       "==============================================================================\n",
       "                 coef    std err          z      P>|z|      [0.025      0.975]\n",
       "------------------------------------------------------------------------------\n",
       "age           -0.0364      0.002    -15.014      0.000      -0.041      -0.032\n",
       "==============================================================================\n",
       "\"\"\""
      ]
     },
     "execution_count": 961,
     "metadata": {},
     "output_type": "execute_result"
    }
   ],
   "source": [
    "logit_model = Logit(endog=point_biserial_df.embarked_C, exog=point_biserial_df.age)\n",
    "\n",
    "results = logit_model.fit()\n",
    "\n",
    "results.summary()"
   ]
  },
  {
   "cell_type": "markdown",
   "metadata": {},
   "source": [
    "The algorithm did not converge when comparing `age` with `embarked_C`."
   ]
  },
  {
   "cell_type": "code",
   "execution_count": 962,
   "metadata": {},
   "outputs": [
    {
     "data": {
      "image/png": "[encoded data removed]",
      "text/plain": [
       "<Figure size 432x288 with 1 Axes>"
      ]
     },
     "metadata": {
      "needs_background": "light"
     },
     "output_type": "display_data"
    }
   ],
   "source": [
    "point_biserial_df.plot.scatter('age', 'embarked_Q');"
   ]
  },
  {
   "cell_type": "code",
   "execution_count": 963,
   "metadata": {},
   "outputs": [
    {
     "name": "stdout",
     "output_type": "stream",
     "text": [
      "Optimization terminated successfully.\n",
      "         Current function value: inf\n",
      "         Iterations 7\n"
     ]
    },
    {
     "name": "stderr",
     "output_type": "stream",
     "text": [
      "C:\\Users\\IT045886\\AppData\\Local\\Continuum\\anaconda3\\lib\\site-packages\\statsmodels\\discrete\\discrete_model.py:1724: RuntimeWarning: divide by zero encountered in log\n",
      "  return np.sum(np.log(self.cdf(q*np.dot(X,params))))\n",
      "C:\\Users\\IT045886\\AppData\\Local\\Continuum\\anaconda3\\lib\\site-packages\\statsmodels\\base\\model.py:488: HessianInversionWarning: Inverting hessian failed, no bse or cov_params available\n",
      "  'available', HessianInversionWarning)\n",
      "C:\\Users\\IT045886\\AppData\\Local\\Continuum\\anaconda3\\lib\\site-packages\\statsmodels\\base\\model.py:488: HessianInversionWarning: Inverting hessian failed, no bse or cov_params available\n",
      "  'available', HessianInversionWarning)\n"
     ]
    },
    {
     "data": {
      "text/html": [
       "<table class=\"simpletable\">\n",
       "<caption>Logit Regression Results</caption>\n",
       "<tr>\n",
       "  <th>Dep. Variable:</th>    <td>embarked_Q</td>    <th>  No. Observations:  </th>  <td>  1046</td> \n",
       "</tr>\n",
       "<tr>\n",
       "  <th>Model:</th>               <td>Logit</td>      <th>  Df Residuals:      </th>  <td>  1045</td> \n",
       "</tr>\n",
       "<tr>\n",
       "  <th>Method:</th>               <td>MLE</td>       <th>  Df Model:          </th>  <td>     0</td> \n",
       "</tr>\n",
       "<tr>\n",
       "  <th>Date:</th>          <td>Sat, 19 Jan 2019</td> <th>  Pseudo R-squ.:     </th>  <td>   inf</td> \n",
       "</tr>\n",
       "<tr>\n",
       "  <th>Time:</th>              <td>19:57:44</td>     <th>  Log-Likelihood:    </th> <td>    -inf</td>\n",
       "</tr>\n",
       "<tr>\n",
       "  <th>converged:</th>           <td>True</td>       <th>  LL-Null:           </th> <td>  0.0000</td>\n",
       "</tr>\n",
       "<tr>\n",
       "  <th> </th>                      <td> </td>        <th>  LLR p-value:       </th>  <td>   nan</td> \n",
       "</tr>\n",
       "</table>\n",
       "<table class=\"simpletable\">\n",
       "<tr>\n",
       "   <td></td>      <th>coef</th>     <th>std err</th>      <th>z</th>      <th>P>|z|</th>  <th>[0.025</th>    <th>0.975]</th>  \n",
       "</tr>\n",
       "<tr>\n",
       "  <th>age</th> <td>   -0.1027</td> <td>    0.006</td> <td>  -18.095</td> <td> 0.000</td> <td>   -0.114</td> <td>   -0.092</td>\n",
       "</tr>\n",
       "</table>"
      ],
      "text/plain": [
       "<class 'statsmodels.iolib.summary.Summary'>\n",
       "\"\"\"\n",
       "                           Logit Regression Results                           \n",
       "==============================================================================\n",
       "Dep. Variable:             embarked_Q   No. Observations:                 1046\n",
       "Model:                          Logit   Df Residuals:                     1045\n",
       "Method:                           MLE   Df Model:                            0\n",
       "Date:                Sat, 19 Jan 2019   Pseudo R-squ.:                     inf\n",
       "Time:                        19:57:44   Log-Likelihood:                   -inf\n",
       "converged:                       True   LL-Null:                        0.0000\n",
       "                                        LLR p-value:                       nan\n",
       "==============================================================================\n",
       "                 coef    std err          z      P>|z|      [0.025      0.975]\n",
       "------------------------------------------------------------------------------\n",
       "age           -0.1027      0.006    -18.095      0.000      -0.114      -0.092\n",
       "==============================================================================\n",
       "\"\"\""
      ]
     },
     "execution_count": 963,
     "metadata": {},
     "output_type": "execute_result"
    }
   ],
   "source": [
    "logit_model = Logit(endog=point_biserial_df.embarked_Q, exog=point_biserial_df.age)\n",
    "\n",
    "results = logit_model.fit()\n",
    "\n",
    "results.summary()"
   ]
  },
  {
   "cell_type": "markdown",
   "metadata": {},
   "source": [
    "The algorithm did not converge when comparing `age` with `embarked_Q`."
   ]
  },
  {
   "cell_type": "code",
   "execution_count": 964,
   "metadata": {},
   "outputs": [
    {
     "data": {
      "image/png": "[encoded data removed]",
      "text/plain": [
       "<Figure size 432x288 with 1 Axes>"
      ]
     },
     "metadata": {
      "needs_background": "light"
     },
     "output_type": "display_data"
    }
   ],
   "source": [
    "point_biserial_df.plot.scatter('age', 'embarked_S');"
   ]
  },
  {
   "cell_type": "code",
   "execution_count": 965,
   "metadata": {},
   "outputs": [
    {
     "name": "stdout",
     "output_type": "stream",
     "text": [
      "Optimization terminated successfully.\n",
      "         Current function value: 0.283566\n",
      "         Iterations 5\n"
     ]
    },
    {
     "name": "stderr",
     "output_type": "stream",
     "text": [
      "C:\\Users\\IT045886\\AppData\\Local\\Continuum\\anaconda3\\lib\\site-packages\\statsmodels\\base\\model.py:488: HessianInversionWarning: Inverting hessian failed, no bse or cov_params available\n",
      "  'available', HessianInversionWarning)\n",
      "C:\\Users\\IT045886\\AppData\\Local\\Continuum\\anaconda3\\lib\\site-packages\\statsmodels\\base\\model.py:488: HessianInversionWarning: Inverting hessian failed, no bse or cov_params available\n",
      "  'available', HessianInversionWarning)\n",
      "C:\\Users\\IT045886\\AppData\\Local\\Continuum\\anaconda3\\lib\\site-packages\\statsmodels\\discrete\\discrete_model.py:3313: RuntimeWarning: divide by zero encountered in double_scalars\n",
      "  return 1 - self.llf/self.llnull\n"
     ]
    },
    {
     "data": {
      "text/html": [
       "<table class=\"simpletable\">\n",
       "<caption>Logit Regression Results</caption>\n",
       "<tr>\n",
       "  <th>Dep. Variable:</th>    <td>embarked_S</td>    <th>  No. Observations:  </th>  <td>  1046</td> \n",
       "</tr>\n",
       "<tr>\n",
       "  <th>Model:</th>               <td>Logit</td>      <th>  Df Residuals:      </th>  <td>  1045</td> \n",
       "</tr>\n",
       "<tr>\n",
       "  <th>Method:</th>               <td>MLE</td>       <th>  Df Model:          </th>  <td>     0</td> \n",
       "</tr>\n",
       "<tr>\n",
       "  <th>Date:</th>          <td>Sat, 19 Jan 2019</td> <th>  Pseudo R-squ.:     </th>  <td>   inf</td> \n",
       "</tr>\n",
       "<tr>\n",
       "  <th>Time:</th>              <td>19:57:44</td>     <th>  Log-Likelihood:    </th> <td> -296.61</td>\n",
       "</tr>\n",
       "<tr>\n",
       "  <th>converged:</th>           <td>True</td>       <th>  LL-Null:           </th> <td>  0.0000</td>\n",
       "</tr>\n",
       "<tr>\n",
       "  <th> </th>                      <td> </td>        <th>  LLR p-value:       </th>  <td>   nan</td> \n",
       "</tr>\n",
       "</table>\n",
       "<table class=\"simpletable\">\n",
       "<tr>\n",
       "   <td></td>      <th>coef</th>     <th>std err</th>      <th>z</th>      <th>P>|z|</th>  <th>[0.025</th>    <th>0.975]</th>  \n",
       "</tr>\n",
       "<tr>\n",
       "  <th>age</th> <td>    0.0282</td> <td>    0.002</td> <td>   12.766</td> <td> 0.000</td> <td>    0.024</td> <td>    0.033</td>\n",
       "</tr>\n",
       "</table>"
      ],
      "text/plain": [
       "<class 'statsmodels.iolib.summary.Summary'>\n",
       "\"\"\"\n",
       "                           Logit Regression Results                           \n",
       "==============================================================================\n",
       "Dep. Variable:             embarked_S   No. Observations:                 1046\n",
       "Model:                          Logit   Df Residuals:                     1045\n",
       "Method:                           MLE   Df Model:                            0\n",
       "Date:                Sat, 19 Jan 2019   Pseudo R-squ.:                     inf\n",
       "Time:                        19:57:44   Log-Likelihood:                -296.61\n",
       "converged:                       True   LL-Null:                        0.0000\n",
       "                                        LLR p-value:                       nan\n",
       "==============================================================================\n",
       "                 coef    std err          z      P>|z|      [0.025      0.975]\n",
       "------------------------------------------------------------------------------\n",
       "age            0.0282      0.002     12.766      0.000       0.024       0.033\n",
       "==============================================================================\n",
       "\"\"\""
      ]
     },
     "execution_count": 965,
     "metadata": {},
     "output_type": "execute_result"
    }
   ],
   "source": [
    "logit_model = Logit(endog=point_biserial_df.embarked_S, exog=point_biserial_df.age)\n",
    "\n",
    "results = logit_model.fit()\n",
    "\n",
    "results.summary()"
   ]
  },
  {
   "cell_type": "markdown",
   "metadata": {},
   "source": [
    "The algorithm did not converge when comparing `age` with `embarked_S`."
   ]
  },
  {
   "cell_type": "code",
   "execution_count": 966,
   "metadata": {},
   "outputs": [
    {
     "data": {
      "image/png": "[encoded data removed]",
      "text/plain": [
       "<Figure size 432x288 with 1 Axes>"
      ]
     },
     "metadata": {
      "needs_background": "light"
     },
     "output_type": "display_data"
    }
   ],
   "source": [
    "point_biserial_df.plot.scatter('age', 'pclass_1');"
   ]
  },
  {
   "cell_type": "code",
   "execution_count": 967,
   "metadata": {},
   "outputs": [
    {
     "name": "stdout",
     "output_type": "stream",
     "text": [
      "Optimization terminated successfully.\n",
      "         Current function value: 80.462682\n",
      "         Iterations 4\n"
     ]
    },
    {
     "name": "stderr",
     "output_type": "stream",
     "text": [
      "C:\\Users\\IT045886\\AppData\\Local\\Continuum\\anaconda3\\lib\\site-packages\\statsmodels\\base\\model.py:488: HessianInversionWarning: Inverting hessian failed, no bse or cov_params available\n",
      "  'available', HessianInversionWarning)\n",
      "C:\\Users\\IT045886\\AppData\\Local\\Continuum\\anaconda3\\lib\\site-packages\\statsmodels\\base\\model.py:488: HessianInversionWarning: Inverting hessian failed, no bse or cov_params available\n",
      "  'available', HessianInversionWarning)\n",
      "C:\\Users\\IT045886\\AppData\\Local\\Continuum\\anaconda3\\lib\\site-packages\\statsmodels\\discrete\\discrete_model.py:3313: RuntimeWarning: divide by zero encountered in double_scalars\n",
      "  return 1 - self.llf/self.llnull\n"
     ]
    },
    {
     "data": {
      "text/html": [
       "<table class=\"simpletable\">\n",
       "<caption>Logit Regression Results</caption>\n",
       "<tr>\n",
       "  <th>Dep. Variable:</th>     <td>pclass_1</td>     <th>  No. Observations:  </th>  <td>  1046</td> \n",
       "</tr>\n",
       "<tr>\n",
       "  <th>Model:</th>               <td>Logit</td>      <th>  Df Residuals:      </th>  <td>  1045</td> \n",
       "</tr>\n",
       "<tr>\n",
       "  <th>Method:</th>               <td>MLE</td>       <th>  Df Model:          </th>  <td>     0</td> \n",
       "</tr>\n",
       "<tr>\n",
       "  <th>Date:</th>          <td>Sat, 19 Jan 2019</td> <th>  Pseudo R-squ.:     </th>  <td>   inf</td> \n",
       "</tr>\n",
       "<tr>\n",
       "  <th>Time:</th>              <td>19:57:45</td>     <th>  Log-Likelihood:    </th> <td> -84164.</td>\n",
       "</tr>\n",
       "<tr>\n",
       "  <th>converged:</th>           <td>True</td>       <th>  LL-Null:           </th> <td>  0.0000</td>\n",
       "</tr>\n",
       "<tr>\n",
       "  <th> </th>                      <td> </td>        <th>  LLR p-value:       </th>  <td>   nan</td> \n",
       "</tr>\n",
       "</table>\n",
       "<table class=\"simpletable\">\n",
       "<tr>\n",
       "   <td></td>      <th>coef</th>     <th>std err</th>      <th>z</th>      <th>P>|z|</th>  <th>[0.025</th>    <th>0.975]</th>  \n",
       "</tr>\n",
       "<tr>\n",
       "  <th>age</th> <td>   -0.0163</td> <td>    0.002</td> <td>   -8.228</td> <td> 0.000</td> <td>   -0.020</td> <td>   -0.012</td>\n",
       "</tr>\n",
       "</table>"
      ],
      "text/plain": [
       "<class 'statsmodels.iolib.summary.Summary'>\n",
       "\"\"\"\n",
       "                           Logit Regression Results                           \n",
       "==============================================================================\n",
       "Dep. Variable:               pclass_1   No. Observations:                 1046\n",
       "Model:                          Logit   Df Residuals:                     1045\n",
       "Method:                           MLE   Df Model:                            0\n",
       "Date:                Sat, 19 Jan 2019   Pseudo R-squ.:                     inf\n",
       "Time:                        19:57:45   Log-Likelihood:                -84164.\n",
       "converged:                       True   LL-Null:                        0.0000\n",
       "                                        LLR p-value:                       nan\n",
       "==============================================================================\n",
       "                 coef    std err          z      P>|z|      [0.025      0.975]\n",
       "------------------------------------------------------------------------------\n",
       "age           -0.0163      0.002     -8.228      0.000      -0.020      -0.012\n",
       "==============================================================================\n",
       "\"\"\""
      ]
     },
     "execution_count": 967,
     "metadata": {},
     "output_type": "execute_result"
    }
   ],
   "source": [
    "logit_model = Logit(endog=point_biserial_df.pclass_1, exog=point_biserial_df.age)\n",
    "\n",
    "results = logit_model.fit()\n",
    "\n",
    "results.summary()"
   ]
  },
  {
   "cell_type": "markdown",
   "metadata": {},
   "source": [
    "The algorithm did not converge when comparing `age` with `pclass_1`."
   ]
  },
  {
   "cell_type": "code",
   "execution_count": 968,
   "metadata": {},
   "outputs": [
    {
     "data": {
      "image/png": "[encoded data removed]",
      "text/plain": [
       "<Figure size 432x288 with 1 Axes>"
      ]
     },
     "metadata": {
      "needs_background": "light"
     },
     "output_type": "display_data"
    }
   ],
   "source": [
    "point_biserial_df.plot.scatter('age', 'pclass_2');"
   ]
  },
  {
   "cell_type": "code",
   "execution_count": 969,
   "metadata": {},
   "outputs": [
    {
     "name": "stdout",
     "output_type": "stream",
     "text": [
      "Optimization terminated successfully.\n",
      "         Current function value: 182.490245\n",
      "         Iterations 5\n"
     ]
    },
    {
     "name": "stderr",
     "output_type": "stream",
     "text": [
      "C:\\Users\\IT045886\\AppData\\Local\\Continuum\\anaconda3\\lib\\site-packages\\statsmodels\\base\\model.py:488: HessianInversionWarning: Inverting hessian failed, no bse or cov_params available\n",
      "  'available', HessianInversionWarning)\n",
      "C:\\Users\\IT045886\\AppData\\Local\\Continuum\\anaconda3\\lib\\site-packages\\statsmodels\\base\\model.py:488: HessianInversionWarning: Inverting hessian failed, no bse or cov_params available\n",
      "  'available', HessianInversionWarning)\n",
      "C:\\Users\\IT045886\\AppData\\Local\\Continuum\\anaconda3\\lib\\site-packages\\statsmodels\\discrete\\discrete_model.py:3313: RuntimeWarning: divide by zero encountered in double_scalars\n",
      "  return 1 - self.llf/self.llnull\n"
     ]
    },
    {
     "data": {
      "text/html": [
       "<table class=\"simpletable\">\n",
       "<caption>Logit Regression Results</caption>\n",
       "<tr>\n",
       "  <th>Dep. Variable:</th>     <td>pclass_2</td>     <th>  No. Observations:  </th>   <td>  1046</td>   \n",
       "</tr>\n",
       "<tr>\n",
       "  <th>Model:</th>               <td>Logit</td>      <th>  Df Residuals:      </th>   <td>  1045</td>   \n",
       "</tr>\n",
       "<tr>\n",
       "  <th>Method:</th>               <td>MLE</td>       <th>  Df Model:          </th>   <td>     0</td>   \n",
       "</tr>\n",
       "<tr>\n",
       "  <th>Date:</th>          <td>Sat, 19 Jan 2019</td> <th>  Pseudo R-squ.:     </th>   <td>   inf</td>   \n",
       "</tr>\n",
       "<tr>\n",
       "  <th>Time:</th>              <td>19:57:45</td>     <th>  Log-Likelihood:    </th> <td>-1.9088e+05</td>\n",
       "</tr>\n",
       "<tr>\n",
       "  <th>converged:</th>           <td>True</td>       <th>  LL-Null:           </th>  <td>  0.0000</td>  \n",
       "</tr>\n",
       "<tr>\n",
       "  <th> </th>                      <td> </td>        <th>  LLR p-value:       </th>   <td>   nan</td>   \n",
       "</tr>\n",
       "</table>\n",
       "<table class=\"simpletable\">\n",
       "<tr>\n",
       "   <td></td>      <th>coef</th>     <th>std err</th>      <th>z</th>      <th>P>|z|</th>  <th>[0.025</th>    <th>0.975]</th>  \n",
       "</tr>\n",
       "<tr>\n",
       "  <th>age</th> <td>   -0.0317</td> <td>    0.002</td> <td>  -13.804</td> <td> 0.000</td> <td>   -0.036</td> <td>   -0.027</td>\n",
       "</tr>\n",
       "</table>"
      ],
      "text/plain": [
       "<class 'statsmodels.iolib.summary.Summary'>\n",
       "\"\"\"\n",
       "                           Logit Regression Results                           \n",
       "==============================================================================\n",
       "Dep. Variable:               pclass_2   No. Observations:                 1046\n",
       "Model:                          Logit   Df Residuals:                     1045\n",
       "Method:                           MLE   Df Model:                            0\n",
       "Date:                Sat, 19 Jan 2019   Pseudo R-squ.:                     inf\n",
       "Time:                        19:57:45   Log-Likelihood:            -1.9088e+05\n",
       "converged:                       True   LL-Null:                        0.0000\n",
       "                                        LLR p-value:                       nan\n",
       "==============================================================================\n",
       "                 coef    std err          z      P>|z|      [0.025      0.975]\n",
       "------------------------------------------------------------------------------\n",
       "age           -0.0317      0.002    -13.804      0.000      -0.036      -0.027\n",
       "==============================================================================\n",
       "\"\"\""
      ]
     },
     "execution_count": 969,
     "metadata": {},
     "output_type": "execute_result"
    }
   ],
   "source": [
    "logit_model = Logit(endog=point_biserial_df.pclass_2, exog=point_biserial_df.age)\n",
    "\n",
    "results = logit_model.fit()\n",
    "\n",
    "results.summary()"
   ]
  },
  {
   "cell_type": "markdown",
   "metadata": {},
   "source": [
    "The algorithm did not converge when comparing `age` with `pclass_2`."
   ]
  },
  {
   "cell_type": "code",
   "execution_count": 970,
   "metadata": {},
   "outputs": [
    {
     "data": {
      "image/png": "[encoded data removed]",
      "text/plain": [
       "<Figure size 432x288 with 1 Axes>"
      ]
     },
     "metadata": {
      "needs_background": "light"
     },
     "output_type": "display_data"
    }
   ],
   "source": [
    "point_biserial_df.plot.scatter('age', 'pclass_3');"
   ]
  },
  {
   "cell_type": "code",
   "execution_count": 971,
   "metadata": {},
   "outputs": [
    {
     "name": "stdout",
     "output_type": "stream",
     "text": [
      "Optimization terminated successfully.\n",
      "         Current function value: 52.421118\n",
      "         Iterations 4\n"
     ]
    },
    {
     "name": "stderr",
     "output_type": "stream",
     "text": [
      "C:\\Users\\IT045886\\AppData\\Local\\Continuum\\anaconda3\\lib\\site-packages\\statsmodels\\base\\model.py:488: HessianInversionWarning: Inverting hessian failed, no bse or cov_params available\n",
      "  'available', HessianInversionWarning)\n",
      "C:\\Users\\IT045886\\AppData\\Local\\Continuum\\anaconda3\\lib\\site-packages\\statsmodels\\base\\model.py:488: HessianInversionWarning: Inverting hessian failed, no bse or cov_params available\n",
      "  'available', HessianInversionWarning)\n",
      "C:\\Users\\IT045886\\AppData\\Local\\Continuum\\anaconda3\\lib\\site-packages\\statsmodels\\discrete\\discrete_model.py:3313: RuntimeWarning: divide by zero encountered in double_scalars\n",
      "  return 1 - self.llf/self.llnull\n"
     ]
    },
    {
     "data": {
      "text/html": [
       "<table class=\"simpletable\">\n",
       "<caption>Logit Regression Results</caption>\n",
       "<tr>\n",
       "  <th>Dep. Variable:</th>     <td>pclass_3</td>     <th>  No. Observations:  </th>  <td>  1046</td> \n",
       "</tr>\n",
       "<tr>\n",
       "  <th>Model:</th>               <td>Logit</td>      <th>  Df Residuals:      </th>  <td>  1045</td> \n",
       "</tr>\n",
       "<tr>\n",
       "  <th>Method:</th>               <td>MLE</td>       <th>  Df Model:          </th>  <td>     0</td> \n",
       "</tr>\n",
       "<tr>\n",
       "  <th>Date:</th>          <td>Sat, 19 Jan 2019</td> <th>  Pseudo R-squ.:     </th>  <td>   inf</td> \n",
       "</tr>\n",
       "<tr>\n",
       "  <th>Time:</th>              <td>19:57:45</td>     <th>  Log-Likelihood:    </th> <td> -54832.</td>\n",
       "</tr>\n",
       "<tr>\n",
       "  <th>converged:</th>           <td>True</td>       <th>  LL-Null:           </th> <td>  0.0000</td>\n",
       "</tr>\n",
       "<tr>\n",
       "  <th> </th>                      <td> </td>        <th>  LLR p-value:       </th>  <td>   nan</td> \n",
       "</tr>\n",
       "</table>\n",
       "<table class=\"simpletable\">\n",
       "<tr>\n",
       "   <td></td>      <th>coef</th>     <th>std err</th>      <th>z</th>      <th>P>|z|</th>  <th>[0.025</th>    <th>0.975]</th>  \n",
       "</tr>\n",
       "<tr>\n",
       "  <th>age</th> <td>   -0.0113</td> <td>    0.002</td> <td>   -5.895</td> <td> 0.000</td> <td>   -0.015</td> <td>   -0.008</td>\n",
       "</tr>\n",
       "</table>"
      ],
      "text/plain": [
       "<class 'statsmodels.iolib.summary.Summary'>\n",
       "\"\"\"\n",
       "                           Logit Regression Results                           \n",
       "==============================================================================\n",
       "Dep. Variable:               pclass_3   No. Observations:                 1046\n",
       "Model:                          Logit   Df Residuals:                     1045\n",
       "Method:                           MLE   Df Model:                            0\n",
       "Date:                Sat, 19 Jan 2019   Pseudo R-squ.:                     inf\n",
       "Time:                        19:57:45   Log-Likelihood:                -54832.\n",
       "converged:                       True   LL-Null:                        0.0000\n",
       "                                        LLR p-value:                       nan\n",
       "==============================================================================\n",
       "                 coef    std err          z      P>|z|      [0.025      0.975]\n",
       "------------------------------------------------------------------------------\n",
       "age           -0.0113      0.002     -5.895      0.000      -0.015      -0.008\n",
       "==============================================================================\n",
       "\"\"\""
      ]
     },
     "execution_count": 971,
     "metadata": {},
     "output_type": "execute_result"
    }
   ],
   "source": [
    "logit_model = Logit(endog=point_biserial_df.pclass_3, exog=point_biserial_df.age)\n",
    "\n",
    "results = logit_model.fit()\n",
    "\n",
    "results.summary()"
   ]
  },
  {
   "cell_type": "markdown",
   "metadata": {},
   "source": [
    "The algorithm did not converge when comparing `age` with `pclass_3`.\n",
    "\n",
    "---\n",
    "\n",
    "Logistic Regression agreed with the Point Biserial Correlation when comparing `age` with `sex`, but could not give an accurate description with the other variables. Let's try using the Kruskal-Wallis H Test."
   ]
  },
  {
   "cell_type": "markdown",
   "metadata": {},
   "source": [
    "# Kruskal-Wallis H Test"
   ]
  },
  {
   "cell_type": "markdown",
   "metadata": {},
   "source": [
    "The Kruskal-Wallis H test can only tell us if two or more population medians are different. It does not tell us the strength of the relationship or even if there is one."
   ]
  },
  {
   "cell_type": "code",
   "execution_count": 972,
   "metadata": {},
   "outputs": [],
   "source": [
    "from scipy.stats import kruskal"
   ]
  },
  {
   "cell_type": "code",
   "execution_count": 973,
   "metadata": {},
   "outputs": [
    {
     "data": {
      "text/plain": [
       "sex\n",
       "0    27.0\n",
       "1    28.0\n",
       "Name: age, dtype: float64"
      ]
     },
     "execution_count": 973,
     "metadata": {},
     "output_type": "execute_result"
    }
   ],
   "source": [
    "point_biserial_df.groupby('sex').age.median()"
   ]
  },
  {
   "cell_type": "code",
   "execution_count": 974,
   "metadata": {},
   "outputs": [
    {
     "data": {
      "image/png": "[encoded data removed]",
      "text/plain": [
       "<Figure size 432x288 with 2 Axes>"
      ]
     },
     "metadata": {
      "needs_background": "light"
     },
     "output_type": "display_data"
    }
   ],
   "source": [
    "point_biserial_df.hist(column='age', by='sex', sharex=True, sharey=True);"
   ]
  },
  {
   "cell_type": "code",
   "execution_count": 975,
   "metadata": {},
   "outputs": [
    {
     "data": {
      "text/plain": [
       "KruskalResult(statistic=4.151628793971187, pvalue=0.041594495158714544)"
      ]
     },
     "execution_count": 975,
     "metadata": {},
     "output_type": "execute_result"
    }
   ],
   "source": [
    "kruskal(point_biserial_df.loc[\n",
    "    point_biserial_df.sex == 0,\n",
    "    'age'\n",
    "], point_biserial_df.loc[\n",
    "    point_biserial_df.sex == 1,\n",
    "    'age'\n",
    "])"
   ]
  },
  {
   "cell_type": "markdown",
   "metadata": {},
   "source": [
    "Grouping on `sex`, the medians for `age` are barely different (p-value = 0.04 < 0.05)."
   ]
  },
  {
   "cell_type": "code",
   "execution_count": 976,
   "metadata": {},
   "outputs": [
    {
     "data": {
      "text/plain": [
       "embarked_C\n",
       "0    28.0\n",
       "1    30.0\n",
       "Name: age, dtype: float64"
      ]
     },
     "execution_count": 976,
     "metadata": {},
     "output_type": "execute_result"
    }
   ],
   "source": [
    "point_biserial_df.groupby('embarked_C').age.median()"
   ]
  },
  {
   "cell_type": "code",
   "execution_count": 977,
   "metadata": {},
   "outputs": [
    {
     "data": {
      "image/png": "[encoded data removed]",
      "text/plain": [
       "<Figure size 432x288 with 2 Axes>"
      ]
     },
     "metadata": {
      "needs_background": "light"
     },
     "output_type": "display_data"
    }
   ],
   "source": [
    "point_biserial_df.hist(column='age', by='embarked_C', sharex=True, sharey=True);"
   ]
  },
  {
   "cell_type": "code",
   "execution_count": 978,
   "metadata": {},
   "outputs": [
    {
     "data": {
      "text/plain": [
       "KruskalResult(statistic=7.090890427468188, pvalue=0.007747674362405233)"
      ]
     },
     "execution_count": 978,
     "metadata": {},
     "output_type": "execute_result"
    }
   ],
   "source": [
    "kruskal(point_biserial_df.loc[\n",
    "    point_biserial_df.embarked_C == 0,\n",
    "    'age'\n",
    "], point_biserial_df.loc[\n",
    "    point_biserial_df.embarked_C == 1,\n",
    "    'age'\n",
    "])"
   ]
  },
  {
   "cell_type": "markdown",
   "metadata": {},
   "source": [
    "Grouping on `embarked_C`, the medians for `age` are different."
   ]
  },
  {
   "cell_type": "code",
   "execution_count": 979,
   "metadata": {},
   "outputs": [
    {
     "data": {
      "text/plain": [
       "embarked_Q\n",
       "0    28.0\n",
       "1    26.5\n",
       "Name: age, dtype: float64"
      ]
     },
     "execution_count": 979,
     "metadata": {},
     "output_type": "execute_result"
    }
   ],
   "source": [
    "point_biserial_df.groupby('embarked_Q').age.median()"
   ]
  },
  {
   "cell_type": "code",
   "execution_count": 980,
   "metadata": {},
   "outputs": [
    {
     "data": {
      "image/png": "[encoded data removed]",
      "text/plain": [
       "<Figure size 432x288 with 2 Axes>"
      ]
     },
     "metadata": {
      "needs_background": "light"
     },
     "output_type": "display_data"
    }
   ],
   "source": [
    "point_biserial_df.hist(column='age', by='embarked_Q', sharex=True, sharey=True);"
   ]
  },
  {
   "cell_type": "code",
   "execution_count": 981,
   "metadata": {},
   "outputs": [
    {
     "data": {
      "text/plain": [
       "KruskalResult(statistic=0.9042153677433654, pvalue=0.34165392513753284)"
      ]
     },
     "execution_count": 981,
     "metadata": {},
     "output_type": "execute_result"
    }
   ],
   "source": [
    "kruskal(point_biserial_df.loc[\n",
    "    point_biserial_df.embarked_Q == 0,\n",
    "    'age'\n",
    "], point_biserial_df.loc[\n",
    "    point_biserial_df.embarked_Q == 1,\n",
    "    'age'\n",
    "])"
   ]
  },
  {
   "cell_type": "markdown",
   "metadata": {},
   "source": [
    "Grouping on `embarked_Q`, the medians for `age` are not different."
   ]
  },
  {
   "cell_type": "code",
   "execution_count": 982,
   "metadata": {},
   "outputs": [
    {
     "data": {
      "text/plain": [
       "embarked_S\n",
       "0    30.0\n",
       "1    28.0\n",
       "Name: age, dtype: float64"
      ]
     },
     "execution_count": 982,
     "metadata": {},
     "output_type": "execute_result"
    }
   ],
   "source": [
    "point_biserial_df.groupby('embarked_S').age.median()"
   ]
  },
  {
   "cell_type": "code",
   "execution_count": 983,
   "metadata": {},
   "outputs": [
    {
     "data": {
      "image/png": "[encoded data removed]",
      "text/plain": [
       "<Figure size 432x288 with 2 Axes>"
      ]
     },
     "metadata": {
      "needs_background": "light"
     },
     "output_type": "display_data"
    }
   ],
   "source": [
    "point_biserial_df.hist(column='age', by='embarked_S', sharex=True, sharey=True);"
   ]
  },
  {
   "cell_type": "code",
   "execution_count": 984,
   "metadata": {},
   "outputs": [
    {
     "data": {
      "text/plain": [
       "KruskalResult(statistic=4.724977243252208, pvalue=0.02972757667641714)"
      ]
     },
     "execution_count": 984,
     "metadata": {},
     "output_type": "execute_result"
    }
   ],
   "source": [
    "kruskal(point_biserial_df.loc[\n",
    "    point_biserial_df.embarked_S == 0,\n",
    "    'age'\n",
    "], point_biserial_df.loc[\n",
    "    point_biserial_df.embarked_S == 1,\n",
    "    'age'\n",
    "])"
   ]
  },
  {
   "cell_type": "markdown",
   "metadata": {},
   "source": [
    "Grouping on `embarked_S`, the medians for `age` are barely different (p-value = 0.03 < 0.05)."
   ]
  },
  {
   "cell_type": "code",
   "execution_count": 985,
   "metadata": {},
   "outputs": [
    {
     "data": {
      "text/plain": [
       "pclass_1\n",
       "0    25.0\n",
       "1    39.0\n",
       "Name: age, dtype: float64"
      ]
     },
     "execution_count": 985,
     "metadata": {},
     "output_type": "execute_result"
    }
   ],
   "source": [
    "point_biserial_df.groupby('pclass_1').age.median()"
   ]
  },
  {
   "cell_type": "code",
   "execution_count": 986,
   "metadata": {},
   "outputs": [
    {
     "data": {
      "image/png": "[encoded data removed]",
      "text/plain": [
       "<Figure size 432x288 with 2 Axes>"
      ]
     },
     "metadata": {
      "needs_background": "light"
     },
     "output_type": "display_data"
    }
   ],
   "source": [
    "point_biserial_df.hist(column='age', by='pclass_1', sharex=True, sharey=True);"
   ]
  },
  {
   "cell_type": "code",
   "execution_count": 987,
   "metadata": {},
   "outputs": [
    {
     "data": {
      "text/plain": [
       "KruskalResult(statistic=148.92361266859652, pvalue=2.980148188800045e-34)"
      ]
     },
     "execution_count": 987,
     "metadata": {},
     "output_type": "execute_result"
    }
   ],
   "source": [
    "kruskal(point_biserial_df.loc[\n",
    "    point_biserial_df.pclass_1 == 0,\n",
    "    'age'\n",
    "], point_biserial_df.loc[\n",
    "    point_biserial_df.pclass_1 == 1,\n",
    "    'age'\n",
    "])"
   ]
  },
  {
   "cell_type": "markdown",
   "metadata": {},
   "source": [
    "Grouping on `pclass_1`, the medians for `age` are different."
   ]
  },
  {
   "cell_type": "code",
   "execution_count": 988,
   "metadata": {},
   "outputs": [
    {
     "data": {
      "text/plain": [
       "pclass_2\n",
       "0    28.0\n",
       "1    29.0\n",
       "Name: age, dtype: float64"
      ]
     },
     "execution_count": 988,
     "metadata": {},
     "output_type": "execute_result"
    }
   ],
   "source": [
    "point_biserial_df.groupby('pclass_2').age.median()"
   ]
  },
  {
   "cell_type": "code",
   "execution_count": 989,
   "metadata": {},
   "outputs": [
    {
     "data": {
      "image/png": "[encoded data removed]",
      "text/plain": [
       "<Figure size 432x288 with 2 Axes>"
      ]
     },
     "metadata": {
      "needs_background": "light"
     },
     "output_type": "display_data"
    }
   ],
   "source": [
    "point_biserial_df.hist(column='age', by='pclass_2', sharex=True, sharey=True);"
   ]
  },
  {
   "cell_type": "code",
   "execution_count": 990,
   "metadata": {},
   "outputs": [
    {
     "data": {
      "text/plain": [
       "KruskalResult(statistic=0.024015161368676017, pvalue=0.8768463404353709)"
      ]
     },
     "execution_count": 990,
     "metadata": {},
     "output_type": "execute_result"
    }
   ],
   "source": [
    "kruskal(point_biserial_df.loc[\n",
    "    point_biserial_df.pclass_2 == 0,\n",
    "    'age'\n",
    "], point_biserial_df.loc[\n",
    "    point_biserial_df.pclass_2 == 1,\n",
    "    'age'\n",
    "])"
   ]
  },
  {
   "cell_type": "markdown",
   "metadata": {},
   "source": [
    "Grouping on `pclass_2`, the medians for `age` are not different."
   ]
  },
  {
   "cell_type": "code",
   "execution_count": 991,
   "metadata": {},
   "outputs": [
    {
     "data": {
      "text/plain": [
       "pclass_3\n",
       "0    33.0\n",
       "1    24.0\n",
       "Name: age, dtype: float64"
      ]
     },
     "execution_count": 991,
     "metadata": {},
     "output_type": "execute_result"
    }
   ],
   "source": [
    "point_biserial_df.groupby('pclass_3').age.median()"
   ]
  },
  {
   "cell_type": "code",
   "execution_count": 992,
   "metadata": {},
   "outputs": [
    {
     "data": {
      "image/png": "[encoded data removed]",
      "text/plain": [
       "<Figure size 432x288 with 2 Axes>"
      ]
     },
     "metadata": {
      "needs_background": "light"
     },
     "output_type": "display_data"
    }
   ],
   "source": [
    "point_biserial_df.hist(column='age', by='pclass_3', sharex=True, sharey=True);"
   ]
  },
  {
   "cell_type": "code",
   "execution_count": 993,
   "metadata": {},
   "outputs": [
    {
     "data": {
      "text/plain": [
       "KruskalResult(statistic=120.96763924326049, pvalue=3.884163648953607e-28)"
      ]
     },
     "execution_count": 993,
     "metadata": {},
     "output_type": "execute_result"
    }
   ],
   "source": [
    "kruskal(point_biserial_df.loc[\n",
    "    point_biserial_df.pclass_3 == 0,\n",
    "    'age'\n",
    "], point_biserial_df.loc[\n",
    "    point_biserial_df.pclass_3 == 1,\n",
    "    'age'\n",
    "])"
   ]
  },
  {
   "cell_type": "markdown",
   "metadata": {},
   "source": [
    "Grouping on `pclass_3`, the medians for `age` are different.\n",
    "\n",
    "---\n",
    "\n",
    "There are clearly differences in `age` when splitting on some of the dichotomous variables, but no strong explanatory power.\n",
    "\n",
    "Let's see if we can accurately predict some of our ages using these variables."
   ]
  },
  {
   "cell_type": "code",
   "execution_count": 994,
   "metadata": {},
   "outputs": [],
   "source": [
    "from sklearn.linear_model import LinearRegression, Lasso, ElasticNet, Ridge\n",
    "from sklearn.svm import SVR\n",
    "from sklearn.ensemble import AdaBoostRegressor, BaggingRegressor, ExtraTreesRegressor, GradientBoostingRegressor, RandomForestRegressor\n",
    "from sklearn import model_selection\n",
    "\n",
    "regressors = {\n",
    "    'LinearRegression' : LinearRegression(),\n",
    "    'Lasso' : Lasso(),\n",
    "    'ElasticNet' : ElasticNet(),\n",
    "    'Ridge' : Ridge(),\n",
    "    'SVR_linear' : SVR(kernel='linear'),\n",
    "    'SVR_rbf' : SVR(kernel='rbf'),\n",
    "    'AdaBoostRegressor' : AdaBoostRegressor(),\n",
    "    'BaggingRegressor' : BaggingRegressor(),\n",
    "    'ExtraTreesRegressor' : ExtraTreesRegressor(),\n",
    "    'GradientBoostingRegressor' : GradientBoostingRegressor(),\n",
    "    'RandomForestRegressor' : RandomForestRegressor()\n",
    "}\n",
    "\n",
    "regressor_df = pd.DataFrame(index=regressors.keys(), columns = [\n",
    "    'accuracy',\n",
    "    'std'\n",
    "])"
   ]
  },
  {
   "cell_type": "code",
   "execution_count": 995,
   "metadata": {},
   "outputs": [],
   "source": [
    "age_df = df.loc[df.continuous.age.isnull() == False, :'continuous']\n",
    "\n",
    "age_df.columns = age_df.columns.droplevel(level=0)\n",
    "\n",
    "age_df.drop(columns='survived', inplace=True)\n",
    "\n",
    "age_df.dropna(inplace=True)\n",
    "\n",
    "age_X = age_df.drop(columns='age')\n",
    "age_y = age_df.age\n",
    "\n",
    "scaled_age_X = preprocessing.scale(age_X)"
   ]
  },
  {
   "cell_type": "code",
   "execution_count": 996,
   "metadata": {},
   "outputs": [
    {
     "data": {
      "text/html": [
       "<div>\n",
       "<style scoped>\n",
       "    .dataframe tbody tr th:only-of-type {\n",
       "        vertical-align: middle;\n",
       "    }\n",
       "\n",
       "    .dataframe tbody tr th {\n",
       "        vertical-align: top;\n",
       "    }\n",
       "\n",
       "    .dataframe thead th {\n",
       "        text-align: right;\n",
       "    }\n",
       "</style>\n",
       "<table border=\"1\" class=\"dataframe\">\n",
       "  <thead>\n",
       "    <tr style=\"text-align: right;\">\n",
       "      <th></th>\n",
       "      <th>accuracy</th>\n",
       "      <th>std</th>\n",
       "    </tr>\n",
       "  </thead>\n",
       "  <tbody>\n",
       "    <tr>\n",
       "      <th>GradientBoostingRegressor</th>\n",
       "      <td>0.304048</td>\n",
       "      <td>0.0871394</td>\n",
       "    </tr>\n",
       "    <tr>\n",
       "      <th>SVR_rbf</th>\n",
       "      <td>0.225153</td>\n",
       "      <td>0.0535525</td>\n",
       "    </tr>\n",
       "    <tr>\n",
       "      <th>Ridge</th>\n",
       "      <td>0.214517</td>\n",
       "      <td>0.0720416</td>\n",
       "    </tr>\n",
       "    <tr>\n",
       "      <th>AdaBoostRegressor</th>\n",
       "      <td>0.214393</td>\n",
       "      <td>0.104281</td>\n",
       "    </tr>\n",
       "    <tr>\n",
       "      <th>LinearRegression</th>\n",
       "      <td>0.213145</td>\n",
       "      <td>0.0717815</td>\n",
       "    </tr>\n",
       "    <tr>\n",
       "      <th>SVR_linear</th>\n",
       "      <td>0.206102</td>\n",
       "      <td>0.0708444</td>\n",
       "    </tr>\n",
       "    <tr>\n",
       "      <th>Lasso</th>\n",
       "      <td>0.200956</td>\n",
       "      <td>0.0658801</td>\n",
       "    </tr>\n",
       "    <tr>\n",
       "      <th>ElasticNet</th>\n",
       "      <td>0.191156</td>\n",
       "      <td>0.050369</td>\n",
       "    </tr>\n",
       "    <tr>\n",
       "      <th>BaggingRegressor</th>\n",
       "      <td>0.168849</td>\n",
       "      <td>0.138991</td>\n",
       "    </tr>\n",
       "    <tr>\n",
       "      <th>RandomForestRegressor</th>\n",
       "      <td>0.161185</td>\n",
       "      <td>0.141236</td>\n",
       "    </tr>\n",
       "    <tr>\n",
       "      <th>ExtraTreesRegressor</th>\n",
       "      <td>0.0087738</td>\n",
       "      <td>0.109942</td>\n",
       "    </tr>\n",
       "  </tbody>\n",
       "</table>\n",
       "</div>"
      ],
      "text/plain": [
       "                            accuracy        std\n",
       "GradientBoostingRegressor   0.304048  0.0871394\n",
       "SVR_rbf                     0.225153  0.0535525\n",
       "Ridge                       0.214517  0.0720416\n",
       "AdaBoostRegressor           0.214393   0.104281\n",
       "LinearRegression            0.213145  0.0717815\n",
       "SVR_linear                  0.206102  0.0708444\n",
       "Lasso                       0.200956  0.0658801\n",
       "ElasticNet                  0.191156   0.050369\n",
       "BaggingRegressor            0.168849   0.138991\n",
       "RandomForestRegressor       0.161185   0.141236\n",
       "ExtraTreesRegressor        0.0087738   0.109942"
      ]
     },
     "execution_count": 996,
     "metadata": {},
     "output_type": "execute_result"
    }
   ],
   "source": [
    "for k,v in regressors.items():\n",
    "    kfold = model_selection.KFold(n_splits=10)\n",
    "    results = model_selection.cross_val_score(v, scaled_age_X, age_y, cv = kfold)\n",
    "    regressor_df.loc[k, 'accuracy'] = results.mean()\n",
    "    regressor_df.loc[k, 'std'] = results.std()\n",
    "\n",
    "regressor_df.sort_values([\n",
    "    'accuracy',\n",
    "    'std'\n",
    "], ascending = False)"
   ]
  },
  {
   "cell_type": "markdown",
   "metadata": {},
   "source": [
    "Gradient Boosting did remarkably well versus the other algorithms I tried. But I want over 50%. Let's build some features and see if we can get any better."
   ]
  },
  {
   "cell_type": "code",
   "execution_count": 997,
   "metadata": {},
   "outputs": [
    {
     "data": {
      "text/plain": [
       "name      False\n",
       "ticket    False\n",
       "cabin      True\n",
       "dtype: bool"
      ]
     },
     "execution_count": 997,
     "metadata": {},
     "output_type": "execute_result"
    }
   ],
   "source": [
    "df.other.isnull().any()"
   ]
  },
  {
   "cell_type": "markdown",
   "metadata": {},
   "source": [
    "Of the `other` columns, `cabin` has null values. I'll disregard it for now.\n",
    "\n",
    "Let's start by looking at `name`."
   ]
  },
  {
   "cell_type": "code",
   "execution_count": 998,
   "metadata": {
    "scrolled": true
   },
   "outputs": [],
   "source": [
    "s = pd.Series(''.join(df.other.name.str.lower().str.replace('[^\\w\\s]', '')).split()).value_counts()"
   ]
  },
  {
   "cell_type": "code",
   "execution_count": 999,
   "metadata": {
    "scrolled": true
   },
   "outputs": [
    {
     "data": {
      "image/png": "[encoded data removed]",
      "text/plain": [
       "<Figure size 432x288 with 1 Axes>"
      ]
     },
     "metadata": {
      "needs_background": "light"
     },
     "output_type": "display_data"
    }
   ],
   "source": [
    "s.iloc[:10].plot.bar();"
   ]
  },
  {
   "cell_type": "markdown",
   "metadata": {},
   "source": [
    "`name` looks like it can be split into `title`, `last_name`, and `other`."
   ]
  },
  {
   "cell_type": "code",
   "execution_count": 1000,
   "metadata": {},
   "outputs": [],
   "source": [
    "df[('other', 'last_name')] = df.other.name.str.split(',', expand=True)[0]"
   ]
  },
  {
   "cell_type": "code",
   "execution_count": 1001,
   "metadata": {},
   "outputs": [],
   "source": [
    "df[('other', 'title')] = df.other.name.str.split(',', expand=True)[1].str.strip().str.split('.', expand=True)[0]"
   ]
  },
  {
   "cell_type": "code",
   "execution_count": 1002,
   "metadata": {},
   "outputs": [],
   "source": [
    "df[('other', 'fm_name')] = df.other.name.str.split(',', expand=True)[1].str.strip().str.split('.', expand=True).loc[:, 1:].fillna('').sum(axis=1).str.strip()"
   ]
  },
  {
   "cell_type": "code",
   "execution_count": 1003,
   "metadata": {},
   "outputs": [
    {
     "data": {
      "text/html": [
       "<div>\n",
       "<style scoped>\n",
       "    .dataframe tbody tr th:only-of-type {\n",
       "        vertical-align: middle;\n",
       "    }\n",
       "\n",
       "    .dataframe tbody tr th {\n",
       "        vertical-align: top;\n",
       "    }\n",
       "\n",
       "    .dataframe thead tr th {\n",
       "        text-align: left;\n",
       "    }\n",
       "</style>\n",
       "<table border=\"1\" class=\"dataframe\">\n",
       "  <thead>\n",
       "    <tr>\n",
       "      <th></th>\n",
       "      <th></th>\n",
       "      <th colspan=\"10\" halign=\"left\">categorical</th>\n",
       "      <th colspan=\"2\" halign=\"left\">continuous</th>\n",
       "      <th colspan=\"6\" halign=\"left\">other</th>\n",
       "    </tr>\n",
       "    <tr>\n",
       "      <th></th>\n",
       "      <th></th>\n",
       "      <th>survived</th>\n",
       "      <th>sex</th>\n",
       "      <th>sibsp</th>\n",
       "      <th>parch</th>\n",
       "      <th>embarked_C</th>\n",
       "      <th>embarked_Q</th>\n",
       "      <th>embarked_S</th>\n",
       "      <th>pclass_1</th>\n",
       "      <th>pclass_2</th>\n",
       "      <th>pclass_3</th>\n",
       "      <th>age</th>\n",
       "      <th>fare</th>\n",
       "      <th>name</th>\n",
       "      <th>ticket</th>\n",
       "      <th>cabin</th>\n",
       "      <th>last_name</th>\n",
       "      <th>title</th>\n",
       "      <th>fm_name</th>\n",
       "    </tr>\n",
       "  </thead>\n",
       "  <tbody>\n",
       "    <tr>\n",
       "      <th rowspan=\"5\" valign=\"top\">train</th>\n",
       "      <th>0</th>\n",
       "      <td>0.0</td>\n",
       "      <td>1</td>\n",
       "      <td>1</td>\n",
       "      <td>0</td>\n",
       "      <td>0</td>\n",
       "      <td>0</td>\n",
       "      <td>1</td>\n",
       "      <td>0</td>\n",
       "      <td>0</td>\n",
       "      <td>1</td>\n",
       "      <td>22.0</td>\n",
       "      <td>7.2500</td>\n",
       "      <td>Braund, Mr. Owen Harris</td>\n",
       "      <td>A/5 21171</td>\n",
       "      <td>NaN</td>\n",
       "      <td>Braund</td>\n",
       "      <td>Mr</td>\n",
       "      <td>Owen Harris</td>\n",
       "    </tr>\n",
       "    <tr>\n",
       "      <th>1</th>\n",
       "      <td>1.0</td>\n",
       "      <td>0</td>\n",
       "      <td>1</td>\n",
       "      <td>0</td>\n",
       "      <td>1</td>\n",
       "      <td>0</td>\n",
       "      <td>0</td>\n",
       "      <td>1</td>\n",
       "      <td>0</td>\n",
       "      <td>0</td>\n",
       "      <td>38.0</td>\n",
       "      <td>71.2833</td>\n",
       "      <td>Cumings, Mrs. John Bradley (Florence Briggs Th...</td>\n",
       "      <td>PC 17599</td>\n",
       "      <td>C85</td>\n",
       "      <td>Cumings</td>\n",
       "      <td>Mrs</td>\n",
       "      <td>John Bradley (Florence Briggs Thayer)</td>\n",
       "    </tr>\n",
       "    <tr>\n",
       "      <th>2</th>\n",
       "      <td>1.0</td>\n",
       "      <td>0</td>\n",
       "      <td>0</td>\n",
       "      <td>0</td>\n",
       "      <td>0</td>\n",
       "      <td>0</td>\n",
       "      <td>1</td>\n",
       "      <td>0</td>\n",
       "      <td>0</td>\n",
       "      <td>1</td>\n",
       "      <td>26.0</td>\n",
       "      <td>7.9250</td>\n",
       "      <td>Heikkinen, Miss. Laina</td>\n",
       "      <td>STON/O2. 3101282</td>\n",
       "      <td>NaN</td>\n",
       "      <td>Heikkinen</td>\n",
       "      <td>Miss</td>\n",
       "      <td>Laina</td>\n",
       "    </tr>\n",
       "    <tr>\n",
       "      <th>3</th>\n",
       "      <td>1.0</td>\n",
       "      <td>0</td>\n",
       "      <td>1</td>\n",
       "      <td>0</td>\n",
       "      <td>0</td>\n",
       "      <td>0</td>\n",
       "      <td>1</td>\n",
       "      <td>1</td>\n",
       "      <td>0</td>\n",
       "      <td>0</td>\n",
       "      <td>35.0</td>\n",
       "      <td>53.1000</td>\n",
       "      <td>Futrelle, Mrs. Jacques Heath (Lily May Peel)</td>\n",
       "      <td>113803</td>\n",
       "      <td>C123</td>\n",
       "      <td>Futrelle</td>\n",
       "      <td>Mrs</td>\n",
       "      <td>Jacques Heath (Lily May Peel)</td>\n",
       "    </tr>\n",
       "    <tr>\n",
       "      <th>4</th>\n",
       "      <td>0.0</td>\n",
       "      <td>1</td>\n",
       "      <td>0</td>\n",
       "      <td>0</td>\n",
       "      <td>0</td>\n",
       "      <td>0</td>\n",
       "      <td>1</td>\n",
       "      <td>0</td>\n",
       "      <td>0</td>\n",
       "      <td>1</td>\n",
       "      <td>35.0</td>\n",
       "      <td>8.0500</td>\n",
       "      <td>Allen, Mr. William Henry</td>\n",
       "      <td>373450</td>\n",
       "      <td>NaN</td>\n",
       "      <td>Allen</td>\n",
       "      <td>Mr</td>\n",
       "      <td>William Henry</td>\n",
       "    </tr>\n",
       "  </tbody>\n",
       "</table>\n",
       "</div>"
      ],
      "text/plain": [
       "        categorical                                                            \\\n",
       "           survived sex sibsp parch embarked_C embarked_Q embarked_S pclass_1   \n",
       "train 0         0.0   1     1     0          0          0          1        0   \n",
       "      1         1.0   0     1     0          1          0          0        1   \n",
       "      2         1.0   0     0     0          0          0          1        0   \n",
       "      3         1.0   0     1     0          0          0          1        1   \n",
       "      4         0.0   1     0     0          0          0          1        0   \n",
       "\n",
       "                          continuous           \\\n",
       "        pclass_2 pclass_3        age     fare   \n",
       "train 0        0        1       22.0   7.2500   \n",
       "      1        0        0       38.0  71.2833   \n",
       "      2        0        1       26.0   7.9250   \n",
       "      3        0        0       35.0  53.1000   \n",
       "      4        0        1       35.0   8.0500   \n",
       "\n",
       "                                                     other                    \\\n",
       "                                                      name            ticket   \n",
       "train 0                            Braund, Mr. Owen Harris         A/5 21171   \n",
       "      1  Cumings, Mrs. John Bradley (Florence Briggs Th...          PC 17599   \n",
       "      2                             Heikkinen, Miss. Laina  STON/O2. 3101282   \n",
       "      3       Futrelle, Mrs. Jacques Heath (Lily May Peel)            113803   \n",
       "      4                           Allen, Mr. William Henry            373450   \n",
       "\n",
       "                                                                       \n",
       "        cabin  last_name title                                fm_name  \n",
       "train 0   NaN     Braund    Mr                            Owen Harris  \n",
       "      1   C85    Cumings   Mrs  John Bradley (Florence Briggs Thayer)  \n",
       "      2   NaN  Heikkinen  Miss                                  Laina  \n",
       "      3  C123   Futrelle   Mrs          Jacques Heath (Lily May Peel)  \n",
       "      4   NaN      Allen    Mr                          William Henry  "
      ]
     },
     "execution_count": 1003,
     "metadata": {},
     "output_type": "execute_result"
    }
   ],
   "source": [
    "df.head()"
   ]
  },
  {
   "cell_type": "markdown",
   "metadata": {},
   "source": [
    "Let's take a look at our `title` column."
   ]
  },
  {
   "cell_type": "code",
   "execution_count": 1004,
   "metadata": {
    "scrolled": true
   },
   "outputs": [
    {
     "data": {
      "text/plain": [
       "Mr              757\n",
       "Miss            260\n",
       "Mrs             197\n",
       "Master           61\n",
       "Dr                8\n",
       "Rev               8\n",
       "Col               4\n",
       "Mlle              2\n",
       "Ms                2\n",
       "Major             2\n",
       "Mme               1\n",
       "the Countess      1\n",
       "Lady              1\n",
       "Don               1\n",
       "Sir               1\n",
       "Capt              1\n",
       "Jonkheer          1\n",
       "Dona              1\n",
       "Name: title, dtype: int64"
      ]
     },
     "execution_count": 1004,
     "metadata": {},
     "output_type": "execute_result"
    }
   ],
   "source": [
    "df.other.title.value_counts()"
   ]
  },
  {
   "cell_type": "markdown",
   "metadata": {},
   "source": [
    "We've got quite a few values. I don't want to encode them all because I don't want the algorithm to be biased over the size of the number. Instead, I'll make dummy variables."
   ]
  },
  {
   "cell_type": "code",
   "execution_count": 1005,
   "metadata": {},
   "outputs": [],
   "source": [
    "titles = pd.get_dummies(df.other.title)"
   ]
  },
  {
   "cell_type": "markdown",
   "metadata": {},
   "source": [
    "# Low Variance Filter"
   ]
  },
  {
   "cell_type": "markdown",
   "metadata": {},
   "source": [
    "Before continuing I want to remove some titles that don't supply much information, i.e. they have very low variance. Low variance suggests that not much changes whether the value is present or not."
   ]
  },
  {
   "cell_type": "code",
   "execution_count": 1006,
   "metadata": {
    "scrolled": true
   },
   "outputs": [],
   "source": [
    "titles = titles.loc[:, titles.columns[titles.var() >= 0.01]].copy()"
   ]
  },
  {
   "cell_type": "code",
   "execution_count": 1007,
   "metadata": {},
   "outputs": [],
   "source": [
    "titles.columns = pd.MultiIndex.from_product([\n",
    "    ['categorical'],\n",
    "    titles.columns\n",
    "])"
   ]
  },
  {
   "cell_type": "code",
   "execution_count": 1008,
   "metadata": {
    "scrolled": true
   },
   "outputs": [],
   "source": [
    "df = df.join(titles).sort_index(axis=1)"
   ]
  },
  {
   "cell_type": "code",
   "execution_count": 1009,
   "metadata": {},
   "outputs": [],
   "source": [
    "df.drop(columns=('other', 'title'), inplace=True)"
   ]
  },
  {
   "cell_type": "markdown",
   "metadata": {},
   "source": [
    "Let's see if any of these correlate with `age`."
   ]
  },
  {
   "cell_type": "code",
   "execution_count": 1010,
   "metadata": {
    "scrolled": true
   },
   "outputs": [
    {
     "data": {
      "text/plain": [
       "categorical  pclass_2      0.014986\n",
       "             embarked_Q    0.019458\n",
       "             sex           0.063645\n",
       "             embarked_S    0.075972\n",
       "             survived      0.077221\n",
       "             embarked_C    0.085777\n",
       "             parch         0.150917\n",
       "continuous   fare          0.178740\n",
       "categorical  Mr            0.183965\n",
       "             Mrs           0.217502\n",
       "             sibsp         0.243699\n",
       "             Miss          0.282033\n",
       "             pclass_3      0.337069\n",
       "             Master        0.391259\n",
       "             pclass_1      0.393198\n",
       "continuous   age           1.000000\n",
       "dtype: float64"
      ]
     },
     "execution_count": 1010,
     "metadata": {},
     "output_type": "execute_result"
    }
   ],
   "source": [
    "df.corrwith(df.continuous.age).abs().sort_values()"
   ]
  },
  {
   "cell_type": "markdown",
   "metadata": {},
   "source": [
    "Looks like we have a few contenders. Let's see if any have significant importance."
   ]
  },
  {
   "cell_type": "code",
   "execution_count": 1011,
   "metadata": {},
   "outputs": [],
   "source": [
    "regressors = {\n",
    "    'LinearRegression' : LinearRegression(),\n",
    "    'Lasso' : Lasso(),\n",
    "    'ElasticNet' : ElasticNet(),\n",
    "    'Ridge' : Ridge(),\n",
    "    'SVR_linear' : SVR(kernel='linear'),\n",
    "    'SVR_rbf' : SVR(kernel='rbf'),\n",
    "    'AdaBoostRegressor' : AdaBoostRegressor(),\n",
    "    'BaggingRegressor' : BaggingRegressor(),\n",
    "    'ExtraTreesRegressor' : ExtraTreesRegressor(),\n",
    "    'GradientBoostingRegressor' : GradientBoostingRegressor(),\n",
    "    'RandomForestRegressor' : RandomForestRegressor()\n",
    "}"
   ]
  },
  {
   "cell_type": "code",
   "execution_count": 1012,
   "metadata": {},
   "outputs": [],
   "source": [
    "age_df = df.drop(columns='other')\n",
    "\n",
    "age_df.columns = age_df.columns.droplevel()\n",
    "\n",
    "age_df = age_df.loc[age_df.age.isnull() == False].copy()\n",
    "\n",
    "age_df.drop(columns='survived', inplace=True)\n",
    "\n",
    "age_df.dropna(inplace=True)\n",
    "\n",
    "age_X = age_df.drop(columns='age')\n",
    "\n",
    "age_y = age_df.age\n",
    "\n",
    "scaled_age_X = preprocessing.scale(age_X)"
   ]
  },
  {
   "cell_type": "code",
   "execution_count": 1013,
   "metadata": {},
   "outputs": [
    {
     "data": {
      "text/html": [
       "<div>\n",
       "<style scoped>\n",
       "    .dataframe tbody tr th:only-of-type {\n",
       "        vertical-align: middle;\n",
       "    }\n",
       "\n",
       "    .dataframe tbody tr th {\n",
       "        vertical-align: top;\n",
       "    }\n",
       "\n",
       "    .dataframe thead th {\n",
       "        text-align: right;\n",
       "    }\n",
       "</style>\n",
       "<table border=\"1\" class=\"dataframe\">\n",
       "  <thead>\n",
       "    <tr style=\"text-align: right;\">\n",
       "      <th></th>\n",
       "      <th></th>\n",
       "      <th>Master</th>\n",
       "      <th>Miss</th>\n",
       "      <th>Mr</th>\n",
       "      <th>Mrs</th>\n",
       "      <th>embarked_C</th>\n",
       "      <th>embarked_Q</th>\n",
       "      <th>embarked_S</th>\n",
       "      <th>fare</th>\n",
       "      <th>parch</th>\n",
       "      <th>pclass_1</th>\n",
       "      <th>pclass_2</th>\n",
       "      <th>pclass_3</th>\n",
       "      <th>sex</th>\n",
       "      <th>sibsp</th>\n",
       "    </tr>\n",
       "  </thead>\n",
       "  <tbody>\n",
       "    <tr>\n",
       "      <th rowspan=\"2\" valign=\"top\">AdaBoostRegressor</th>\n",
       "      <th>importance</th>\n",
       "      <td>0.273353</td>\n",
       "      <td>0.240024</td>\n",
       "      <td>0</td>\n",
       "      <td>0.00994635</td>\n",
       "      <td>0</td>\n",
       "      <td>0.0294873</td>\n",
       "      <td>0</td>\n",
       "      <td>0.0991566</td>\n",
       "      <td>0.0761526</td>\n",
       "      <td>0.195739</td>\n",
       "      <td>0.00902358</td>\n",
       "      <td>0.0651996</td>\n",
       "      <td>0</td>\n",
       "      <td>0.00191725</td>\n",
       "    </tr>\n",
       "    <tr>\n",
       "      <th>std</th>\n",
       "      <td>0.121356</td>\n",
       "      <td>0.124003</td>\n",
       "      <td>0</td>\n",
       "      <td>0.0294824</td>\n",
       "      <td>0</td>\n",
       "      <td>0.0626517</td>\n",
       "      <td>0</td>\n",
       "      <td>0.16814</td>\n",
       "      <td>0.0806715</td>\n",
       "      <td>0.140292</td>\n",
       "      <td>0.0414331</td>\n",
       "      <td>0.132732</td>\n",
       "      <td>0</td>\n",
       "      <td>0.0100157</td>\n",
       "    </tr>\n",
       "    <tr>\n",
       "      <th rowspan=\"2\" valign=\"top\">ExtraTreesRegressor</th>\n",
       "      <th>importance</th>\n",
       "      <td>0.168717</td>\n",
       "      <td>0.132485</td>\n",
       "      <td>0.010428</td>\n",
       "      <td>0.0117493</td>\n",
       "      <td>0.0145461</td>\n",
       "      <td>0.0140312</td>\n",
       "      <td>0.0114593</td>\n",
       "      <td>0.268811</td>\n",
       "      <td>0.100968</td>\n",
       "      <td>0.198028</td>\n",
       "      <td>0.0140067</td>\n",
       "      <td>0.00707561</td>\n",
       "      <td>0.00857277</td>\n",
       "      <td>0.0391218</td>\n",
       "    </tr>\n",
       "    <tr>\n",
       "      <th>std</th>\n",
       "      <td>0.000145129</td>\n",
       "      <td>0.000113962</td>\n",
       "      <td>0.00438695</td>\n",
       "      <td>0.00230165</td>\n",
       "      <td>0.00420168</td>\n",
       "      <td>0.00140014</td>\n",
       "      <td>0.00449559</td>\n",
       "      <td>0.0102398</td>\n",
       "      <td>0.00942678</td>\n",
       "      <td>0.000170342</td>\n",
       "      <td>0.00650686</td>\n",
       "      <td>0.00608545</td>\n",
       "      <td>0.00338019</td>\n",
       "      <td>0.00491128</td>\n",
       "    </tr>\n",
       "    <tr>\n",
       "      <th rowspan=\"2\" valign=\"top\">RandomForestRegressor</th>\n",
       "      <th>importance</th>\n",
       "      <td>0.136809</td>\n",
       "      <td>0.118628</td>\n",
       "      <td>0.0224025</td>\n",
       "      <td>0.0204575</td>\n",
       "      <td>0.0170998</td>\n",
       "      <td>0.0125271</td>\n",
       "      <td>0.0165331</td>\n",
       "      <td>0.28154</td>\n",
       "      <td>0.111532</td>\n",
       "      <td>0.194053</td>\n",
       "      <td>0.00982675</td>\n",
       "      <td>0.0107314</td>\n",
       "      <td>0.0107165</td>\n",
       "      <td>0.0371426</td>\n",
       "    </tr>\n",
       "    <tr>\n",
       "      <th>std</th>\n",
       "      <td>0.0527996</td>\n",
       "      <td>0.0313112</td>\n",
       "      <td>0.0157996</td>\n",
       "      <td>0.0258424</td>\n",
       "      <td>0.00524375</td>\n",
       "      <td>0.00893443</td>\n",
       "      <td>0.00928913</td>\n",
       "      <td>0.0201684</td>\n",
       "      <td>0.0317795</td>\n",
       "      <td>0.0170638</td>\n",
       "      <td>0.00800784</td>\n",
       "      <td>0.0109951</td>\n",
       "      <td>0.00588899</td>\n",
       "      <td>0.00619049</td>\n",
       "    </tr>\n",
       "  </tbody>\n",
       "</table>\n",
       "</div>"
      ],
      "text/plain": [
       "                                       Master         Miss          Mr  \\\n",
       "AdaBoostRegressor     importance     0.273353     0.240024           0   \n",
       "                      std            0.121356     0.124003           0   \n",
       "ExtraTreesRegressor   importance     0.168717     0.132485    0.010428   \n",
       "                      std         0.000145129  0.000113962  0.00438695   \n",
       "RandomForestRegressor importance     0.136809     0.118628   0.0224025   \n",
       "                      std           0.0527996    0.0313112   0.0157996   \n",
       "\n",
       "                                         Mrs  embarked_C  embarked_Q  \\\n",
       "AdaBoostRegressor     importance  0.00994635           0   0.0294873   \n",
       "                      std          0.0294824           0   0.0626517   \n",
       "ExtraTreesRegressor   importance   0.0117493   0.0145461   0.0140312   \n",
       "                      std         0.00230165  0.00420168  0.00140014   \n",
       "RandomForestRegressor importance   0.0204575   0.0170998   0.0125271   \n",
       "                      std          0.0258424  0.00524375  0.00893443   \n",
       "\n",
       "                                  embarked_S       fare       parch  \\\n",
       "AdaBoostRegressor     importance           0  0.0991566   0.0761526   \n",
       "                      std                  0    0.16814   0.0806715   \n",
       "ExtraTreesRegressor   importance   0.0114593   0.268811    0.100968   \n",
       "                      std         0.00449559  0.0102398  0.00942678   \n",
       "RandomForestRegressor importance   0.0165331    0.28154    0.111532   \n",
       "                      std         0.00928913  0.0201684   0.0317795   \n",
       "\n",
       "                                     pclass_1    pclass_2    pclass_3  \\\n",
       "AdaBoostRegressor     importance     0.195739  0.00902358   0.0651996   \n",
       "                      std            0.140292   0.0414331    0.132732   \n",
       "ExtraTreesRegressor   importance     0.198028   0.0140067  0.00707561   \n",
       "                      std         0.000170342  0.00650686  0.00608545   \n",
       "RandomForestRegressor importance     0.194053  0.00982675   0.0107314   \n",
       "                      std           0.0170638  0.00800784   0.0109951   \n",
       "\n",
       "                                         sex       sibsp  \n",
       "AdaBoostRegressor     importance           0  0.00191725  \n",
       "                      std                  0   0.0100157  \n",
       "ExtraTreesRegressor   importance  0.00857277   0.0391218  \n",
       "                      std         0.00338019  0.00491128  \n",
       "RandomForestRegressor importance   0.0107165   0.0371426  \n",
       "                      std         0.00588899  0.00619049  "
      ]
     },
     "execution_count": 1013,
     "metadata": {},
     "output_type": "execute_result"
    }
   ],
   "source": [
    "importance_df = pd.DataFrame(index=regressors.keys(), columns=pd.MultiIndex.from_product((age_X.columns, [\n",
    "    'importance',\n",
    "    'std'\n",
    "])))\n",
    "\n",
    "for k,v in regressors.items():\n",
    "    fit = v.fit(scaled_age_X, age_y)\n",
    "    try:\n",
    "        importances = fit.feature_importances_\n",
    "        std = np.std([tree.feature_importances_ for tree in fit.estimators_], axis = 0)\n",
    "        importance_df.loc[k, (slice(None), 'importance')] = importances\n",
    "        importance_df.loc[k, (slice(None), 'std')] = std\n",
    "    except AttributeError as e:\n",
    "        importance_df.loc[k, (slice(None), 'importance')] = None\n",
    "        importance_df.loc[k, (slice(None), 'std')] = None\n",
    "\n",
    "importance_df = importance_df.stack(1)\n",
    "\n",
    "importance_df"
   ]
  },
  {
   "cell_type": "code",
   "execution_count": 1014,
   "metadata": {},
   "outputs": [
    {
     "data": {
      "text/html": [
       "<div>\n",
       "<style scoped>\n",
       "    .dataframe tbody tr th:only-of-type {\n",
       "        vertical-align: middle;\n",
       "    }\n",
       "\n",
       "    .dataframe tbody tr th {\n",
       "        vertical-align: top;\n",
       "    }\n",
       "\n",
       "    .dataframe thead th {\n",
       "        text-align: right;\n",
       "    }\n",
       "</style>\n",
       "<table border=\"1\" class=\"dataframe\">\n",
       "  <thead>\n",
       "    <tr style=\"text-align: right;\">\n",
       "      <th></th>\n",
       "      <th>Master</th>\n",
       "      <th>Miss</th>\n",
       "      <th>pclass_1</th>\n",
       "      <th>fare</th>\n",
       "      <th>parch</th>\n",
       "      <th>pclass_3</th>\n",
       "      <th>embarked_Q</th>\n",
       "      <th>Mrs</th>\n",
       "      <th>pclass_2</th>\n",
       "      <th>sibsp</th>\n",
       "      <th>embarked_C</th>\n",
       "      <th>embarked_S</th>\n",
       "      <th>Mr</th>\n",
       "      <th>sex</th>\n",
       "    </tr>\n",
       "  </thead>\n",
       "  <tbody>\n",
       "    <tr>\n",
       "      <th>AdaBoostRegressor</th>\n",
       "      <td>0.273353</td>\n",
       "      <td>0.240024</td>\n",
       "      <td>0.195739</td>\n",
       "      <td>0.0991566</td>\n",
       "      <td>0.0761526</td>\n",
       "      <td>0.0651996</td>\n",
       "      <td>0.0294873</td>\n",
       "      <td>0.00994635</td>\n",
       "      <td>0.00902358</td>\n",
       "      <td>0.00191725</td>\n",
       "      <td>0</td>\n",
       "      <td>0</td>\n",
       "      <td>0</td>\n",
       "      <td>0</td>\n",
       "    </tr>\n",
       "    <tr>\n",
       "      <th>ExtraTreesRegressor</th>\n",
       "      <td>0.168717</td>\n",
       "      <td>0.132485</td>\n",
       "      <td>0.198028</td>\n",
       "      <td>0.268811</td>\n",
       "      <td>0.100968</td>\n",
       "      <td>0.00707561</td>\n",
       "      <td>0.0140312</td>\n",
       "      <td>0.0117493</td>\n",
       "      <td>0.0140067</td>\n",
       "      <td>0.0391218</td>\n",
       "      <td>0.0145461</td>\n",
       "      <td>0.0114593</td>\n",
       "      <td>0.010428</td>\n",
       "      <td>0.00857277</td>\n",
       "    </tr>\n",
       "    <tr>\n",
       "      <th>RandomForestRegressor</th>\n",
       "      <td>0.136809</td>\n",
       "      <td>0.118628</td>\n",
       "      <td>0.194053</td>\n",
       "      <td>0.28154</td>\n",
       "      <td>0.111532</td>\n",
       "      <td>0.0107314</td>\n",
       "      <td>0.0125271</td>\n",
       "      <td>0.0204575</td>\n",
       "      <td>0.00982675</td>\n",
       "      <td>0.0371426</td>\n",
       "      <td>0.0170998</td>\n",
       "      <td>0.0165331</td>\n",
       "      <td>0.0224025</td>\n",
       "      <td>0.0107165</td>\n",
       "    </tr>\n",
       "  </tbody>\n",
       "</table>\n",
       "</div>"
      ],
      "text/plain": [
       "                         Master      Miss  pclass_1       fare      parch  \\\n",
       "AdaBoostRegressor      0.273353  0.240024  0.195739  0.0991566  0.0761526   \n",
       "ExtraTreesRegressor    0.168717  0.132485  0.198028   0.268811   0.100968   \n",
       "RandomForestRegressor  0.136809  0.118628  0.194053    0.28154   0.111532   \n",
       "\n",
       "                         pclass_3 embarked_Q         Mrs    pclass_2  \\\n",
       "AdaBoostRegressor       0.0651996  0.0294873  0.00994635  0.00902358   \n",
       "ExtraTreesRegressor    0.00707561  0.0140312   0.0117493   0.0140067   \n",
       "RandomForestRegressor   0.0107314  0.0125271   0.0204575  0.00982675   \n",
       "\n",
       "                            sibsp embarked_C embarked_S         Mr         sex  \n",
       "AdaBoostRegressor      0.00191725          0          0          0           0  \n",
       "ExtraTreesRegressor     0.0391218  0.0145461  0.0114593   0.010428  0.00857277  \n",
       "RandomForestRegressor   0.0371426  0.0170998  0.0165331  0.0224025   0.0107165  "
      ]
     },
     "execution_count": 1014,
     "metadata": {},
     "output_type": "execute_result"
    }
   ],
   "source": [
    "t = importance_df.xs('importance', level=1).copy()\n",
    "t.sort_values(t.columns.tolist(), ascending=False, inplace=True)\n",
    "t.sort_values(t.index.tolist(), axis=1, ascending=False, inplace=True)\n",
    "t.sort_values(t.columns.tolist(), ascending=False)"
   ]
  },
  {
   "cell_type": "code",
   "execution_count": 1015,
   "metadata": {},
   "outputs": [
    {
     "data": {
      "text/plain": [
       "fare         0.28154\n",
       "pclass_1    0.194053\n",
       "Master      0.136809\n",
       "Miss        0.118628\n",
       "parch       0.111532\n",
       "Name: RandomForestRegressor, dtype: object"
      ]
     },
     "execution_count": 1015,
     "metadata": {},
     "output_type": "execute_result"
    }
   ],
   "source": [
    "t.loc['RandomForestRegressor'].sort_values(ascending=False).head()"
   ]
  },
  {
   "cell_type": "code",
   "execution_count": 1016,
   "metadata": {},
   "outputs": [
    {
     "data": {
      "text/plain": [
       "fare        0.268811\n",
       "pclass_1    0.198028\n",
       "Master      0.168717\n",
       "Miss        0.132485\n",
       "parch       0.100968\n",
       "Name: ExtraTreesRegressor, dtype: object"
      ]
     },
     "execution_count": 1016,
     "metadata": {},
     "output_type": "execute_result"
    }
   ],
   "source": [
    "t.loc['ExtraTreesRegressor'].sort_values(ascending=False).head()"
   ]
  },
  {
   "cell_type": "code",
   "execution_count": 1017,
   "metadata": {},
   "outputs": [
    {
     "data": {
      "text/plain": [
       "Master       0.273353\n",
       "Miss         0.240024\n",
       "pclass_1     0.195739\n",
       "fare        0.0991566\n",
       "parch       0.0761526\n",
       "Name: AdaBoostRegressor, dtype: object"
      ]
     },
     "execution_count": 1017,
     "metadata": {},
     "output_type": "execute_result"
    }
   ],
   "source": [
    "t.loc['AdaBoostRegressor'].sort_values(ascending=False).head()"
   ]
  },
  {
   "cell_type": "code",
   "execution_count": 1018,
   "metadata": {},
   "outputs": [
    {
     "data": {
      "image/png": "[encoded data removed]",
      "text/plain": [
       "<Figure size 720x360 with 1 Axes>"
      ]
     },
     "metadata": {
      "needs_background": "light"
     },
     "output_type": "display_data"
    }
   ],
   "source": [
    "ax = t.plot.bar(figsize=(10,5))\n",
    "ax.set_xticklabels(ax.get_xticklabels(), rotation=0);"
   ]
  },
  {
   "cell_type": "markdown",
   "metadata": {},
   "source": [
    "For the 3 algorithms that produced feature importances, all three had 5 features that had importances of about 10% or greater. On top of that, the 5 features from each algorithm are the same.\n",
    "\n",
    "Let's use all features and see if we can predict age better. Then we can try limiting to the top 5."
   ]
  },
  {
   "cell_type": "code",
   "execution_count": 1019,
   "metadata": {},
   "outputs": [
    {
     "data": {
      "text/html": [
       "<div>\n",
       "<style scoped>\n",
       "    .dataframe tbody tr th:only-of-type {\n",
       "        vertical-align: middle;\n",
       "    }\n",
       "\n",
       "    .dataframe tbody tr th {\n",
       "        vertical-align: top;\n",
       "    }\n",
       "\n",
       "    .dataframe thead th {\n",
       "        text-align: right;\n",
       "    }\n",
       "</style>\n",
       "<table border=\"1\" class=\"dataframe\">\n",
       "  <thead>\n",
       "    <tr style=\"text-align: right;\">\n",
       "      <th></th>\n",
       "      <th>accuracy</th>\n",
       "      <th>std</th>\n",
       "    </tr>\n",
       "  </thead>\n",
       "  <tbody>\n",
       "    <tr>\n",
       "      <th>GradientBoostingRegressor</th>\n",
       "      <td>0.456572</td>\n",
       "      <td>0.067434</td>\n",
       "    </tr>\n",
       "    <tr>\n",
       "      <th>Ridge</th>\n",
       "      <td>0.409003</td>\n",
       "      <td>0.0598204</td>\n",
       "    </tr>\n",
       "    <tr>\n",
       "      <th>LinearRegression</th>\n",
       "      <td>0.408957</td>\n",
       "      <td>0.0596247</td>\n",
       "    </tr>\n",
       "    <tr>\n",
       "      <th>AdaBoostRegressor</th>\n",
       "      <td>0.398462</td>\n",
       "      <td>0.0613018</td>\n",
       "    </tr>\n",
       "    <tr>\n",
       "      <th>SVR_linear</th>\n",
       "      <td>0.394903</td>\n",
       "      <td>0.0659949</td>\n",
       "    </tr>\n",
       "    <tr>\n",
       "      <th>Lasso</th>\n",
       "      <td>0.378563</td>\n",
       "      <td>0.0693394</td>\n",
       "    </tr>\n",
       "    <tr>\n",
       "      <th>RandomForestRegressor</th>\n",
       "      <td>0.353534</td>\n",
       "      <td>0.102287</td>\n",
       "    </tr>\n",
       "    <tr>\n",
       "      <th>SVR_rbf</th>\n",
       "      <td>0.353407</td>\n",
       "      <td>0.0462885</td>\n",
       "    </tr>\n",
       "    <tr>\n",
       "      <th>BaggingRegressor</th>\n",
       "      <td>0.351836</td>\n",
       "      <td>0.101405</td>\n",
       "    </tr>\n",
       "    <tr>\n",
       "      <th>ElasticNet</th>\n",
       "      <td>0.349797</td>\n",
       "      <td>0.0535776</td>\n",
       "    </tr>\n",
       "    <tr>\n",
       "      <th>ExtraTreesRegressor</th>\n",
       "      <td>0.29232</td>\n",
       "      <td>0.0829451</td>\n",
       "    </tr>\n",
       "  </tbody>\n",
       "</table>\n",
       "</div>"
      ],
      "text/plain": [
       "                           accuracy        std\n",
       "GradientBoostingRegressor  0.456572   0.067434\n",
       "Ridge                      0.409003  0.0598204\n",
       "LinearRegression           0.408957  0.0596247\n",
       "AdaBoostRegressor          0.398462  0.0613018\n",
       "SVR_linear                 0.394903  0.0659949\n",
       "Lasso                      0.378563  0.0693394\n",
       "RandomForestRegressor      0.353534   0.102287\n",
       "SVR_rbf                    0.353407  0.0462885\n",
       "BaggingRegressor           0.351836   0.101405\n",
       "ElasticNet                 0.349797  0.0535776\n",
       "ExtraTreesRegressor         0.29232  0.0829451"
      ]
     },
     "execution_count": 1019,
     "metadata": {},
     "output_type": "execute_result"
    }
   ],
   "source": [
    "for k,v in regressors.items():\n",
    "    kfold = model_selection.KFold(n_splits=10)\n",
    "    results = model_selection.cross_val_score(v, scaled_age_X, age_y, cv = kfold)\n",
    "    regressor_df.loc[k, 'accuracy'] = results.mean()\n",
    "    regressor_df.loc[k, 'std'] = results.std()\n",
    "\n",
    "regressor_df.sort_values([\n",
    "    'accuracy',\n",
    "    'std'\n",
    "], ascending = False)"
   ]
  },
  {
   "cell_type": "markdown",
   "metadata": {},
   "source": [
    "We got about 50% better accuracy with the Gradient Boosting Regressor leading the way again. Can we get higher by limiting the features to the top 5 most important?"
   ]
  },
  {
   "cell_type": "code",
   "execution_count": 1020,
   "metadata": {},
   "outputs": [],
   "source": [
    "top_five = ['fare', 'pclass_1', 'Master', 'Miss', 'parch']\n",
    "\n",
    "scaled_age_X = preprocessing.scale(age_X[top_five])"
   ]
  },
  {
   "cell_type": "code",
   "execution_count": 1021,
   "metadata": {},
   "outputs": [
    {
     "data": {
      "text/html": [
       "<div>\n",
       "<style scoped>\n",
       "    .dataframe tbody tr th:only-of-type {\n",
       "        vertical-align: middle;\n",
       "    }\n",
       "\n",
       "    .dataframe tbody tr th {\n",
       "        vertical-align: top;\n",
       "    }\n",
       "\n",
       "    .dataframe thead th {\n",
       "        text-align: right;\n",
       "    }\n",
       "</style>\n",
       "<table border=\"1\" class=\"dataframe\">\n",
       "  <thead>\n",
       "    <tr style=\"text-align: right;\">\n",
       "      <th></th>\n",
       "      <th>accuracy</th>\n",
       "      <th>std</th>\n",
       "    </tr>\n",
       "  </thead>\n",
       "  <tbody>\n",
       "    <tr>\n",
       "      <th>GradientBoostingRegressor</th>\n",
       "      <td>0.43753</td>\n",
       "      <td>0.0864132</td>\n",
       "    </tr>\n",
       "    <tr>\n",
       "      <th>SVR_rbf</th>\n",
       "      <td>0.379912</td>\n",
       "      <td>0.0751693</td>\n",
       "    </tr>\n",
       "    <tr>\n",
       "      <th>Ridge</th>\n",
       "      <td>0.376478</td>\n",
       "      <td>0.094466</td>\n",
       "    </tr>\n",
       "    <tr>\n",
       "      <th>LinearRegression</th>\n",
       "      <td>0.376461</td>\n",
       "      <td>0.0945052</td>\n",
       "    </tr>\n",
       "    <tr>\n",
       "      <th>AdaBoostRegressor</th>\n",
       "      <td>0.374558</td>\n",
       "      <td>0.0795833</td>\n",
       "    </tr>\n",
       "    <tr>\n",
       "      <th>Lasso</th>\n",
       "      <td>0.367625</td>\n",
       "      <td>0.0799945</td>\n",
       "    </tr>\n",
       "    <tr>\n",
       "      <th>SVR_linear</th>\n",
       "      <td>0.360635</td>\n",
       "      <td>0.0951507</td>\n",
       "    </tr>\n",
       "    <tr>\n",
       "      <th>RandomForestRegressor</th>\n",
       "      <td>0.321269</td>\n",
       "      <td>0.132461</td>\n",
       "    </tr>\n",
       "    <tr>\n",
       "      <th>BaggingRegressor</th>\n",
       "      <td>0.319587</td>\n",
       "      <td>0.123199</td>\n",
       "    </tr>\n",
       "    <tr>\n",
       "      <th>ElasticNet</th>\n",
       "      <td>0.318079</td>\n",
       "      <td>0.0662461</td>\n",
       "    </tr>\n",
       "    <tr>\n",
       "      <th>ExtraTreesRegressor</th>\n",
       "      <td>0.294777</td>\n",
       "      <td>0.169214</td>\n",
       "    </tr>\n",
       "  </tbody>\n",
       "</table>\n",
       "</div>"
      ],
      "text/plain": [
       "                           accuracy        std\n",
       "GradientBoostingRegressor   0.43753  0.0864132\n",
       "SVR_rbf                    0.379912  0.0751693\n",
       "Ridge                      0.376478   0.094466\n",
       "LinearRegression           0.376461  0.0945052\n",
       "AdaBoostRegressor          0.374558  0.0795833\n",
       "Lasso                      0.367625  0.0799945\n",
       "SVR_linear                 0.360635  0.0951507\n",
       "RandomForestRegressor      0.321269   0.132461\n",
       "BaggingRegressor           0.319587   0.123199\n",
       "ElasticNet                 0.318079  0.0662461\n",
       "ExtraTreesRegressor        0.294777   0.169214"
      ]
     },
     "execution_count": 1021,
     "metadata": {},
     "output_type": "execute_result"
    }
   ],
   "source": [
    "for k,v in regressors.items():\n",
    "    kfold = model_selection.KFold(n_splits=10)\n",
    "    results = model_selection.cross_val_score(v, scaled_age_X, age_y, cv = kfold)\n",
    "    regressor_df.loc[k, 'accuracy'] = results.mean()\n",
    "    regressor_df.loc[k, 'std'] = results.std()\n",
    "\n",
    "regressor_df.sort_values([\n",
    "    'accuracy',\n",
    "    'std'\n",
    "], ascending = False)"
   ]
  },
  {
   "cell_type": "markdown",
   "metadata": {},
   "source": [
    "Accuracy dropped a few points for our top performing algorithms, but some also did much better (Linear Regression jumped from nearly 0% to over 37%). Let's try some PCA to combine features and see if we can get better results."
   ]
  },
  {
   "cell_type": "markdown",
   "metadata": {},
   "source": [
    "# PCA"
   ]
  },
  {
   "cell_type": "code",
   "execution_count": 1022,
   "metadata": {},
   "outputs": [],
   "source": [
    "from sklearn.decomposition import PCA\n",
    "\n",
    "# keep 99% explainable variance\n",
    "pca = PCA(n_components=.99)\n",
    "\n",
    "age_df = df.drop(columns='other')\n",
    "\n",
    "age_df.columns = age_df.columns.droplevel()\n",
    "\n",
    "age_df = age_df.loc[age_df.age.isnull() == False].copy()\n",
    "\n",
    "age_df.drop(columns='survived', inplace=True)\n",
    "\n",
    "age_df.dropna(inplace=True)\n",
    "\n",
    "age_X = age_df.drop(columns='age')\n",
    "\n",
    "age_y = age_df.age\n",
    "\n",
    "scaled_age_X = preprocessing.scale(age_X)\n",
    "\n",
    "pca.fit(scaled_age_X)\n",
    "\n",
    "scaled_age_X = pca.transform(scaled_age_X)"
   ]
  },
  {
   "cell_type": "code",
   "execution_count": 1023,
   "metadata": {},
   "outputs": [
    {
     "data": {
      "text/html": [
       "<div>\n",
       "<style scoped>\n",
       "    .dataframe tbody tr th:only-of-type {\n",
       "        vertical-align: middle;\n",
       "    }\n",
       "\n",
       "    .dataframe tbody tr th {\n",
       "        vertical-align: top;\n",
       "    }\n",
       "\n",
       "    .dataframe thead th {\n",
       "        text-align: right;\n",
       "    }\n",
       "</style>\n",
       "<table border=\"1\" class=\"dataframe\">\n",
       "  <thead>\n",
       "    <tr style=\"text-align: right;\">\n",
       "      <th></th>\n",
       "      <th>accuracy</th>\n",
       "      <th>std</th>\n",
       "    </tr>\n",
       "  </thead>\n",
       "  <tbody>\n",
       "    <tr>\n",
       "      <th>GradientBoostingRegressor</th>\n",
       "      <td>0.419784</td>\n",
       "      <td>0.0514745</td>\n",
       "    </tr>\n",
       "    <tr>\n",
       "      <th>Ridge</th>\n",
       "      <td>0.395133</td>\n",
       "      <td>0.0677353</td>\n",
       "    </tr>\n",
       "    <tr>\n",
       "      <th>LinearRegression</th>\n",
       "      <td>0.395111</td>\n",
       "      <td>0.067749</td>\n",
       "    </tr>\n",
       "    <tr>\n",
       "      <th>SVR_linear</th>\n",
       "      <td>0.385085</td>\n",
       "      <td>0.0714255</td>\n",
       "    </tr>\n",
       "    <tr>\n",
       "      <th>Lasso</th>\n",
       "      <td>0.360638</td>\n",
       "      <td>0.0620969</td>\n",
       "    </tr>\n",
       "    <tr>\n",
       "      <th>ElasticNet</th>\n",
       "      <td>0.345999</td>\n",
       "      <td>0.0567679</td>\n",
       "    </tr>\n",
       "    <tr>\n",
       "      <th>SVR_rbf</th>\n",
       "      <td>0.338086</td>\n",
       "      <td>0.0468868</td>\n",
       "    </tr>\n",
       "    <tr>\n",
       "      <th>RandomForestRegressor</th>\n",
       "      <td>0.331679</td>\n",
       "      <td>0.0579108</td>\n",
       "    </tr>\n",
       "    <tr>\n",
       "      <th>BaggingRegressor</th>\n",
       "      <td>0.322834</td>\n",
       "      <td>0.066033</td>\n",
       "    </tr>\n",
       "    <tr>\n",
       "      <th>AdaBoostRegressor</th>\n",
       "      <td>0.306104</td>\n",
       "      <td>0.103024</td>\n",
       "    </tr>\n",
       "    <tr>\n",
       "      <th>ExtraTreesRegressor</th>\n",
       "      <td>0.273495</td>\n",
       "      <td>0.0843721</td>\n",
       "    </tr>\n",
       "  </tbody>\n",
       "</table>\n",
       "</div>"
      ],
      "text/plain": [
       "                           accuracy        std\n",
       "GradientBoostingRegressor  0.419784  0.0514745\n",
       "Ridge                      0.395133  0.0677353\n",
       "LinearRegression           0.395111   0.067749\n",
       "SVR_linear                 0.385085  0.0714255\n",
       "Lasso                      0.360638  0.0620969\n",
       "ElasticNet                 0.345999  0.0567679\n",
       "SVR_rbf                    0.338086  0.0468868\n",
       "RandomForestRegressor      0.331679  0.0579108\n",
       "BaggingRegressor           0.322834   0.066033\n",
       "AdaBoostRegressor          0.306104   0.103024\n",
       "ExtraTreesRegressor        0.273495  0.0843721"
      ]
     },
     "execution_count": 1023,
     "metadata": {},
     "output_type": "execute_result"
    }
   ],
   "source": [
    "for k,v in regressors.items():\n",
    "    kfold = model_selection.KFold(n_splits=10)\n",
    "    results = model_selection.cross_val_score(v, scaled_age_X, age_y, cv = kfold)\n",
    "    regressor_df.loc[k, 'accuracy'] = results.mean()\n",
    "    regressor_df.loc[k, 'std'] = results.std()\n",
    "\n",
    "regressor_df.sort_values([\n",
    "    'accuracy',\n",
    "    'std'\n",
    "], ascending = False)"
   ]
  },
  {
   "cell_type": "markdown",
   "metadata": {},
   "source": [
    "Trying to keep 99% of variance with all features results in lower accuracy. Let's try the top 5 again."
   ]
  },
  {
   "cell_type": "code",
   "execution_count": 1024,
   "metadata": {},
   "outputs": [],
   "source": [
    "top_five = ['fare', 'pclass_1', 'Master', 'Miss', 'parch']\n",
    "\n",
    "scaled_age_X = preprocessing.scale(age_X[top_five])\n",
    "\n",
    "pca.fit(scaled_age_X)\n",
    "\n",
    "scaled_age_X = pca.transform(scaled_age_X)"
   ]
  },
  {
   "cell_type": "code",
   "execution_count": 1025,
   "metadata": {},
   "outputs": [
    {
     "data": {
      "text/html": [
       "<div>\n",
       "<style scoped>\n",
       "    .dataframe tbody tr th:only-of-type {\n",
       "        vertical-align: middle;\n",
       "    }\n",
       "\n",
       "    .dataframe tbody tr th {\n",
       "        vertical-align: top;\n",
       "    }\n",
       "\n",
       "    .dataframe thead th {\n",
       "        text-align: right;\n",
       "    }\n",
       "</style>\n",
       "<table border=\"1\" class=\"dataframe\">\n",
       "  <thead>\n",
       "    <tr style=\"text-align: right;\">\n",
       "      <th></th>\n",
       "      <th>accuracy</th>\n",
       "      <th>std</th>\n",
       "    </tr>\n",
       "  </thead>\n",
       "  <tbody>\n",
       "    <tr>\n",
       "      <th>GradientBoostingRegressor</th>\n",
       "      <td>0.415125</td>\n",
       "      <td>0.105268</td>\n",
       "    </tr>\n",
       "    <tr>\n",
       "      <th>SVR_rbf</th>\n",
       "      <td>0.379912</td>\n",
       "      <td>0.0751693</td>\n",
       "    </tr>\n",
       "    <tr>\n",
       "      <th>Ridge</th>\n",
       "      <td>0.376478</td>\n",
       "      <td>0.094466</td>\n",
       "    </tr>\n",
       "    <tr>\n",
       "      <th>LinearRegression</th>\n",
       "      <td>0.376461</td>\n",
       "      <td>0.0945052</td>\n",
       "    </tr>\n",
       "    <tr>\n",
       "      <th>AdaBoostRegressor</th>\n",
       "      <td>0.366616</td>\n",
       "      <td>0.0764869</td>\n",
       "    </tr>\n",
       "    <tr>\n",
       "      <th>SVR_linear</th>\n",
       "      <td>0.360635</td>\n",
       "      <td>0.0951507</td>\n",
       "    </tr>\n",
       "    <tr>\n",
       "      <th>BaggingRegressor</th>\n",
       "      <td>0.354614</td>\n",
       "      <td>0.100588</td>\n",
       "    </tr>\n",
       "    <tr>\n",
       "      <th>Lasso</th>\n",
       "      <td>0.344791</td>\n",
       "      <td>0.0861023</td>\n",
       "    </tr>\n",
       "    <tr>\n",
       "      <th>RandomForestRegressor</th>\n",
       "      <td>0.343228</td>\n",
       "      <td>0.119094</td>\n",
       "    </tr>\n",
       "    <tr>\n",
       "      <th>ElasticNet</th>\n",
       "      <td>0.312598</td>\n",
       "      <td>0.0698711</td>\n",
       "    </tr>\n",
       "    <tr>\n",
       "      <th>ExtraTreesRegressor</th>\n",
       "      <td>0.292973</td>\n",
       "      <td>0.166541</td>\n",
       "    </tr>\n",
       "  </tbody>\n",
       "</table>\n",
       "</div>"
      ],
      "text/plain": [
       "                           accuracy        std\n",
       "GradientBoostingRegressor  0.415125   0.105268\n",
       "SVR_rbf                    0.379912  0.0751693\n",
       "Ridge                      0.376478   0.094466\n",
       "LinearRegression           0.376461  0.0945052\n",
       "AdaBoostRegressor          0.366616  0.0764869\n",
       "SVR_linear                 0.360635  0.0951507\n",
       "BaggingRegressor           0.354614   0.100588\n",
       "Lasso                      0.344791  0.0861023\n",
       "RandomForestRegressor      0.343228   0.119094\n",
       "ElasticNet                 0.312598  0.0698711\n",
       "ExtraTreesRegressor        0.292973   0.166541"
      ]
     },
     "execution_count": 1025,
     "metadata": {},
     "output_type": "execute_result"
    }
   ],
   "source": [
    "for k,v in regressors.items():\n",
    "    kfold = model_selection.KFold(n_splits=10)\n",
    "    results = model_selection.cross_val_score(v, scaled_age_X, age_y, cv = kfold)\n",
    "    regressor_df.loc[k, 'accuracy'] = results.mean()\n",
    "    regressor_df.loc[k, 'std'] = results.std()\n",
    "\n",
    "regressor_df.sort_values([\n",
    "    'accuracy',\n",
    "    'std'\n",
    "], ascending = False)"
   ]
  },
  {
   "cell_type": "markdown",
   "metadata": {},
   "source": [
    "About the same compared to when using all the features, but still worse than without PCA. Let's try Isomap."
   ]
  },
  {
   "cell_type": "markdown",
   "metadata": {},
   "source": [
    "# Isomap"
   ]
  },
  {
   "cell_type": "code",
   "execution_count": 1026,
   "metadata": {},
   "outputs": [],
   "source": [
    "from sklearn.manifold import Isomap\n",
    "\n",
    "iso = Isomap()\n",
    "\n",
    "age_df = df.drop(columns='other')\n",
    "\n",
    "age_df.columns = age_df.columns.droplevel()\n",
    "\n",
    "age_df = age_df.loc[age_df.age.isnull() == False].copy()\n",
    "\n",
    "age_df.drop(columns='survived', inplace=True)\n",
    "\n",
    "age_df.dropna(inplace=True)\n",
    "\n",
    "age_X = age_df.drop(columns='age')\n",
    "\n",
    "age_y = age_df.age\n",
    "\n",
    "scaled_age_X = preprocessing.scale(age_X)\n",
    "\n",
    "iso.fit(scaled_age_X)\n",
    "\n",
    "scaled_age_X = iso.transform(scaled_age_X)"
   ]
  },
  {
   "cell_type": "code",
   "execution_count": 1027,
   "metadata": {},
   "outputs": [
    {
     "data": {
      "text/html": [
       "<div>\n",
       "<style scoped>\n",
       "    .dataframe tbody tr th:only-of-type {\n",
       "        vertical-align: middle;\n",
       "    }\n",
       "\n",
       "    .dataframe tbody tr th {\n",
       "        vertical-align: top;\n",
       "    }\n",
       "\n",
       "    .dataframe thead th {\n",
       "        text-align: right;\n",
       "    }\n",
       "</style>\n",
       "<table border=\"1\" class=\"dataframe\">\n",
       "  <thead>\n",
       "    <tr style=\"text-align: right;\">\n",
       "      <th></th>\n",
       "      <th>accuracy</th>\n",
       "      <th>std</th>\n",
       "    </tr>\n",
       "  </thead>\n",
       "  <tbody>\n",
       "    <tr>\n",
       "      <th>GradientBoostingRegressor</th>\n",
       "      <td>0.359956</td>\n",
       "      <td>0.0521251</td>\n",
       "    </tr>\n",
       "    <tr>\n",
       "      <th>BaggingRegressor</th>\n",
       "      <td>0.291927</td>\n",
       "      <td>0.0749302</td>\n",
       "    </tr>\n",
       "    <tr>\n",
       "      <th>RandomForestRegressor</th>\n",
       "      <td>0.284634</td>\n",
       "      <td>0.074194</td>\n",
       "    </tr>\n",
       "    <tr>\n",
       "      <th>ExtraTreesRegressor</th>\n",
       "      <td>0.214516</td>\n",
       "      <td>0.0930575</td>\n",
       "    </tr>\n",
       "    <tr>\n",
       "      <th>AdaBoostRegressor</th>\n",
       "      <td>0.209499</td>\n",
       "      <td>0.0564928</td>\n",
       "    </tr>\n",
       "    <tr>\n",
       "      <th>SVR_rbf</th>\n",
       "      <td>0.164482</td>\n",
       "      <td>0.0681493</td>\n",
       "    </tr>\n",
       "    <tr>\n",
       "      <th>Ridge</th>\n",
       "      <td>0.0617533</td>\n",
       "      <td>0.0384723</td>\n",
       "    </tr>\n",
       "    <tr>\n",
       "      <th>LinearRegression</th>\n",
       "      <td>0.0617532</td>\n",
       "      <td>0.0384739</td>\n",
       "    </tr>\n",
       "    <tr>\n",
       "      <th>ElasticNet</th>\n",
       "      <td>0.0616902</td>\n",
       "      <td>0.0368832</td>\n",
       "    </tr>\n",
       "    <tr>\n",
       "      <th>Lasso</th>\n",
       "      <td>0.0616036</td>\n",
       "      <td>0.0367848</td>\n",
       "    </tr>\n",
       "    <tr>\n",
       "      <th>SVR_linear</th>\n",
       "      <td>0.0396285</td>\n",
       "      <td>0.0635486</td>\n",
       "    </tr>\n",
       "  </tbody>\n",
       "</table>\n",
       "</div>"
      ],
      "text/plain": [
       "                            accuracy        std\n",
       "GradientBoostingRegressor   0.359956  0.0521251\n",
       "BaggingRegressor            0.291927  0.0749302\n",
       "RandomForestRegressor       0.284634   0.074194\n",
       "ExtraTreesRegressor         0.214516  0.0930575\n",
       "AdaBoostRegressor           0.209499  0.0564928\n",
       "SVR_rbf                     0.164482  0.0681493\n",
       "Ridge                      0.0617533  0.0384723\n",
       "LinearRegression           0.0617532  0.0384739\n",
       "ElasticNet                 0.0616902  0.0368832\n",
       "Lasso                      0.0616036  0.0367848\n",
       "SVR_linear                 0.0396285  0.0635486"
      ]
     },
     "execution_count": 1027,
     "metadata": {},
     "output_type": "execute_result"
    }
   ],
   "source": [
    "for k,v in regressors.items():\n",
    "    kfold = model_selection.KFold(n_splits=10)\n",
    "    results = model_selection.cross_val_score(v, scaled_age_X, age_y, cv = kfold)\n",
    "    regressor_df.loc[k, 'accuracy'] = results.mean()\n",
    "    regressor_df.loc[k, 'std'] = results.std()\n",
    "\n",
    "regressor_df.sort_values([\n",
    "    'accuracy',\n",
    "    'std'\n",
    "], ascending = False)"
   ]
  },
  {
   "cell_type": "markdown",
   "metadata": {},
   "source": [
    "Not good. Let's try with the top 5 features again."
   ]
  },
  {
   "cell_type": "code",
   "execution_count": 1028,
   "metadata": {},
   "outputs": [],
   "source": [
    "top_five = ['fare', 'pclass_1', 'Master', 'Miss', 'parch']\n",
    "\n",
    "scaled_age_X = preprocessing.scale(age_X[top_five])\n",
    "\n",
    "iso.fit(scaled_age_X)\n",
    "\n",
    "scaled_age_X = iso.transform(scaled_age_X)"
   ]
  },
  {
   "cell_type": "code",
   "execution_count": 1029,
   "metadata": {},
   "outputs": [
    {
     "data": {
      "text/html": [
       "<div>\n",
       "<style scoped>\n",
       "    .dataframe tbody tr th:only-of-type {\n",
       "        vertical-align: middle;\n",
       "    }\n",
       "\n",
       "    .dataframe tbody tr th {\n",
       "        vertical-align: top;\n",
       "    }\n",
       "\n",
       "    .dataframe thead th {\n",
       "        text-align: right;\n",
       "    }\n",
       "</style>\n",
       "<table border=\"1\" class=\"dataframe\">\n",
       "  <thead>\n",
       "    <tr style=\"text-align: right;\">\n",
       "      <th></th>\n",
       "      <th>accuracy</th>\n",
       "      <th>std</th>\n",
       "    </tr>\n",
       "  </thead>\n",
       "  <tbody>\n",
       "    <tr>\n",
       "      <th>GradientBoostingRegressor</th>\n",
       "      <td>0.226193</td>\n",
       "      <td>0.0716145</td>\n",
       "    </tr>\n",
       "    <tr>\n",
       "      <th>RandomForestRegressor</th>\n",
       "      <td>0.202629</td>\n",
       "      <td>0.13054</td>\n",
       "    </tr>\n",
       "    <tr>\n",
       "      <th>ExtraTreesRegressor</th>\n",
       "      <td>0.187241</td>\n",
       "      <td>0.135735</td>\n",
       "    </tr>\n",
       "    <tr>\n",
       "      <th>BaggingRegressor</th>\n",
       "      <td>0.183843</td>\n",
       "      <td>0.123474</td>\n",
       "    </tr>\n",
       "    <tr>\n",
       "      <th>AdaBoostRegressor</th>\n",
       "      <td>0.0506491</td>\n",
       "      <td>0.0730806</td>\n",
       "    </tr>\n",
       "    <tr>\n",
       "      <th>Lasso</th>\n",
       "      <td>0.0364579</td>\n",
       "      <td>0.0334013</td>\n",
       "    </tr>\n",
       "    <tr>\n",
       "      <th>ElasticNet</th>\n",
       "      <td>0.0363021</td>\n",
       "      <td>0.0334592</td>\n",
       "    </tr>\n",
       "    <tr>\n",
       "      <th>SVR_rbf</th>\n",
       "      <td>0.0351859</td>\n",
       "      <td>0.0636173</td>\n",
       "    </tr>\n",
       "    <tr>\n",
       "      <th>Ridge</th>\n",
       "      <td>0.0322813</td>\n",
       "      <td>0.0371987</td>\n",
       "    </tr>\n",
       "    <tr>\n",
       "      <th>LinearRegression</th>\n",
       "      <td>0.0322703</td>\n",
       "      <td>0.0372036</td>\n",
       "    </tr>\n",
       "    <tr>\n",
       "      <th>SVR_linear</th>\n",
       "      <td>0.0146756</td>\n",
       "      <td>0.0485015</td>\n",
       "    </tr>\n",
       "  </tbody>\n",
       "</table>\n",
       "</div>"
      ],
      "text/plain": [
       "                            accuracy        std\n",
       "GradientBoostingRegressor   0.226193  0.0716145\n",
       "RandomForestRegressor       0.202629    0.13054\n",
       "ExtraTreesRegressor         0.187241   0.135735\n",
       "BaggingRegressor            0.183843   0.123474\n",
       "AdaBoostRegressor          0.0506491  0.0730806\n",
       "Lasso                      0.0364579  0.0334013\n",
       "ElasticNet                 0.0363021  0.0334592\n",
       "SVR_rbf                    0.0351859  0.0636173\n",
       "Ridge                      0.0322813  0.0371987\n",
       "LinearRegression           0.0322703  0.0372036\n",
       "SVR_linear                 0.0146756  0.0485015"
      ]
     },
     "execution_count": 1029,
     "metadata": {},
     "output_type": "execute_result"
    }
   ],
   "source": [
    "for k,v in regressors.items():\n",
    "    kfold = model_selection.KFold(n_splits=10)\n",
    "    results = model_selection.cross_val_score(v, scaled_age_X, age_y, cv = kfold)\n",
    "    regressor_df.loc[k, 'accuracy'] = results.mean()\n",
    "    regressor_df.loc[k, 'std'] = results.std()\n",
    "\n",
    "regressor_df.sort_values([\n",
    "    'accuracy',\n",
    "    'std'\n",
    "], ascending = False)"
   ]
  },
  {
   "cell_type": "markdown",
   "metadata": {},
   "source": [
    "Worse. Let's check for multicollinearity.\n",
    "\n",
    "Problem! All of the features in our dataset (except `fare`) are binary. So we can't use our typical correlation techniques. Let's try Cramer's V."
   ]
  },
  {
   "cell_type": "markdown",
   "metadata": {},
   "source": [
    "# Cramer's V"
   ]
  },
  {
   "cell_type": "code",
   "execution_count": 1030,
   "metadata": {},
   "outputs": [],
   "source": [
    "from dython.nominal import associations"
   ]
  },
  {
   "cell_type": "code",
   "execution_count": 1031,
   "metadata": {
    "scrolled": true
   },
   "outputs": [],
   "source": [
    "age_df = df.drop(columns='other')\n",
    "\n",
    "age_df.columns = age_df.columns.droplevel()\n",
    "\n",
    "age_df = age_df.loc[age_df.age.isnull() == False].copy()\n",
    "\n",
    "age_df.drop(columns='survived', inplace=True)\n",
    "\n",
    "age_df.dropna(inplace=True)\n",
    "\n",
    "age_X = age_df.drop(columns='age')\n",
    "\n",
    "age_X = age_X.loc[:, age_X.var() >= 0.01].copy()\n",
    "\n",
    "age_y = age_df.age\n",
    "\n",
    "age_X_cramer = age_X.drop(columns='fare')"
   ]
  },
  {
   "cell_type": "code",
   "execution_count": 1032,
   "metadata": {},
   "outputs": [
    {
     "data": {
      "image/png": "[encoded data removed]",
      "text/plain": [
       "<Figure size 504x504 with 2 Axes>"
      ]
     },
     "metadata": {
      "needs_background": "light"
     },
     "output_type": "display_data"
    }
   ],
   "source": [
    "associations(age_X_cramer, figsize = (7,7))"
   ]
  },
  {
   "cell_type": "markdown",
   "metadata": {},
   "source": [
    "Cramer's V appears to tell us quite a bit. We see strong association between `sex` and `Mr`, and also between `embarked_C` and `embarked_S`. Let's try PCA on these smaller subsets of features."
   ]
  },
  {
   "cell_type": "code",
   "execution_count": 1033,
   "metadata": {},
   "outputs": [],
   "source": [
    "pca_sex = PCA(n_components=.99)\n",
    "pca_embarked = PCA(n_components=.99)\n",
    "pca_pclass = PCA(n_components=.99)\n",
    "\n",
    "age_df = df.drop(columns='other')\n",
    "\n",
    "age_df.columns = age_df.columns.droplevel()\n",
    "\n",
    "age_df = age_df.loc[age_df.age.isnull() == False].copy()\n",
    "\n",
    "age_df.drop(columns='survived', inplace=True)\n",
    "\n",
    "age_df.dropna(inplace=True)\n",
    "\n",
    "age_X = age_df.drop(columns='age')\n",
    "\n",
    "age_X = age_X.loc[:, age_X.var() >= 0.01].copy()\n",
    "\n",
    "age_y = age_df.age\n",
    "\n",
    "scaled_age_X_sex = preprocessing.scale(age_X.loc[:, :'Mrs'].join(age_X.sex))\n",
    "\n",
    "scaled_age_X_embarked = preprocessing.scale(age_X.loc[:, 'embarked_C':'embarked_S'])\n",
    "\n",
    "scaled_age_X_pclass = preprocessing.scale(age_X.loc[:, 'pclass_1':'pclass_3'])\n",
    "\n",
    "scaled_age_X_rest = preprocessing.scale(age_X.loc[:, ['parch', 'sibsp', 'fare']])\n",
    "\n",
    "pca_sex.fit(scaled_age_X_sex)\n",
    "scaled_age_X_sex = pca_sex.transform(scaled_age_X_sex)\n",
    "\n",
    "pca_embarked.fit(scaled_age_X_embarked)\n",
    "scaled_age_X_embarked = pca_embarked.transform(scaled_age_X_embarked)\n",
    "\n",
    "pca_pclass.fit(scaled_age_X_pclass)\n",
    "scaled_age_X_pclass = pca_pclass.transform(scaled_age_X_pclass)\n",
    "\n",
    "scaled_age_X = np.hstack((\n",
    "    scaled_age_X_embarked,\n",
    "    scaled_age_X_pclass,\n",
    "    scaled_age_X_rest,\n",
    "    scaled_age_X_sex\n",
    "))"
   ]
  },
  {
   "cell_type": "code",
   "execution_count": 1034,
   "metadata": {},
   "outputs": [
    {
     "data": {
      "text/html": [
       "<div>\n",
       "<style scoped>\n",
       "    .dataframe tbody tr th:only-of-type {\n",
       "        vertical-align: middle;\n",
       "    }\n",
       "\n",
       "    .dataframe tbody tr th {\n",
       "        vertical-align: top;\n",
       "    }\n",
       "\n",
       "    .dataframe thead th {\n",
       "        text-align: right;\n",
       "    }\n",
       "</style>\n",
       "<table border=\"1\" class=\"dataframe\">\n",
       "  <thead>\n",
       "    <tr style=\"text-align: right;\">\n",
       "      <th></th>\n",
       "      <th>accuracy</th>\n",
       "      <th>std</th>\n",
       "    </tr>\n",
       "  </thead>\n",
       "  <tbody>\n",
       "    <tr>\n",
       "      <th>GradientBoostingRegressor</th>\n",
       "      <td>0.457952</td>\n",
       "      <td>0.0632959</td>\n",
       "    </tr>\n",
       "    <tr>\n",
       "      <th>Ridge</th>\n",
       "      <td>0.406779</td>\n",
       "      <td>0.0641087</td>\n",
       "    </tr>\n",
       "    <tr>\n",
       "      <th>LinearRegression</th>\n",
       "      <td>0.406742</td>\n",
       "      <td>0.0640486</td>\n",
       "    </tr>\n",
       "    <tr>\n",
       "      <th>AdaBoostRegressor</th>\n",
       "      <td>0.395353</td>\n",
       "      <td>0.061256</td>\n",
       "    </tr>\n",
       "    <tr>\n",
       "      <th>SVR_linear</th>\n",
       "      <td>0.389582</td>\n",
       "      <td>0.0683017</td>\n",
       "    </tr>\n",
       "    <tr>\n",
       "      <th>Lasso</th>\n",
       "      <td>0.373316</td>\n",
       "      <td>0.0646542</td>\n",
       "    </tr>\n",
       "    <tr>\n",
       "      <th>RandomForestRegressor</th>\n",
       "      <td>0.354734</td>\n",
       "      <td>0.0857055</td>\n",
       "    </tr>\n",
       "    <tr>\n",
       "      <th>ElasticNet</th>\n",
       "      <td>0.350465</td>\n",
       "      <td>0.0556127</td>\n",
       "    </tr>\n",
       "    <tr>\n",
       "      <th>SVR_rbf</th>\n",
       "      <td>0.341575</td>\n",
       "      <td>0.047448</td>\n",
       "    </tr>\n",
       "    <tr>\n",
       "      <th>BaggingRegressor</th>\n",
       "      <td>0.334263</td>\n",
       "      <td>0.10425</td>\n",
       "    </tr>\n",
       "    <tr>\n",
       "      <th>ExtraTreesRegressor</th>\n",
       "      <td>0.285666</td>\n",
       "      <td>0.0914914</td>\n",
       "    </tr>\n",
       "  </tbody>\n",
       "</table>\n",
       "</div>"
      ],
      "text/plain": [
       "                           accuracy        std\n",
       "GradientBoostingRegressor  0.457952  0.0632959\n",
       "Ridge                      0.406779  0.0641087\n",
       "LinearRegression           0.406742  0.0640486\n",
       "AdaBoostRegressor          0.395353   0.061256\n",
       "SVR_linear                 0.389582  0.0683017\n",
       "Lasso                      0.373316  0.0646542\n",
       "RandomForestRegressor      0.354734  0.0857055\n",
       "ElasticNet                 0.350465  0.0556127\n",
       "SVR_rbf                    0.341575   0.047448\n",
       "BaggingRegressor           0.334263    0.10425\n",
       "ExtraTreesRegressor        0.285666  0.0914914"
      ]
     },
     "execution_count": 1034,
     "metadata": {},
     "output_type": "execute_result"
    }
   ],
   "source": [
    "for k,v in regressors.items():\n",
    "    kfold = model_selection.KFold(n_splits=10)\n",
    "    results = model_selection.cross_val_score(v, scaled_age_X, age_y, cv = kfold)\n",
    "    regressor_df.loc[k, 'accuracy'] = results.mean()\n",
    "    regressor_df.loc[k, 'std'] = results.std()\n",
    "\n",
    "regressor_df.sort_values([\n",
    "    'accuracy',\n",
    "    'std'\n",
    "], ascending = False)"
   ]
  },
  {
   "cell_type": "markdown",
   "metadata": {},
   "source": [
    "Another good increase in accuracy! While not an overall good jump, this showed promise for PCA as it is now comparable with throwing all variables into the algorithms. Let's see if the same can be said for Isomap."
   ]
  },
  {
   "cell_type": "code",
   "execution_count": 1035,
   "metadata": {},
   "outputs": [
    {
     "name": "stderr",
     "output_type": "stream",
     "text": [
      "C:\\Users\\IT045886\\AppData\\Local\\Continuum\\anaconda3\\lib\\site-packages\\sklearn\\decomposition\\kernel_pca.py:285: RuntimeWarning: divide by zero encountered in true_divide\n",
      "  return np.dot(K, self.alphas_ / np.sqrt(self.lambdas_))\n",
      "C:\\Users\\IT045886\\AppData\\Local\\Continuum\\anaconda3\\lib\\site-packages\\sklearn\\decomposition\\kernel_pca.py:285: RuntimeWarning: divide by zero encountered in true_divide\n",
      "  return np.dot(K, self.alphas_ / np.sqrt(self.lambdas_))\n"
     ]
    }
   ],
   "source": [
    "iso_sex = Isomap()\n",
    "iso_embarked = Isomap()\n",
    "iso_pclass = Isomap()\n",
    "\n",
    "age_df = df.drop(columns='other')\n",
    "\n",
    "age_df.columns = age_df.columns.droplevel()\n",
    "\n",
    "age_df = age_df.loc[age_df.age.isnull() == False].copy()\n",
    "\n",
    "age_df.drop(columns='survived', inplace=True)\n",
    "\n",
    "age_df.dropna(inplace=True)\n",
    "\n",
    "age_X = age_df.drop(columns='age')\n",
    "\n",
    "age_X = age_X.loc[:, age_X.var() >= 0.01].copy()\n",
    "\n",
    "age_y = age_df.age\n",
    "\n",
    "scaled_age_X_sex = preprocessing.scale(age_X.loc[:, :'Mrs'].join(age_X.sex))\n",
    "\n",
    "scaled_age_X_embarked = preprocessing.scale(age_X.loc[:, 'embarked_C':'embarked_S'])\n",
    "\n",
    "scaled_age_X_pclass = preprocessing.scale(age_X.loc[:, 'pclass_1':'pclass_3'])\n",
    "\n",
    "scaled_age_X_rest = preprocessing.scale(age_X.loc[:, ['parch', 'sibsp', 'fare']])\n",
    "\n",
    "iso_sex.fit(scaled_age_X_sex)\n",
    "scaled_age_X_sex = iso_sex.transform(scaled_age_X_sex)\n",
    "\n",
    "iso_embarked.fit(scaled_age_X_embarked)\n",
    "scaled_age_X_embarked = iso_embarked.transform(scaled_age_X_embarked)\n",
    "\n",
    "iso_pclass.fit(scaled_age_X_pclass)\n",
    "scaled_age_X_pclass = iso_pclass.transform(scaled_age_X_pclass)\n",
    "\n",
    "scaled_age_X = np.hstack((\n",
    "    scaled_age_X_embarked,\n",
    "    scaled_age_X_pclass,\n",
    "    scaled_age_X_rest,\n",
    "    scaled_age_X_sex\n",
    "))"
   ]
  },
  {
   "cell_type": "markdown",
   "metadata": {},
   "source": [
    "The Isomap can't compute due to division by zero in the algorithm. So it's out.\n",
    "\n",
    "Let's see if we can engineer another feature out of our `other` columns."
   ]
  },
  {
   "cell_type": "markdown",
   "metadata": {},
   "source": [
    "# Ticket Holders"
   ]
  },
  {
   "cell_type": "code",
   "execution_count": 1036,
   "metadata": {},
   "outputs": [],
   "source": [
    "ticket_holders = df.groupby(('other', 'ticket'))[[('other', 'name')]].nunique().reset_index().rename(columns={\n",
    "    'name' : 'ticket_holders'\n",
    "}, level=1)\n",
    "\n",
    "ticket_holders.columns = ticket_holders.columns.droplevel()\n",
    "\n",
    "ticket_holders.columns = pd.MultiIndex.from_arrays([['other', 'categorical'], ticket_holders.columns])"
   ]
  },
  {
   "cell_type": "code",
   "execution_count": 1037,
   "metadata": {},
   "outputs": [
    {
     "data": {
      "text/html": [
       "<div>\n",
       "<style scoped>\n",
       "    .dataframe tbody tr th:only-of-type {\n",
       "        vertical-align: middle;\n",
       "    }\n",
       "\n",
       "    .dataframe tbody tr th {\n",
       "        vertical-align: top;\n",
       "    }\n",
       "\n",
       "    .dataframe thead tr th {\n",
       "        text-align: left;\n",
       "    }\n",
       "</style>\n",
       "<table border=\"1\" class=\"dataframe\">\n",
       "  <thead>\n",
       "    <tr>\n",
       "      <th></th>\n",
       "      <th>other</th>\n",
       "      <th>categorical</th>\n",
       "    </tr>\n",
       "    <tr>\n",
       "      <th></th>\n",
       "      <th>ticket</th>\n",
       "      <th>ticket_holders</th>\n",
       "    </tr>\n",
       "  </thead>\n",
       "  <tbody>\n",
       "    <tr>\n",
       "      <th>0</th>\n",
       "      <td>110152</td>\n",
       "      <td>3</td>\n",
       "    </tr>\n",
       "    <tr>\n",
       "      <th>1</th>\n",
       "      <td>110413</td>\n",
       "      <td>3</td>\n",
       "    </tr>\n",
       "    <tr>\n",
       "      <th>2</th>\n",
       "      <td>110465</td>\n",
       "      <td>2</td>\n",
       "    </tr>\n",
       "    <tr>\n",
       "      <th>3</th>\n",
       "      <td>110469</td>\n",
       "      <td>1</td>\n",
       "    </tr>\n",
       "    <tr>\n",
       "      <th>4</th>\n",
       "      <td>110489</td>\n",
       "      <td>1</td>\n",
       "    </tr>\n",
       "  </tbody>\n",
       "</table>\n",
       "</div>"
      ],
      "text/plain": [
       "    other    categorical\n",
       "   ticket ticket_holders\n",
       "0  110152              3\n",
       "1  110413              3\n",
       "2  110465              2\n",
       "3  110469              1\n",
       "4  110489              1"
      ]
     },
     "execution_count": 1037,
     "metadata": {},
     "output_type": "execute_result"
    }
   ],
   "source": [
    "ticket_holders.head()"
   ]
  },
  {
   "cell_type": "code",
   "execution_count": 1038,
   "metadata": {},
   "outputs": [],
   "source": [
    "df = df.reset_index().merge(ticket_holders).set_index(['level_0', 'level_1']).sort_index().sort_index(axis=1)"
   ]
  },
  {
   "cell_type": "markdown",
   "metadata": {},
   "source": [
    "Let's see if our `ticket_holders` has any association with the other `categorical` features using Cramer's V again."
   ]
  },
  {
   "cell_type": "code",
   "execution_count": 1039,
   "metadata": {},
   "outputs": [],
   "source": [
    "age_df = df.drop(columns='other')\n",
    "\n",
    "age_df.columns = age_df.columns.droplevel()\n",
    "\n",
    "age_df = age_df.loc[age_df.age.isnull() == False].copy()\n",
    "\n",
    "age_df.drop(columns='survived', inplace=True)\n",
    "\n",
    "age_df.dropna(inplace=True)\n",
    "\n",
    "age_X = age_df.drop(columns='age')\n",
    "\n",
    "age_X = age_X.loc[:, age_X.var() >= 0.01].copy()\n",
    "\n",
    "age_y = age_df.age"
   ]
  },
  {
   "cell_type": "code",
   "execution_count": 1040,
   "metadata": {},
   "outputs": [
    {
     "data": {
      "image/png": "[encoded data removed]",
      "text/plain": [
       "<Figure size 504x504 with 2 Axes>"
      ]
     },
     "metadata": {
      "needs_background": "light"
     },
     "output_type": "display_data"
    }
   ],
   "source": [
    "associations(age_X.drop(columns='fare'), figsize = (7,7))"
   ]
  },
  {
   "cell_type": "markdown",
   "metadata": {},
   "source": [
    "`ticket_holders` has some positive association with `sibsp` and `parch`. Makes sense. Let's see if our algorithm picks up any accuracy by throwing `ticket_holders` in the mix. Then we will try PCA."
   ]
  },
  {
   "cell_type": "code",
   "execution_count": 1041,
   "metadata": {},
   "outputs": [],
   "source": [
    "scaled_age_X = preprocessing.scale(age_X)"
   ]
  },
  {
   "cell_type": "code",
   "execution_count": 1042,
   "metadata": {},
   "outputs": [
    {
     "data": {
      "text/html": [
       "<div>\n",
       "<style scoped>\n",
       "    .dataframe tbody tr th:only-of-type {\n",
       "        vertical-align: middle;\n",
       "    }\n",
       "\n",
       "    .dataframe tbody tr th {\n",
       "        vertical-align: top;\n",
       "    }\n",
       "\n",
       "    .dataframe thead th {\n",
       "        text-align: right;\n",
       "    }\n",
       "</style>\n",
       "<table border=\"1\" class=\"dataframe\">\n",
       "  <thead>\n",
       "    <tr style=\"text-align: right;\">\n",
       "      <th></th>\n",
       "      <th>accuracy</th>\n",
       "      <th>std</th>\n",
       "    </tr>\n",
       "  </thead>\n",
       "  <tbody>\n",
       "    <tr>\n",
       "      <th>GradientBoostingRegressor</th>\n",
       "      <td>0.456757</td>\n",
       "      <td>0.0678157</td>\n",
       "    </tr>\n",
       "    <tr>\n",
       "      <th>Ridge</th>\n",
       "      <td>0.410266</td>\n",
       "      <td>0.0549396</td>\n",
       "    </tr>\n",
       "    <tr>\n",
       "      <th>LinearRegression</th>\n",
       "      <td>0.409665</td>\n",
       "      <td>0.054645</td>\n",
       "    </tr>\n",
       "    <tr>\n",
       "      <th>SVR_linear</th>\n",
       "      <td>0.395038</td>\n",
       "      <td>0.0667581</td>\n",
       "    </tr>\n",
       "    <tr>\n",
       "      <th>Lasso</th>\n",
       "      <td>0.377468</td>\n",
       "      <td>0.0741671</td>\n",
       "    </tr>\n",
       "    <tr>\n",
       "      <th>AdaBoostRegressor</th>\n",
       "      <td>0.377058</td>\n",
       "      <td>0.0590846</td>\n",
       "    </tr>\n",
       "    <tr>\n",
       "      <th>RandomForestRegressor</th>\n",
       "      <td>0.356119</td>\n",
       "      <td>0.10063</td>\n",
       "    </tr>\n",
       "    <tr>\n",
       "      <th>SVR_rbf</th>\n",
       "      <td>0.353827</td>\n",
       "      <td>0.0682559</td>\n",
       "    </tr>\n",
       "    <tr>\n",
       "      <th>BaggingRegressor</th>\n",
       "      <td>0.35337</td>\n",
       "      <td>0.0787727</td>\n",
       "    </tr>\n",
       "    <tr>\n",
       "      <th>ElasticNet</th>\n",
       "      <td>0.350845</td>\n",
       "      <td>0.0631839</td>\n",
       "    </tr>\n",
       "    <tr>\n",
       "      <th>ExtraTreesRegressor</th>\n",
       "      <td>0.268654</td>\n",
       "      <td>0.131856</td>\n",
       "    </tr>\n",
       "  </tbody>\n",
       "</table>\n",
       "</div>"
      ],
      "text/plain": [
       "                           accuracy        std\n",
       "GradientBoostingRegressor  0.456757  0.0678157\n",
       "Ridge                      0.410266  0.0549396\n",
       "LinearRegression           0.409665   0.054645\n",
       "SVR_linear                 0.395038  0.0667581\n",
       "Lasso                      0.377468  0.0741671\n",
       "AdaBoostRegressor          0.377058  0.0590846\n",
       "RandomForestRegressor      0.356119    0.10063\n",
       "SVR_rbf                    0.353827  0.0682559\n",
       "BaggingRegressor            0.35337  0.0787727\n",
       "ElasticNet                 0.350845  0.0631839\n",
       "ExtraTreesRegressor        0.268654   0.131856"
      ]
     },
     "execution_count": 1042,
     "metadata": {},
     "output_type": "execute_result"
    }
   ],
   "source": [
    "for k,v in regressors.items():\n",
    "    kfold = model_selection.KFold(n_splits=10)\n",
    "    results = model_selection.cross_val_score(v, scaled_age_X, age_y, cv = kfold)\n",
    "    regressor_df.loc[k, 'accuracy'] = results.mean()\n",
    "    regressor_df.loc[k, 'std'] = results.std()\n",
    "\n",
    "regressor_df.sort_values([\n",
    "    'accuracy',\n",
    "    'std'\n",
    "], ascending = False)"
   ]
  },
  {
   "cell_type": "markdown",
   "metadata": {},
   "source": [
    "Some loss in accuracy. Let's try PCA."
   ]
  },
  {
   "cell_type": "code",
   "execution_count": 1043,
   "metadata": {},
   "outputs": [],
   "source": [
    "pca_sex = PCA(n_components=.99)\n",
    "pca_embarked = PCA(n_components=.99)\n",
    "pca_pclass = PCA(n_components=.99)\n",
    "pca_tix = PCA(n_components=.99)"
   ]
  },
  {
   "cell_type": "code",
   "execution_count": 1044,
   "metadata": {},
   "outputs": [],
   "source": [
    "scaled_age_X_sex = preprocessing.scale(age_X.loc[:, :'Mrs'].join(age_X.sex))"
   ]
  },
  {
   "cell_type": "code",
   "execution_count": 1045,
   "metadata": {},
   "outputs": [],
   "source": [
    "scaled_age_X_embarked = preprocessing.scale(age_X.loc[:, 'embarked_C':'embarked_S'])"
   ]
  },
  {
   "cell_type": "code",
   "execution_count": 1046,
   "metadata": {},
   "outputs": [],
   "source": [
    "scaled_age_X_pclass = preprocessing.scale(age_X.loc[:, 'pclass_1':'pclass_3'])"
   ]
  },
  {
   "cell_type": "code",
   "execution_count": 1047,
   "metadata": {
    "scrolled": true
   },
   "outputs": [],
   "source": [
    "scaled_age_X_tix = preprocessing.scale(age_X.loc[:, ['ticket_holders', 'sibsp', 'parch']])"
   ]
  },
  {
   "cell_type": "code",
   "execution_count": 1048,
   "metadata": {},
   "outputs": [],
   "source": [
    "scaled_age_X_rest = preprocessing.scale(age_X.loc[:, ['fare']])"
   ]
  },
  {
   "cell_type": "code",
   "execution_count": 1049,
   "metadata": {},
   "outputs": [],
   "source": [
    "pca_sex.fit(scaled_age_X_sex)\n",
    "scaled_age_X_sex = pca_sex.transform(scaled_age_X_sex)"
   ]
  },
  {
   "cell_type": "code",
   "execution_count": 1050,
   "metadata": {},
   "outputs": [],
   "source": [
    "pca_embarked.fit(scaled_age_X_embarked)\n",
    "scaled_age_X_embarked = pca_embarked.transform(scaled_age_X_embarked)"
   ]
  },
  {
   "cell_type": "code",
   "execution_count": 1051,
   "metadata": {},
   "outputs": [],
   "source": [
    "pca_pclass.fit(scaled_age_X_pclass)\n",
    "scaled_age_X_pclass = pca_pclass.transform(scaled_age_X_pclass)"
   ]
  },
  {
   "cell_type": "code",
   "execution_count": 1052,
   "metadata": {},
   "outputs": [],
   "source": [
    "pca_tix.fit(scaled_age_X_tix)\n",
    "scaled_age_X_tix = pca_tix.transform(scaled_age_X_tix)"
   ]
  },
  {
   "cell_type": "code",
   "execution_count": 1053,
   "metadata": {},
   "outputs": [],
   "source": [
    "scaled_age_X = np.hstack((\n",
    "    scaled_age_X_embarked,\n",
    "    scaled_age_X_pclass,\n",
    "    scaled_age_X_rest,\n",
    "    scaled_age_X_sex,\n",
    "    scaled_age_X_tix\n",
    "))"
   ]
  },
  {
   "cell_type": "code",
   "execution_count": 1054,
   "metadata": {},
   "outputs": [
    {
     "data": {
      "text/html": [
       "<div>\n",
       "<style scoped>\n",
       "    .dataframe tbody tr th:only-of-type {\n",
       "        vertical-align: middle;\n",
       "    }\n",
       "\n",
       "    .dataframe tbody tr th {\n",
       "        vertical-align: top;\n",
       "    }\n",
       "\n",
       "    .dataframe thead th {\n",
       "        text-align: right;\n",
       "    }\n",
       "</style>\n",
       "<table border=\"1\" class=\"dataframe\">\n",
       "  <thead>\n",
       "    <tr style=\"text-align: right;\">\n",
       "      <th></th>\n",
       "      <th>accuracy</th>\n",
       "      <th>std</th>\n",
       "    </tr>\n",
       "  </thead>\n",
       "  <tbody>\n",
       "    <tr>\n",
       "      <th>GradientBoostingRegressor</th>\n",
       "      <td>0.443534</td>\n",
       "      <td>0.0582235</td>\n",
       "    </tr>\n",
       "    <tr>\n",
       "      <th>Ridge</th>\n",
       "      <td>0.409642</td>\n",
       "      <td>0.0581248</td>\n",
       "    </tr>\n",
       "    <tr>\n",
       "      <th>LinearRegression</th>\n",
       "      <td>0.40962</td>\n",
       "      <td>0.0579565</td>\n",
       "    </tr>\n",
       "    <tr>\n",
       "      <th>SVR_linear</th>\n",
       "      <td>0.391363</td>\n",
       "      <td>0.0702428</td>\n",
       "    </tr>\n",
       "    <tr>\n",
       "      <th>AdaBoostRegressor</th>\n",
       "      <td>0.382902</td>\n",
       "      <td>0.0529626</td>\n",
       "    </tr>\n",
       "    <tr>\n",
       "      <th>Lasso</th>\n",
       "      <td>0.373002</td>\n",
       "      <td>0.0728458</td>\n",
       "    </tr>\n",
       "    <tr>\n",
       "      <th>RandomForestRegressor</th>\n",
       "      <td>0.364303</td>\n",
       "      <td>0.0938428</td>\n",
       "    </tr>\n",
       "    <tr>\n",
       "      <th>BaggingRegressor</th>\n",
       "      <td>0.364217</td>\n",
       "      <td>0.0867158</td>\n",
       "    </tr>\n",
       "    <tr>\n",
       "      <th>ElasticNet</th>\n",
       "      <td>0.351158</td>\n",
       "      <td>0.0655626</td>\n",
       "    </tr>\n",
       "    <tr>\n",
       "      <th>SVR_rbf</th>\n",
       "      <td>0.342695</td>\n",
       "      <td>0.0687721</td>\n",
       "    </tr>\n",
       "    <tr>\n",
       "      <th>ExtraTreesRegressor</th>\n",
       "      <td>0.261872</td>\n",
       "      <td>0.126492</td>\n",
       "    </tr>\n",
       "  </tbody>\n",
       "</table>\n",
       "</div>"
      ],
      "text/plain": [
       "                           accuracy        std\n",
       "GradientBoostingRegressor  0.443534  0.0582235\n",
       "Ridge                      0.409642  0.0581248\n",
       "LinearRegression            0.40962  0.0579565\n",
       "SVR_linear                 0.391363  0.0702428\n",
       "AdaBoostRegressor          0.382902  0.0529626\n",
       "Lasso                      0.373002  0.0728458\n",
       "RandomForestRegressor      0.364303  0.0938428\n",
       "BaggingRegressor           0.364217  0.0867158\n",
       "ElasticNet                 0.351158  0.0655626\n",
       "SVR_rbf                    0.342695  0.0687721\n",
       "ExtraTreesRegressor        0.261872   0.126492"
      ]
     },
     "execution_count": 1054,
     "metadata": {},
     "output_type": "execute_result"
    }
   ],
   "source": [
    "for k,v in regressors.items():\n",
    "    kfold = model_selection.KFold(n_splits=10)\n",
    "    results = model_selection.cross_val_score(v, scaled_age_X, age_y, cv = kfold)\n",
    "    regressor_df.loc[k, 'accuracy'] = results.mean()\n",
    "    regressor_df.loc[k, 'std'] = results.std()\n",
    "\n",
    "regressor_df.sort_values([\n",
    "    'accuracy',\n",
    "    'std'\n",
    "], ascending = False)"
   ]
  },
  {
   "cell_type": "markdown",
   "metadata": {},
   "source": [
    "A little worse. What if I instead of trying to predict `age` as a continuous variable, I tried to discretize `age` into bins? Maybe this will allow my accuracy to go up.\n",
    "\n",
    "To do this I will try using entropy to maximize my information gain."
   ]
  },
  {
   "cell_type": "code",
   "execution_count": null,
   "metadata": {},
   "outputs": [],
   "source": []
  },
  {
   "cell_type": "code",
   "execution_count": null,
   "metadata": {},
   "outputs": [],
   "source": []
  },
  {
   "cell_type": "code",
   "execution_count": null,
   "metadata": {},
   "outputs": [],
   "source": []
  },
  {
   "cell_type": "code",
   "execution_count": null,
   "metadata": {},
   "outputs": [],
   "source": []
  },
  {
   "cell_type": "code",
   "execution_count": null,
   "metadata": {},
   "outputs": [],
   "source": []
  },
  {
   "cell_type": "code",
   "execution_count": null,
   "metadata": {},
   "outputs": [],
   "source": []
  },
  {
   "cell_type": "code",
   "execution_count": null,
   "metadata": {},
   "outputs": [],
   "source": []
  },
  {
   "cell_type": "code",
   "execution_count": null,
   "metadata": {},
   "outputs": [],
   "source": []
  },
  {
   "cell_type": "code",
   "execution_count": null,
   "metadata": {},
   "outputs": [],
   "source": []
  },
  {
   "cell_type": "code",
   "execution_count": null,
   "metadata": {},
   "outputs": [],
   "source": []
  },
  {
   "cell_type": "code",
   "execution_count": null,
   "metadata": {},
   "outputs": [],
   "source": []
  },
  {
   "cell_type": "code",
   "execution_count": null,
   "metadata": {},
   "outputs": [],
   "source": []
  },
  {
   "cell_type": "code",
   "execution_count": null,
   "metadata": {},
   "outputs": [],
   "source": []
  },
  {
   "cell_type": "code",
   "execution_count": null,
   "metadata": {},
   "outputs": [],
   "source": []
  },
  {
   "cell_type": "code",
   "execution_count": null,
   "metadata": {},
   "outputs": [],
   "source": []
  },
  {
   "cell_type": "code",
   "execution_count": null,
   "metadata": {},
   "outputs": [],
   "source": []
  },
  {
   "cell_type": "code",
   "execution_count": null,
   "metadata": {},
   "outputs": [],
   "source": []
  },
  {
   "cell_type": "code",
   "execution_count": null,
   "metadata": {},
   "outputs": [],
   "source": []
  },
  {
   "cell_type": "code",
   "execution_count": null,
   "metadata": {},
   "outputs": [],
   "source": []
  },
  {
   "cell_type": "code",
   "execution_count": null,
   "metadata": {},
   "outputs": [],
   "source": []
  },
  {
   "cell_type": "code",
   "execution_count": null,
   "metadata": {},
   "outputs": [],
   "source": []
  },
  {
   "cell_type": "code",
   "execution_count": null,
   "metadata": {},
   "outputs": [],
   "source": []
  },
  {
   "cell_type": "code",
   "execution_count": null,
   "metadata": {},
   "outputs": [],
   "source": []
  },
  {
   "cell_type": "code",
   "execution_count": null,
   "metadata": {},
   "outputs": [],
   "source": []
  },
  {
   "cell_type": "code",
   "execution_count": null,
   "metadata": {},
   "outputs": [],
   "source": []
  },
  {
   "cell_type": "code",
   "execution_count": null,
   "metadata": {},
   "outputs": [],
   "source": []
  },
  {
   "cell_type": "code",
   "execution_count": 750,
   "metadata": {
    "scrolled": true
   },
   "outputs": [],
   "source": [
    "age_X = train.loc[train.age.isnull(), [\n",
    "    'fare',\n",
    "    'Master',\n",
    "    'pclass',\n",
    "    'Miss',\n",
    "    'parch'\n",
    "]]"
   ]
  },
  {
   "cell_type": "code",
   "execution_count": 751,
   "metadata": {},
   "outputs": [],
   "source": [
    "test_age_X = test.loc[test.age.isnull(), [\n",
    "    'fare',\n",
    "    'Master',\n",
    "    'pclass',\n",
    "    'Miss',\n",
    "    'parch'\n",
    "]]"
   ]
  },
  {
   "cell_type": "code",
   "execution_count": 752,
   "metadata": {},
   "outputs": [],
   "source": [
    "model = LinearRegression()"
   ]
  },
  {
   "cell_type": "code",
   "execution_count": 753,
   "metadata": {},
   "outputs": [],
   "source": [
    "fit = model.fit(X.loc[:, [\n",
    "    'fare',\n",
    "    'Master',\n",
    "    'pclass',\n",
    "    'Miss',\n",
    "    'parch',\n",
    "]], y)"
   ]
  },
  {
   "cell_type": "code",
   "execution_count": 754,
   "metadata": {},
   "outputs": [],
   "source": [
    "test_fit = model.fit(test_X.loc[:, [\n",
    "    'fare',\n",
    "    'Master',\n",
    "    'pclass',\n",
    "    'Miss',\n",
    "    'parch',\n",
    "]], test_y)"
   ]
  },
  {
   "cell_type": "code",
   "execution_count": 755,
   "metadata": {},
   "outputs": [],
   "source": [
    "age_y = fit.predict(age_X)"
   ]
  },
  {
   "cell_type": "code",
   "execution_count": 756,
   "metadata": {},
   "outputs": [],
   "source": [
    "test_age_y = fit.predict(test_age_X)"
   ]
  },
  {
   "cell_type": "code",
   "execution_count": 757,
   "metadata": {},
   "outputs": [
    {
     "data": {
      "image/png": "[encoded data removed]",
      "text/plain": [
       "<Figure size 432x288 with 1 Axes>"
      ]
     },
     "metadata": {
      "needs_background": "light"
     },
     "output_type": "display_data"
    }
   ],
   "source": [
    "train.age.plot.hist();"
   ]
  },
  {
   "cell_type": "code",
   "execution_count": 758,
   "metadata": {},
   "outputs": [
    {
     "data": {
      "image/png": "[encoded data removed]",
      "text/plain": [
       "<Figure size 432x288 with 1 Axes>"
      ]
     },
     "metadata": {
      "needs_background": "light"
     },
     "output_type": "display_data"
    }
   ],
   "source": [
    "train.age.plot.kde();"
   ]
  },
  {
   "cell_type": "code",
   "execution_count": 759,
   "metadata": {},
   "outputs": [
    {
     "data": {
      "text/plain": [
       "count    714.000000\n",
       "mean      29.699118\n",
       "std       14.526497\n",
       "min        0.420000\n",
       "25%       20.125000\n",
       "50%       28.000000\n",
       "75%       38.000000\n",
       "max       80.000000\n",
       "Name: age, dtype: float64"
      ]
     },
     "execution_count": 759,
     "metadata": {},
     "output_type": "execute_result"
    }
   ],
   "source": [
    "train.age.describe()"
   ]
  },
  {
   "cell_type": "markdown",
   "metadata": {},
   "source": [
    "When I fill the null values in `age`, my distribution should not change (drastically/significantly)."
   ]
  },
  {
   "cell_type": "code",
   "execution_count": 760,
   "metadata": {},
   "outputs": [],
   "source": [
    "train.loc[train.age.isnull(), 'age'] = age_y"
   ]
  },
  {
   "cell_type": "code",
   "execution_count": 761,
   "metadata": {},
   "outputs": [],
   "source": [
    "test.loc[test.age.isnull(), 'age'] = test_age_y"
   ]
  },
  {
   "cell_type": "code",
   "execution_count": 762,
   "metadata": {},
   "outputs": [
    {
     "data": {
      "image/png": "[encoded data removed]",
      "text/plain": [
       "<Figure size 432x288 with 1 Axes>"
      ]
     },
     "metadata": {
      "needs_background": "light"
     },
     "output_type": "display_data"
    }
   ],
   "source": [
    "train.age.plot.hist();"
   ]
  },
  {
   "cell_type": "code",
   "execution_count": 763,
   "metadata": {},
   "outputs": [
    {
     "data": {
      "image/png": "[encoded data removed]",
      "text/plain": [
       "<Figure size 432x288 with 1 Axes>"
      ]
     },
     "metadata": {
      "needs_background": "light"
     },
     "output_type": "display_data"
    }
   ],
   "source": [
    "train.age.plot.kde();"
   ]
  },
  {
   "cell_type": "code",
   "execution_count": 764,
   "metadata": {},
   "outputs": [
    {
     "data": {
      "text/plain": [
       "count    891.000000\n",
       "mean      29.256753\n",
       "std       13.495662\n",
       "min        0.420000\n",
       "25%       21.000000\n",
       "50%       27.481116\n",
       "75%       36.750000\n",
       "max       80.000000\n",
       "Name: age, dtype: float64"
      ]
     },
     "execution_count": 764,
     "metadata": {},
     "output_type": "execute_result"
    }
   ],
   "source": [
    "train.age.describe()"
   ]
  },
  {
   "cell_type": "markdown",
   "metadata": {},
   "source": [
    "The distribution didn't change too much.\n",
    "\n",
    "Let's see if any of feature importances have changed in relation to `survived`."
   ]
  },
  {
   "cell_type": "code",
   "execution_count": 765,
   "metadata": {},
   "outputs": [],
   "source": [
    "model = ExtraTreesClassifier()"
   ]
  },
  {
   "cell_type": "code",
   "execution_count": 766,
   "metadata": {},
   "outputs": [],
   "source": [
    "X = train.select_dtypes(exclude=['O']).drop(columns='survived')\n",
    "y = train.select_dtypes(exclude=['O']).survived"
   ]
  },
  {
   "cell_type": "code",
   "execution_count": 767,
   "metadata": {},
   "outputs": [],
   "source": [
    "fit = model.fit(X, y)"
   ]
  },
  {
   "cell_type": "code",
   "execution_count": 768,
   "metadata": {},
   "outputs": [],
   "source": [
    "importances = fit.feature_importances_"
   ]
  },
  {
   "cell_type": "code",
   "execution_count": 769,
   "metadata": {},
   "outputs": [],
   "source": [
    "indices = np.argsort(importances)[::-1]"
   ]
  },
  {
   "cell_type": "code",
   "execution_count": 770,
   "metadata": {
    "scrolled": true
   },
   "outputs": [
    {
     "name": "stdout",
     "output_type": "stream",
     "text": [
      "fare has importance 0.22099091530629256\n",
      "age has importance 0.2155881644302613\n",
      "sex has importance 0.13475345969621574\n",
      "Mr has importance 0.1001240838778378\n",
      "pclass has importance 0.09799960775386955\n",
      "sibsp has importance 0.06110707375346506\n",
      "Mrs has importance 0.045216800285781504\n",
      "Miss has importance 0.033551085107792145\n",
      "embarked has importance 0.0313063934634454\n",
      "parch has importance 0.030513951504982106\n",
      "Master has importance 0.016336822618177364\n",
      "Rev has importance 0.0032318948042344225\n",
      "Dr has importance 0.0018931818641710354\n",
      "Col has importance 0.001806890178191544\n",
      "Sir has importance 0.0014987723786645715\n",
      "Jonkheer has importance 0.0011454963263161713\n",
      "Don has importance 0.0010247065330147112\n",
      "Capt has importance 0.0005993523215014257\n",
      "Major has importance 0.0005924577970253251\n",
      "Ms has importance 0.000341378139345572\n",
      "Mme has importance 0.00033631215108698555\n",
      "Mlle has importance 4.119970832758987e-05\n",
      "Lady has importance 0.0\n",
      "the Countess has importance 0.0\n"
     ]
    }
   ],
   "source": [
    "for f in range(X.shape[1]):\n",
    "    print(f\"{X.columns[indices[f]]} has importance {importances[indices[f]]}\")"
   ]
  },
  {
   "cell_type": "markdown",
   "metadata": {},
   "source": [
    "Looks like `age`, `fare` and `sex` are still the three most important variables. But it is worth noting that `Mr` is right up next to `pclass`, and `Miss` is next to `sibsp`.\n",
    "\n",
    "Let's see if we can't extra any information out of `cabin`."
   ]
  },
  {
   "cell_type": "code",
   "execution_count": 771,
   "metadata": {},
   "outputs": [
    {
     "data": {
      "text/plain": [
       "array([nan, 'C85', 'C123', 'E46', 'G6', 'C103', 'D56', 'A6',\n",
       "       'C23 C25 C27', 'B78', 'D33', 'B30', 'C52', 'B28', 'C83', 'F33',\n",
       "       'F G73', 'E31', 'A5', 'D10 D12', 'D26', 'C110', 'B58 B60', 'E101',\n",
       "       'F E69', 'D47', 'B86', 'F2', 'C2', 'E33', 'B19', 'A7', 'C49', 'F4',\n",
       "       'A32', 'B4', 'B80', 'A31', 'D36', 'D15', 'C93', 'C78', 'D35',\n",
       "       'C87', 'B77', 'E67', 'B94', 'C125', 'C99', 'C118', 'D7', 'A19',\n",
       "       'B49', 'D', 'C22 C26', 'C106', 'C65', 'E36', 'C54',\n",
       "       'B57 B59 B63 B66', 'C7', 'E34', 'C32', 'B18', 'C124', 'C91', 'E40',\n",
       "       'T', 'C128', 'D37', 'B35', 'E50', 'C82', 'B96 B98', 'E10', 'E44',\n",
       "       'A34', 'C104', 'C111', 'C92', 'E38', 'D21', 'E12', 'E63', 'A14',\n",
       "       'B37', 'C30', 'D20', 'B79', 'E25', 'D46', 'B73', 'C95', 'B38',\n",
       "       'B39', 'B22', 'C86', 'C70', 'A16', 'C101', 'C68', 'A10', 'E68',\n",
       "       'B41', 'A20', 'D19', 'D50', 'D9', 'A23', 'B50', 'A26', 'D48',\n",
       "       'E58', 'C126', 'B71', 'B51 B53 B55', 'D49', 'B5', 'B20', 'F G63',\n",
       "       'C62 C64', 'E24', 'C90', 'C45', 'E8', 'B101', 'D45', 'C46', 'D30',\n",
       "       'E121', 'D11', 'E77', 'F38', 'B3', 'D6', 'B82 B84', 'D17', 'A36',\n",
       "       'B102', 'B69', 'E49', 'C47', 'D28', 'E17', 'A24', 'C50', 'B42',\n",
       "       'C148'], dtype=object)"
      ]
     },
     "execution_count": 771,
     "metadata": {},
     "output_type": "execute_result"
    }
   ],
   "source": [
    "train.cabin.unique()"
   ]
  },
  {
   "cell_type": "markdown",
   "metadata": {},
   "source": [
    "`cabin` is made up of a letter (the deck) and a number (the room). Let's strip off the letter and make a variable out of it, `deck`."
   ]
  },
  {
   "cell_type": "code",
   "execution_count": 772,
   "metadata": {},
   "outputs": [],
   "source": [
    "deck = train.cabin.dropna().str.replace('[\\d]', '').str.replace(' ', '')"
   ]
  },
  {
   "cell_type": "code",
   "execution_count": 773,
   "metadata": {},
   "outputs": [],
   "source": [
    "test_deck = test.cabin.dropna().str.replace('[\\d]', '').str.replace(' ', '')"
   ]
  },
  {
   "cell_type": "code",
   "execution_count": 774,
   "metadata": {},
   "outputs": [
    {
     "data": {
      "text/plain": [
       "1    200\n",
       "2      4\n",
       "Name: cabin, dtype: int64"
      ]
     },
     "execution_count": 774,
     "metadata": {},
     "output_type": "execute_result"
    }
   ],
   "source": [
    "deck.apply(set).str.len().value_counts()"
   ]
  },
  {
   "cell_type": "markdown",
   "metadata": {},
   "source": [
    "It appears that there are 4 passengers with cabins on 2 decks. The rest have cabins on 1 deck.\n",
    "\n",
    "Let's keep the lowest cabin letter (i.e. closer to A) for our `deck` variable. But we will also create another feature called `multi_deck` that will have `1` if the passenger had cabins on multiple decks, else `0`."
   ]
  },
  {
   "cell_type": "code",
   "execution_count": 775,
   "metadata": {},
   "outputs": [],
   "source": [
    "multi_deck = (deck.apply(set).str.len() > 1).astype(int)"
   ]
  },
  {
   "cell_type": "code",
   "execution_count": 776,
   "metadata": {},
   "outputs": [],
   "source": [
    "test_multi_deck = (test_deck.apply(set).str.len() > 1).astype(int)"
   ]
  },
  {
   "cell_type": "code",
   "execution_count": 777,
   "metadata": {},
   "outputs": [],
   "source": [
    "train['multi_deck'] = multi_deck"
   ]
  },
  {
   "cell_type": "code",
   "execution_count": 778,
   "metadata": {},
   "outputs": [],
   "source": [
    "test['multi_deck'] = test_multi_deck"
   ]
  },
  {
   "cell_type": "code",
   "execution_count": 779,
   "metadata": {},
   "outputs": [],
   "source": [
    "min_deck = deck.apply(set).apply(min)"
   ]
  },
  {
   "cell_type": "code",
   "execution_count": 780,
   "metadata": {},
   "outputs": [],
   "source": [
    "test_min_deck = test_deck.apply(set).apply(min)"
   ]
  },
  {
   "cell_type": "code",
   "execution_count": 781,
   "metadata": {},
   "outputs": [],
   "source": [
    "train['deck'] = min_deck"
   ]
  },
  {
   "cell_type": "code",
   "execution_count": 782,
   "metadata": {},
   "outputs": [],
   "source": [
    "test['deck'] = test_min_deck"
   ]
  },
  {
   "cell_type": "markdown",
   "metadata": {},
   "source": [
    "Since `deck` is categorical, let's encode it to something numeric."
   ]
  },
  {
   "cell_type": "code",
   "execution_count": 783,
   "metadata": {},
   "outputs": [],
   "source": [
    "train['deck'] = train.deck.dropna().astype('category').cat.codes"
   ]
  },
  {
   "cell_type": "code",
   "execution_count": 784,
   "metadata": {},
   "outputs": [],
   "source": [
    "test['deck'] = test.deck.dropna().astype('category').cat.codes"
   ]
  },
  {
   "cell_type": "markdown",
   "metadata": {},
   "source": [
    "It might also be worth adding unique cabin counts to our dataframe. Let's do that and call the feature `cabin_count`."
   ]
  },
  {
   "cell_type": "code",
   "execution_count": 785,
   "metadata": {},
   "outputs": [],
   "source": [
    "train['cabin_count'] = train.cabin.dropna().str.split().apply(set).str.len()"
   ]
  },
  {
   "cell_type": "code",
   "execution_count": 786,
   "metadata": {},
   "outputs": [],
   "source": [
    "test['cabin_count'] = test.cabin.dropna().str.split().apply(set).str.len()"
   ]
  },
  {
   "cell_type": "markdown",
   "metadata": {},
   "source": [
    "Now let's check if any of these new columns have any importance regarding survival."
   ]
  },
  {
   "cell_type": "code",
   "execution_count": 787,
   "metadata": {},
   "outputs": [],
   "source": [
    "X = train.dropna().select_dtypes(exclude=['O']).drop(columns='survived')\n",
    "y = train.dropna().select_dtypes(exclude=['O']).survived"
   ]
  },
  {
   "cell_type": "code",
   "execution_count": 788,
   "metadata": {},
   "outputs": [],
   "source": [
    "model = ExtraTreesClassifier()"
   ]
  },
  {
   "cell_type": "code",
   "execution_count": 789,
   "metadata": {},
   "outputs": [],
   "source": [
    "fit = model.fit(X, y)"
   ]
  },
  {
   "cell_type": "code",
   "execution_count": 790,
   "metadata": {},
   "outputs": [],
   "source": [
    "importances = fit.feature_importances_"
   ]
  },
  {
   "cell_type": "code",
   "execution_count": 791,
   "metadata": {},
   "outputs": [],
   "source": [
    "indices = np.argsort(importances)[::-1]"
   ]
  },
  {
   "cell_type": "code",
   "execution_count": 792,
   "metadata": {},
   "outputs": [],
   "source": [
    "std = np.std([tree.feature_importances_ for tree in fit.estimators_], axis = 0)"
   ]
  },
  {
   "cell_type": "code",
   "execution_count": 793,
   "metadata": {
    "scrolled": true
   },
   "outputs": [
    {
     "name": "stdout",
     "output_type": "stream",
     "text": [
      "age has importance 0.21391859359545945\n",
      "Mr has importance 0.17568242342387702\n",
      "fare has importance 0.17038639760728858\n",
      "sex has importance 0.1136565083536232\n",
      "deck has importance 0.09859363796087954\n",
      "sibsp has importance 0.03890977083427722\n",
      "embarked has importance 0.03421322746780468\n",
      "parch has importance 0.033135235719567106\n",
      "Mrs has importance 0.025398924046401428\n",
      "Miss has importance 0.02518886902716828\n",
      "cabin_count has importance 0.022166186432093424\n",
      "pclass has importance 0.014005735205980413\n",
      "Capt has importance 0.008837104675706125\n",
      "Dr has importance 0.0061607199740485\n",
      "Master has importance 0.005545943774817868\n",
      "multi_deck has importance 0.005226478907080004\n",
      "Major has importance 0.0038416532557104476\n",
      "Col has importance 0.0018216462629042016\n",
      "Sir has importance 0.0016437394084452873\n",
      "Lady has importance 0.0008338493735408788\n",
      "Mlle has importance 0.0008085336017881279\n",
      "Mme has importance 2.4821091538220016e-05\n",
      "Jonkheer has importance 0.0\n",
      "Don has importance 0.0\n",
      "Ms has importance 0.0\n",
      "Rev has importance 0.0\n",
      "the Countess has importance 0.0\n"
     ]
    }
   ],
   "source": [
    "for f in range(X.shape[1]):\n",
    "    print(f\"{X.columns[indices[f]]} has importance {importances[indices[f]]}\")"
   ]
  },
  {
   "cell_type": "code",
   "execution_count": 794,
   "metadata": {},
   "outputs": [
    {
     "data": {
      "image/png": "[encoded data removed]",
      "text/plain": [
       "<Figure size 720x432 with 1 Axes>"
      ]
     },
     "metadata": {
      "needs_background": "light"
     },
     "output_type": "display_data"
    }
   ],
   "source": [
    "pd.DataFrame(data = importances[indices], index=X.columns[indices]).plot.bar(figsize = (10,6), **{\n",
    "    'yerr' : std[indices],\n",
    "    'legend' : False\n",
    "});"
   ]
  },
  {
   "cell_type": "markdown",
   "metadata": {},
   "source": [
    "Interesting! `multi_deck` showed very little importance, but `cabin_count` showed as much importance `pclass`, `Master`, and `embarked`. As for `deck`, this shows almost as much importance as `sex`. I think we should try to impute the missing values of `deck`.\n",
    "\n",
    "Let's find out which of our variables correlate and/or cluster with `deck`."
   ]
  },
  {
   "cell_type": "code",
   "execution_count": 795,
   "metadata": {},
   "outputs": [],
   "source": [
    "from sklearn import preprocessing"
   ]
  },
  {
   "cell_type": "code",
   "execution_count": 796,
   "metadata": {},
   "outputs": [],
   "source": [
    "X = train.dropna().select_dtypes(exclude = ['O']).drop(columns='deck')\n",
    "y = train.dropna().select_dtypes(exclude = ['O']).deck"
   ]
  },
  {
   "cell_type": "code",
   "execution_count": 797,
   "metadata": {},
   "outputs": [],
   "source": [
    "scaler = preprocessing.StandardScaler().fit(X)"
   ]
  },
  {
   "cell_type": "code",
   "execution_count": 798,
   "metadata": {},
   "outputs": [],
   "source": [
    "test_X = test.dropna().select_dtypes(exclude = ['O']).drop(columns='deck')\n",
    "test_y = test.dropna().select_dtypes(exclude = ['O']).deck"
   ]
  },
  {
   "cell_type": "code",
   "execution_count": 799,
   "metadata": {
    "scrolled": true
   },
   "outputs": [
    {
     "data": {
      "text/plain": [
       "survived        0.016551\n",
       "parch           0.020822\n",
       "Dr              0.032273\n",
       "sibsp           0.032763\n",
       "Mr              0.047096\n",
       "Mlle            0.060223\n",
       "Major           0.060223\n",
       "Miss            0.061932\n",
       "the Countess    0.066418\n",
       "Capt            0.066418\n",
       "Mme             0.066418\n",
       "sex             0.076574\n",
       "Mrs             0.080981\n",
       "Master          0.097160\n",
       "Lady            0.114295\n",
       "Sir             0.114295\n",
       "Col             0.114295\n",
       "cabin_count     0.119935\n",
       "age             0.193906\n",
       "multi_deck      0.227934\n",
       "embarked        0.277817\n",
       "fare            0.297496\n",
       "pclass          0.589587\n",
       "Don                  NaN\n",
       "Jonkheer             NaN\n",
       "Ms                   NaN\n",
       "Rev                  NaN\n",
       "dtype: float64"
      ]
     },
     "execution_count": 799,
     "metadata": {},
     "output_type": "execute_result"
    }
   ],
   "source": [
    "X.corrwith(y).abs().sort_values()"
   ]
  },
  {
   "cell_type": "markdown",
   "metadata": {},
   "source": [
    "`pclass` correlates the most with `deck`. `fare`, `embarked`, and `multi_deck` also have correlation with `deck`. Let's check feature importances."
   ]
  },
  {
   "cell_type": "code",
   "execution_count": 800,
   "metadata": {},
   "outputs": [],
   "source": [
    "model = ExtraTreesClassifier()"
   ]
  },
  {
   "cell_type": "code",
   "execution_count": 801,
   "metadata": {},
   "outputs": [],
   "source": [
    "fit = model.fit(scaler.transform(X), y)"
   ]
  },
  {
   "cell_type": "code",
   "execution_count": 802,
   "metadata": {},
   "outputs": [],
   "source": [
    "importances = fit.feature_importances_"
   ]
  },
  {
   "cell_type": "code",
   "execution_count": 803,
   "metadata": {},
   "outputs": [],
   "source": [
    "indices = np.argsort(importances)[::-1]"
   ]
  },
  {
   "cell_type": "code",
   "execution_count": 804,
   "metadata": {},
   "outputs": [],
   "source": [
    "std = np.std([tree.feature_importances_ for tree in fit.estimators_], axis = 0)"
   ]
  },
  {
   "cell_type": "code",
   "execution_count": 805,
   "metadata": {},
   "outputs": [
    {
     "data": {
      "image/png": "[encoded data removed]",
      "text/plain": [
       "<Figure size 720x432 with 1 Axes>"
      ]
     },
     "metadata": {
      "needs_background": "light"
     },
     "output_type": "display_data"
    }
   ],
   "source": [
    "pd.DataFrame(data = importances[indices], index=X.columns[indices]).plot.bar(figsize = (10,6), **{\n",
    "    'yerr' : std[indices],\n",
    "    'legend' : False\n",
    "});"
   ]
  },
  {
   "cell_type": "markdown",
   "metadata": {},
   "source": [
    "The two most important features are `fare` and `age`. `pclass`, `sibsp`, `parch`, and `embarked` seem like good secondary variables. I want to avoid using `survived` since I won't be able to use it on my test data.\n",
    "\n",
    "Let's try a few algorithms to see if we can get high accuracy for predicting a passenger's `deck`."
   ]
  },
  {
   "cell_type": "markdown",
   "metadata": {},
   "source": [
    "##### Logistic Regression"
   ]
  },
  {
   "cell_type": "code",
   "execution_count": 806,
   "metadata": {},
   "outputs": [
    {
     "name": "stdout",
     "output_type": "stream",
     "text": [
      "Accuracy: 0.30309523809523814 (0.10222607332783162)\n"
     ]
    }
   ],
   "source": [
    "from sklearn.linear_model import LogisticRegression\n",
    "\n",
    "model = LogisticRegression()\n",
    "\n",
    "kfold = model_selection.KFold(n_splits=10)\n",
    "\n",
    "scaler = preprocessing.StandardScaler().fit(X.loc[:, [\n",
    "    'fare',\n",
    "    'age',\n",
    "    'pclass',\n",
    "    'sibsp',\n",
    "    'parch',\n",
    "    'embarked'\n",
    "]].copy())\n",
    "\n",
    "scaled_X = scaler.transform(X.loc[:, [\n",
    "    'fare',\n",
    "    'age',\n",
    "    'pclass',\n",
    "    'sibsp',\n",
    "    'parch',\n",
    "    'embarked'\n",
    "]])\n",
    "\n",
    "results = model_selection.cross_val_score(model, scaled_X, y, cv = kfold)\n",
    "\n",
    "print(f\"Accuracy: {results.mean()} ({results.std()})\")"
   ]
  },
  {
   "cell_type": "markdown",
   "metadata": {},
   "source": [
    "##### Random Forest"
   ]
  },
  {
   "cell_type": "code",
   "execution_count": 807,
   "metadata": {},
   "outputs": [
    {
     "name": "stdout",
     "output_type": "stream",
     "text": [
      "Accuracy: 0.46047619047619043 (0.06657476658979182)\n"
     ]
    }
   ],
   "source": [
    "from sklearn.ensemble import RandomForestClassifier\n",
    "\n",
    "model = RandomForestClassifier()\n",
    "\n",
    "kfold = model_selection.KFold(n_splits=10)\n",
    "\n",
    "results = model_selection.cross_val_score(model, scaled_X, y, cv = kfold)\n",
    "\n",
    "print(f\"Accuracy: {results.mean()} ({results.std()})\")"
   ]
  },
  {
   "cell_type": "markdown",
   "metadata": {},
   "source": [
    "##### Decision Tree"
   ]
  },
  {
   "cell_type": "code",
   "execution_count": 808,
   "metadata": {},
   "outputs": [
    {
     "name": "stdout",
     "output_type": "stream",
     "text": [
      "Accuracy: 0.5678571428571428 (0.07594640967720029)\n"
     ]
    }
   ],
   "source": [
    "from sklearn.tree import DecisionTreeClassifier\n",
    "\n",
    "model = DecisionTreeClassifier()\n",
    "\n",
    "kfold = model_selection.KFold(n_splits=10)\n",
    "\n",
    "results = model_selection.cross_val_score(model, scaled_X, y, cv = kfold)\n",
    "\n",
    "print(f\"Accuracy: {results.mean()} ({results.std()})\")"
   ]
  },
  {
   "cell_type": "markdown",
   "metadata": {},
   "source": [
    "##### Nearest Neighbors"
   ]
  },
  {
   "cell_type": "code",
   "execution_count": 809,
   "metadata": {},
   "outputs": [
    {
     "name": "stdout",
     "output_type": "stream",
     "text": [
      "Accuracy: 0.3083333333333333 (0.08024374715151393)\n"
     ]
    }
   ],
   "source": [
    "from sklearn.neighbors import KNeighborsClassifier\n",
    "\n",
    "model = KNeighborsClassifier()\n",
    "\n",
    "kfold = model_selection.KFold(n_splits=10)\n",
    "\n",
    "results = model_selection.cross_val_score(model, scaled_X, y, cv = kfold)\n",
    "\n",
    "print(f\"Accuracy: {results.mean()} ({results.std()})\")"
   ]
  },
  {
   "cell_type": "markdown",
   "metadata": {},
   "source": [
    "##### Gaussian Naive Bayes"
   ]
  },
  {
   "cell_type": "code",
   "execution_count": 810,
   "metadata": {},
   "outputs": [
    {
     "name": "stdout",
     "output_type": "stream",
     "text": [
      "Accuracy: 0.30166666666666664 (0.14346715000045027)\n"
     ]
    }
   ],
   "source": [
    "from sklearn.naive_bayes import GaussianNB\n",
    "\n",
    "model = GaussianNB()\n",
    "\n",
    "kfold = model_selection.KFold(n_splits=10)\n",
    "\n",
    "results = model_selection.cross_val_score(model, scaled_X, y, cv = kfold)\n",
    "\n",
    "print(f\"Accuracy: {results.mean()} ({results.std()})\")"
   ]
  },
  {
   "cell_type": "markdown",
   "metadata": {},
   "source": [
    "##### Gaussian Process"
   ]
  },
  {
   "cell_type": "code",
   "execution_count": 811,
   "metadata": {},
   "outputs": [
    {
     "name": "stdout",
     "output_type": "stream",
     "text": [
      "Accuracy: 0.28785714285714287 (0.10803045048176238)\n"
     ]
    }
   ],
   "source": [
    "from sklearn.gaussian_process import GaussianProcessClassifier\n",
    "from sklearn.gaussian_process.kernels import RBF\n",
    "\n",
    "model = GaussianProcessClassifier(1 * RBF())\n",
    "\n",
    "kfold = model_selection.KFold(n_splits=10)\n",
    "\n",
    "results = model_selection.cross_val_score(model, scaled_X, y, cv = kfold)\n",
    "\n",
    "print(f\"Accuracy: {results.mean()} ({results.std()})\")"
   ]
  },
  {
   "cell_type": "markdown",
   "metadata": {},
   "source": [
    "##### Ada Boost"
   ]
  },
  {
   "cell_type": "code",
   "execution_count": 812,
   "metadata": {},
   "outputs": [
    {
     "name": "stdout",
     "output_type": "stream",
     "text": [
      "Accuracy: 0.3223809523809524 (0.09107695283587655)\n"
     ]
    }
   ],
   "source": [
    "from sklearn.ensemble import AdaBoostClassifier\n",
    "\n",
    "model = AdaBoostClassifier()\n",
    "\n",
    "kfold = model_selection.KFold(n_splits=10)\n",
    "\n",
    "results = model_selection.cross_val_score(model, scaled_X, y, cv = kfold)\n",
    "\n",
    "print(f\"Accuracy: {results.mean()} ({results.std()})\")"
   ]
  },
  {
   "cell_type": "markdown",
   "metadata": {},
   "source": [
    "After comparing Logistic Regression, Random Forest, Decision Tree, Nearest Neighbors, Gaussian Naive Bayes, Gaussian Process, and Ada Boost... I will settle on Random Forest because although it doesn't have the highest accuracy, it does have the second. And it's standard deviation is one of the lowest."
   ]
  },
  {
   "cell_type": "code",
   "execution_count": 813,
   "metadata": {},
   "outputs": [],
   "source": [
    "model = RandomForestClassifier()"
   ]
  },
  {
   "cell_type": "code",
   "execution_count": 814,
   "metadata": {},
   "outputs": [],
   "source": [
    "fit = model.fit(scaled_X, y)"
   ]
  },
  {
   "cell_type": "code",
   "execution_count": 815,
   "metadata": {},
   "outputs": [],
   "source": [
    "scaled_test_X = scaler.transform(test_X.loc[:, [\n",
    "    'fare',\n",
    "    'age',\n",
    "    'pclass',\n",
    "    'sibsp',\n",
    "    'parch',\n",
    "    'embarked'\n",
    "]])\n",
    "\n",
    "test_fit = model.fit(scaled_test_X, test_y)"
   ]
  },
  {
   "cell_type": "code",
   "execution_count": 816,
   "metadata": {},
   "outputs": [],
   "source": [
    "deck_X = train.loc[train.deck.isnull() == True, [\n",
    "    'fare',\n",
    "    'age',\n",
    "    'pclass',\n",
    "    'sibsp',\n",
    "    'parch',\n",
    "    'embarked'\n",
    "]].copy()\n",
    "\n",
    "# scaled_deck_X = "
   ]
  },
  {
   "cell_type": "code",
   "execution_count": 817,
   "metadata": {},
   "outputs": [],
   "source": [
    "test_deck_X = test.loc[test.deck.isnull() == True, [\n",
    "    'fare',\n",
    "    'age',\n",
    "    'pclass',\n",
    "    'sibsp',\n",
    "    'parch',\n",
    "    'embarked'\n",
    "]].copy()"
   ]
  },
  {
   "cell_type": "code",
   "execution_count": 818,
   "metadata": {},
   "outputs": [],
   "source": [
    "deck_y = fit.predict(deck_X)"
   ]
  },
  {
   "cell_type": "code",
   "execution_count": 158,
   "metadata": {
    "scrolled": true
   },
   "outputs": [
    {
     "ename": "ValueError",
     "evalue": "Input contains NaN, infinity or a value too large for dtype('float32').",
     "output_type": "error",
     "traceback": [
      "\u001b[1;31m---------------------------------------------------------------------------\u001b[0m",
      "\u001b[1;31mValueError\u001b[0m                                Traceback (most recent call last)",
      "\u001b[1;32m<ipython-input-158-1bada4f97add>\u001b[0m in \u001b[0;36m<module>\u001b[1;34m()\u001b[0m\n\u001b[1;32m----> 1\u001b[1;33m \u001b[0mtest_deck_y\u001b[0m \u001b[1;33m=\u001b[0m \u001b[0mtest_fit\u001b[0m\u001b[1;33m.\u001b[0m\u001b[0mpredict\u001b[0m\u001b[1;33m(\u001b[0m\u001b[0mtest_deck_X\u001b[0m\u001b[1;33m)\u001b[0m\u001b[1;33m\u001b[0m\u001b[0m\n\u001b[0m",
      "\u001b[1;32m~\\AppData\\Local\\Continuum\\anaconda3\\lib\\site-packages\\sklearn\\ensemble\\forest.py\u001b[0m in \u001b[0;36mpredict\u001b[1;34m(self, X)\u001b[0m\n\u001b[0;32m    536\u001b[0m             \u001b[0mThe\u001b[0m \u001b[0mpredicted\u001b[0m \u001b[0mclasses\u001b[0m\u001b[1;33m.\u001b[0m\u001b[1;33m\u001b[0m\u001b[0m\n\u001b[0;32m    537\u001b[0m         \"\"\"\n\u001b[1;32m--> 538\u001b[1;33m         \u001b[0mproba\u001b[0m \u001b[1;33m=\u001b[0m \u001b[0mself\u001b[0m\u001b[1;33m.\u001b[0m\u001b[0mpredict_proba\u001b[0m\u001b[1;33m(\u001b[0m\u001b[0mX\u001b[0m\u001b[1;33m)\u001b[0m\u001b[1;33m\u001b[0m\u001b[0m\n\u001b[0m\u001b[0;32m    539\u001b[0m \u001b[1;33m\u001b[0m\u001b[0m\n\u001b[0;32m    540\u001b[0m         \u001b[1;32mif\u001b[0m \u001b[0mself\u001b[0m\u001b[1;33m.\u001b[0m\u001b[0mn_outputs_\u001b[0m \u001b[1;33m==\u001b[0m \u001b[1;36m1\u001b[0m\u001b[1;33m:\u001b[0m\u001b[1;33m\u001b[0m\u001b[0m\n",
      "\u001b[1;32m~\\AppData\\Local\\Continuum\\anaconda3\\lib\\site-packages\\sklearn\\ensemble\\forest.py\u001b[0m in \u001b[0;36mpredict_proba\u001b[1;34m(self, X)\u001b[0m\n\u001b[0;32m    576\u001b[0m         \u001b[0mcheck_is_fitted\u001b[0m\u001b[1;33m(\u001b[0m\u001b[0mself\u001b[0m\u001b[1;33m,\u001b[0m \u001b[1;34m'estimators_'\u001b[0m\u001b[1;33m)\u001b[0m\u001b[1;33m\u001b[0m\u001b[0m\n\u001b[0;32m    577\u001b[0m         \u001b[1;31m# Check data\u001b[0m\u001b[1;33m\u001b[0m\u001b[1;33m\u001b[0m\u001b[0m\n\u001b[1;32m--> 578\u001b[1;33m         \u001b[0mX\u001b[0m \u001b[1;33m=\u001b[0m \u001b[0mself\u001b[0m\u001b[1;33m.\u001b[0m\u001b[0m_validate_X_predict\u001b[0m\u001b[1;33m(\u001b[0m\u001b[0mX\u001b[0m\u001b[1;33m)\u001b[0m\u001b[1;33m\u001b[0m\u001b[0m\n\u001b[0m\u001b[0;32m    579\u001b[0m \u001b[1;33m\u001b[0m\u001b[0m\n\u001b[0;32m    580\u001b[0m         \u001b[1;31m# Assign chunk of trees to jobs\u001b[0m\u001b[1;33m\u001b[0m\u001b[1;33m\u001b[0m\u001b[0m\n",
      "\u001b[1;32m~\\AppData\\Local\\Continuum\\anaconda3\\lib\\site-packages\\sklearn\\ensemble\\forest.py\u001b[0m in \u001b[0;36m_validate_X_predict\u001b[1;34m(self, X)\u001b[0m\n\u001b[0;32m    355\u001b[0m                                  \"call `fit` before exploiting the model.\")\n\u001b[0;32m    356\u001b[0m \u001b[1;33m\u001b[0m\u001b[0m\n\u001b[1;32m--> 357\u001b[1;33m         \u001b[1;32mreturn\u001b[0m \u001b[0mself\u001b[0m\u001b[1;33m.\u001b[0m\u001b[0mestimators_\u001b[0m\u001b[1;33m[\u001b[0m\u001b[1;36m0\u001b[0m\u001b[1;33m]\u001b[0m\u001b[1;33m.\u001b[0m\u001b[0m_validate_X_predict\u001b[0m\u001b[1;33m(\u001b[0m\u001b[0mX\u001b[0m\u001b[1;33m,\u001b[0m \u001b[0mcheck_input\u001b[0m\u001b[1;33m=\u001b[0m\u001b[1;32mTrue\u001b[0m\u001b[1;33m)\u001b[0m\u001b[1;33m\u001b[0m\u001b[0m\n\u001b[0m\u001b[0;32m    358\u001b[0m \u001b[1;33m\u001b[0m\u001b[0m\n\u001b[0;32m    359\u001b[0m     \u001b[1;33m@\u001b[0m\u001b[0mproperty\u001b[0m\u001b[1;33m\u001b[0m\u001b[0m\n",
      "\u001b[1;32m~\\AppData\\Local\\Continuum\\anaconda3\\lib\\site-packages\\sklearn\\tree\\tree.py\u001b[0m in \u001b[0;36m_validate_X_predict\u001b[1;34m(self, X, check_input)\u001b[0m\n\u001b[0;32m    371\u001b[0m         \u001b[1;34m\"\"\"Validate X whenever one tries to predict, apply, predict_proba\"\"\"\u001b[0m\u001b[1;33m\u001b[0m\u001b[0m\n\u001b[0;32m    372\u001b[0m         \u001b[1;32mif\u001b[0m \u001b[0mcheck_input\u001b[0m\u001b[1;33m:\u001b[0m\u001b[1;33m\u001b[0m\u001b[0m\n\u001b[1;32m--> 373\u001b[1;33m             \u001b[0mX\u001b[0m \u001b[1;33m=\u001b[0m \u001b[0mcheck_array\u001b[0m\u001b[1;33m(\u001b[0m\u001b[0mX\u001b[0m\u001b[1;33m,\u001b[0m \u001b[0mdtype\u001b[0m\u001b[1;33m=\u001b[0m\u001b[0mDTYPE\u001b[0m\u001b[1;33m,\u001b[0m \u001b[0maccept_sparse\u001b[0m\u001b[1;33m=\u001b[0m\u001b[1;34m\"csr\"\u001b[0m\u001b[1;33m)\u001b[0m\u001b[1;33m\u001b[0m\u001b[0m\n\u001b[0m\u001b[0;32m    374\u001b[0m             if issparse(X) and (X.indices.dtype != np.intc or\n\u001b[0;32m    375\u001b[0m                                 X.indptr.dtype != np.intc):\n",
      "\u001b[1;32m~\\AppData\\Local\\Continuum\\anaconda3\\lib\\site-packages\\sklearn\\utils\\validation.py\u001b[0m in \u001b[0;36mcheck_array\u001b[1;34m(array, accept_sparse, dtype, order, copy, force_all_finite, ensure_2d, allow_nd, ensure_min_samples, ensure_min_features, warn_on_dtype, estimator)\u001b[0m\n\u001b[0;32m    451\u001b[0m                              % (array.ndim, estimator_name))\n\u001b[0;32m    452\u001b[0m         \u001b[1;32mif\u001b[0m \u001b[0mforce_all_finite\u001b[0m\u001b[1;33m:\u001b[0m\u001b[1;33m\u001b[0m\u001b[0m\n\u001b[1;32m--> 453\u001b[1;33m             \u001b[0m_assert_all_finite\u001b[0m\u001b[1;33m(\u001b[0m\u001b[0marray\u001b[0m\u001b[1;33m)\u001b[0m\u001b[1;33m\u001b[0m\u001b[0m\n\u001b[0m\u001b[0;32m    454\u001b[0m \u001b[1;33m\u001b[0m\u001b[0m\n\u001b[0;32m    455\u001b[0m     \u001b[0mshape_repr\u001b[0m \u001b[1;33m=\u001b[0m \u001b[0m_shape_repr\u001b[0m\u001b[1;33m(\u001b[0m\u001b[0marray\u001b[0m\u001b[1;33m.\u001b[0m\u001b[0mshape\u001b[0m\u001b[1;33m)\u001b[0m\u001b[1;33m\u001b[0m\u001b[0m\n",
      "\u001b[1;32m~\\AppData\\Local\\Continuum\\anaconda3\\lib\\site-packages\\sklearn\\utils\\validation.py\u001b[0m in \u001b[0;36m_assert_all_finite\u001b[1;34m(X)\u001b[0m\n\u001b[0;32m     42\u001b[0m             and not np.isfinite(X).all()):\n\u001b[0;32m     43\u001b[0m         raise ValueError(\"Input contains NaN, infinity\"\n\u001b[1;32m---> 44\u001b[1;33m                          \" or a value too large for %r.\" % X.dtype)\n\u001b[0m\u001b[0;32m     45\u001b[0m \u001b[1;33m\u001b[0m\u001b[0m\n\u001b[0;32m     46\u001b[0m \u001b[1;33m\u001b[0m\u001b[0m\n",
      "\u001b[1;31mValueError\u001b[0m: Input contains NaN, infinity or a value too large for dtype('float32')."
     ]
    }
   ],
   "source": [
    "test_deck_y = test_fit.predict(test_deck_X)"
   ]
  },
  {
   "cell_type": "code",
   "execution_count": 161,
   "metadata": {},
   "outputs": [
    {
     "data": {
      "text/plain": [
       "fare        1\n",
       "age         0\n",
       "pclass      0\n",
       "sibsp       0\n",
       "parch       0\n",
       "embarked    0\n",
       "dtype: int64"
      ]
     },
     "execution_count": 161,
     "metadata": {},
     "output_type": "execute_result"
    }
   ],
   "source": [
    "test_deck_X.isnull().sum()"
   ]
  },
  {
   "cell_type": "markdown",
   "metadata": {},
   "source": [
    "Before imputing the `deck` values, I want to imput the one missing value in `fare` in my `test` data.\n",
    "\n",
    "Let's see if we can predict `fare` using our training data.\n",
    "\n",
    "We should note that not every column in `train` is in `test`. So we should also limit to the columns that can be used in `test`."
   ]
  },
  {
   "cell_type": "code",
   "execution_count": 376,
   "metadata": {
    "scrolled": true
   },
   "outputs": [],
   "source": [
    "fare_y = train.fare\n",
    "fare_X = train.loc[:, test.columns[test.columns.isin(train.columns)]].dropna(axis = 1).select_dtypes(exclude=['O']).drop(columns='fare')"
   ]
  },
  {
   "cell_type": "markdown",
   "metadata": {},
   "source": [
    "`fare` is continous, so we should look at using a regression algorithm. Let's test a few and see which one gives the best results."
   ]
  },
  {
   "cell_type": "markdown",
   "metadata": {},
   "source": [
    "##### Linear Regression"
   ]
  },
  {
   "cell_type": "code",
   "execution_count": 377,
   "metadata": {},
   "outputs": [],
   "source": [
    "from sklearn.linear_model import LinearRegression"
   ]
  },
  {
   "cell_type": "code",
   "execution_count": 378,
   "metadata": {},
   "outputs": [
    {
     "name": "stdout",
     "output_type": "stream",
     "text": [
      "Accuracy: 0.3573082996213155, (0.14868613034882897)\n"
     ]
    }
   ],
   "source": [
    "model = LinearRegression()\n",
    "kfold = model_selection.KFold(n_splits=10)\n",
    "results = model_selection.cross_val_score(model, fare_X, fare_y, cv=kfold)\n",
    "print(f\"Accuracy: {results.mean()}, ({results.std()})\")"
   ]
  },
  {
   "cell_type": "markdown",
   "metadata": {},
   "source": [
    "##### Ridge"
   ]
  },
  {
   "cell_type": "code",
   "execution_count": 379,
   "metadata": {},
   "outputs": [],
   "source": [
    "from sklearn.linear_model import Ridge"
   ]
  },
  {
   "cell_type": "code",
   "execution_count": 380,
   "metadata": {},
   "outputs": [
    {
     "name": "stdout",
     "output_type": "stream",
     "text": [
      "Accuracy: 0.3580575539762699, (0.14724046508469354)\n"
     ]
    }
   ],
   "source": [
    "model = Ridge()\n",
    "kfold = model_selection.KFold(n_splits=10)\n",
    "results = model_selection.cross_val_score(model, fare_X, fare_y, cv=kfold)\n",
    "print(f\"Accuracy: {results.mean()}, ({results.std()})\")"
   ]
  },
  {
   "cell_type": "markdown",
   "metadata": {},
   "source": [
    "##### Lasso"
   ]
  },
  {
   "cell_type": "code",
   "execution_count": 381,
   "metadata": {},
   "outputs": [],
   "source": [
    "from sklearn.linear_model import Lasso"
   ]
  },
  {
   "cell_type": "code",
   "execution_count": 382,
   "metadata": {},
   "outputs": [
    {
     "name": "stdout",
     "output_type": "stream",
     "text": [
      "Accuracy: 0.3648946859393965, (0.1280855863789175)\n"
     ]
    }
   ],
   "source": [
    "model = Lasso()\n",
    "kfold = model_selection.KFold(n_splits=10)\n",
    "results = model_selection.cross_val_score(model, fare_X, fare_y, cv=kfold)\n",
    "print(f\"Accuracy: {results.mean()}, ({results.std()})\")"
   ]
  },
  {
   "cell_type": "markdown",
   "metadata": {},
   "source": [
    "##### Bayesian Ridge"
   ]
  },
  {
   "cell_type": "code",
   "execution_count": 383,
   "metadata": {},
   "outputs": [],
   "source": [
    "from sklearn.linear_model import BayesianRidge"
   ]
  },
  {
   "cell_type": "code",
   "execution_count": 384,
   "metadata": {},
   "outputs": [
    {
     "name": "stdout",
     "output_type": "stream",
     "text": [
      "Accuracy: 0.3603277746545629, (0.14090034171211707)\n"
     ]
    }
   ],
   "source": [
    "model = BayesianRidge()\n",
    "kfold = model_selection.KFold(n_splits=10)\n",
    "results = model_selection.cross_val_score(model, fare_X, fare_y, cv=kfold)\n",
    "print(f\"Accuracy: {results.mean()}, ({results.std()})\")"
   ]
  },
  {
   "cell_type": "markdown",
   "metadata": {},
   "source": [
    "##### Automatic Relevance Determination"
   ]
  },
  {
   "cell_type": "code",
   "execution_count": 385,
   "metadata": {},
   "outputs": [],
   "source": [
    "from sklearn.linear_model import ARDRegression"
   ]
  },
  {
   "cell_type": "code",
   "execution_count": 386,
   "metadata": {},
   "outputs": [
    {
     "name": "stdout",
     "output_type": "stream",
     "text": [
      "Accuracy: 0.3581210828399216, (0.13987423617521638)\n"
     ]
    }
   ],
   "source": [
    "model = ARDRegression()\n",
    "kfold = model_selection.KFold(n_splits=10)\n",
    "results = model_selection.cross_val_score(model, fare_X, fare_y, cv=kfold)\n",
    "print(f\"Accuracy: {results.mean()}, ({results.std()})\")"
   ]
  },
  {
   "cell_type": "markdown",
   "metadata": {},
   "source": [
    "Of the algorithms we tried, they all produced roughly the same output (accuracy around 35%-36%). Let's use the Lasso algorithm."
   ]
  },
  {
   "cell_type": "code",
   "execution_count": 387,
   "metadata": {},
   "outputs": [],
   "source": [
    "model = Lasso()"
   ]
  },
  {
   "cell_type": "code",
   "execution_count": 402,
   "metadata": {},
   "outputs": [],
   "source": [
    "fit = model.fit(fare_X, fare_y)"
   ]
  },
  {
   "cell_type": "code",
   "execution_count": 403,
   "metadata": {},
   "outputs": [],
   "source": [
    "test_fare_X = test.loc[test.fare.isnull(), fare_X.columns]"
   ]
  },
  {
   "cell_type": "code",
   "execution_count": 404,
   "metadata": {},
   "outputs": [],
   "source": [
    "test_fare_y = model.predict(test_fare_X)"
   ]
  },
  {
   "cell_type": "code",
   "execution_count": 405,
   "metadata": {},
   "outputs": [
    {
     "data": {
      "text/plain": [
       "array([-2.91282786])"
      ]
     },
     "execution_count": 405,
     "metadata": {},
     "output_type": "execute_result"
    }
   ],
   "source": [
    "test_fare_y"
   ]
  },
  {
   "cell_type": "markdown",
   "metadata": {},
   "source": [
    "What the?! Even though our Lasso algorithm had ~36% accuracy, the value it predicted for our missing `fare` was negative which isn't possible. We should find a new way to predict the `fare`.\n",
    "\n",
    "Maybe we should try clustering our data, figure out which cluster this passenger belongs in, and then use that cluster to predict the missing `fare`?\n",
    "\n",
    "Since we don't know how many clusters there might be, let's try an algorithm that doesn't require that as a paramter."
   ]
  },
  {
   "cell_type": "markdown",
   "metadata": {},
   "source": [
    "##### Mean Shift"
   ]
  },
  {
   "cell_type": "code",
   "execution_count": 410,
   "metadata": {},
   "outputs": [],
   "source": [
    "from sklearn.cluster import MeanShift"
   ]
  },
  {
   "cell_type": "code",
   "execution_count": 411,
   "metadata": {},
   "outputs": [],
   "source": [
    "model = MeanShift()"
   ]
  },
  {
   "cell_type": "code",
   "execution_count": 412,
   "metadata": {},
   "outputs": [],
   "source": [
    "fit = model.fit(fare_X)"
   ]
  },
  {
   "cell_type": "code",
   "execution_count": 422,
   "metadata": {},
   "outputs": [],
   "source": [
    "clusters = fit.labels_"
   ]
  },
  {
   "cell_type": "code",
   "execution_count": 423,
   "metadata": {},
   "outputs": [
    {
     "data": {
      "text/plain": [
       "2"
      ]
     },
     "execution_count": 423,
     "metadata": {},
     "output_type": "execute_result"
    }
   ],
   "source": [
    "len(np.unique(clusters))"
   ]
  },
  {
   "cell_type": "markdown",
   "metadata": {},
   "source": [
    "We are given 2 clusters using Mean Shift. Let's see which cluster our missing `fare` passenger belongs in."
   ]
  },
  {
   "cell_type": "code",
   "execution_count": 424,
   "metadata": {},
   "outputs": [],
   "source": [
    "test_fare_cluster = fit.predict(test_fare_X)"
   ]
  },
  {
   "cell_type": "code",
   "execution_count": 425,
   "metadata": {},
   "outputs": [
    {
     "data": {
      "text/plain": [
       "array([0], dtype=int64)"
      ]
     },
     "execution_count": 425,
     "metadata": {},
     "output_type": "execute_result"
    }
   ],
   "source": [
    "test_fare_cluster"
   ]
  },
  {
   "cell_type": "markdown",
   "metadata": {},
   "source": [
    "Mean Shift puts our passenger in cluster 0. Let's limit our `train` data to that cluster to see if we can get better accuracy when prediciting `fare`."
   ]
  },
  {
   "cell_type": "code",
   "execution_count": 428,
   "metadata": {},
   "outputs": [],
   "source": [
    "fare_X['cluster'] = clusters"
   ]
  },
  {
   "cell_type": "code",
   "execution_count": 459,
   "metadata": {},
   "outputs": [],
   "source": [
    "fare_X0 = fare_X.loc[fare_X.cluster == 0].drop(columns='cluster').copy()"
   ]
  },
  {
   "cell_type": "code",
   "execution_count": 460,
   "metadata": {},
   "outputs": [],
   "source": [
    "fare_y0 = fare_y.loc[fare_X0.index].copy()"
   ]
  },
  {
   "cell_type": "markdown",
   "metadata": {},
   "source": [
    "We've limited our `train` data, let's test our regression algorithms against each other again to see if Lasso still comes out on top."
   ]
  },
  {
   "cell_type": "markdown",
   "metadata": {},
   "source": [
    "##### Linear Regression"
   ]
  },
  {
   "cell_type": "code",
   "execution_count": 461,
   "metadata": {},
   "outputs": [],
   "source": [
    "from sklearn.linear_model import LinearRegression"
   ]
  },
  {
   "cell_type": "code",
   "execution_count": 462,
   "metadata": {},
   "outputs": [
    {
     "name": "stdout",
     "output_type": "stream",
     "text": [
      "Accuracy: 0.35281775767745743, (0.18523694183775077)\n"
     ]
    }
   ],
   "source": [
    "model = LinearRegression()\n",
    "kfold = model_selection.KFold(n_splits=10)\n",
    "results = model_selection.cross_val_score(model, fare_X0, fare_y0, cv=kfold)\n",
    "print(f\"Accuracy: {results.mean()}, ({results.std()})\")"
   ]
  },
  {
   "cell_type": "markdown",
   "metadata": {},
   "source": [
    "##### Ridge"
   ]
  },
  {
   "cell_type": "code",
   "execution_count": 463,
   "metadata": {},
   "outputs": [],
   "source": [
    "from sklearn.linear_model import Ridge"
   ]
  },
  {
   "cell_type": "code",
   "execution_count": 464,
   "metadata": {},
   "outputs": [
    {
     "name": "stdout",
     "output_type": "stream",
     "text": [
      "Accuracy: 0.3538494589381985, (0.18355899395678896)\n"
     ]
    }
   ],
   "source": [
    "model = Ridge()\n",
    "kfold = model_selection.KFold(n_splits=10)\n",
    "results = model_selection.cross_val_score(model, fare_X0, fare_y0, cv=kfold)\n",
    "print(f\"Accuracy: {results.mean()}, ({results.std()})\")"
   ]
  },
  {
   "cell_type": "markdown",
   "metadata": {},
   "source": [
    "##### Lasso"
   ]
  },
  {
   "cell_type": "code",
   "execution_count": 465,
   "metadata": {},
   "outputs": [],
   "source": [
    "from sklearn.linear_model import Lasso"
   ]
  },
  {
   "cell_type": "code",
   "execution_count": 466,
   "metadata": {},
   "outputs": [
    {
     "name": "stdout",
     "output_type": "stream",
     "text": [
      "Accuracy: 0.36291164531037123, (0.15759204485371156)\n"
     ]
    }
   ],
   "source": [
    "model = Lasso()\n",
    "kfold = model_selection.KFold(n_splits=10)\n",
    "results = model_selection.cross_val_score(model, fare_X0, fare_y0, cv=kfold)\n",
    "print(f\"Accuracy: {results.mean()}, ({results.std()})\")"
   ]
  },
  {
   "cell_type": "markdown",
   "metadata": {},
   "source": [
    "##### Bayesian Ridge"
   ]
  },
  {
   "cell_type": "code",
   "execution_count": 467,
   "metadata": {},
   "outputs": [],
   "source": [
    "from sklearn.linear_model import BayesianRidge"
   ]
  },
  {
   "cell_type": "code",
   "execution_count": 468,
   "metadata": {},
   "outputs": [
    {
     "name": "stdout",
     "output_type": "stream",
     "text": [
      "Accuracy: 0.3564457947715208, (0.17610247949511187)\n"
     ]
    }
   ],
   "source": [
    "model = BayesianRidge()\n",
    "kfold = model_selection.KFold(n_splits=10)\n",
    "results = model_selection.cross_val_score(model, fare_X0, fare_y0, cv=kfold)\n",
    "print(f\"Accuracy: {results.mean()}, ({results.std()})\")"
   ]
  },
  {
   "cell_type": "markdown",
   "metadata": {},
   "source": [
    "##### Automatic Relevance Determination"
   ]
  },
  {
   "cell_type": "code",
   "execution_count": 469,
   "metadata": {},
   "outputs": [],
   "source": [
    "from sklearn.linear_model import ARDRegression"
   ]
  },
  {
   "cell_type": "code",
   "execution_count": 470,
   "metadata": {},
   "outputs": [
    {
     "name": "stdout",
     "output_type": "stream",
     "text": [
      "Accuracy: 0.3504867776066801, (0.1755647417893304)\n"
     ]
    }
   ],
   "source": [
    "model = ARDRegression()\n",
    "kfold = model_selection.KFold(n_splits=10)\n",
    "results = model_selection.cross_val_score(model, fare_X0, fare_y0, cv=kfold)\n",
    "print(f\"Accuracy: {results.mean()}, ({results.std()})\")"
   ]
  },
  {
   "cell_type": "markdown",
   "metadata": {},
   "source": [
    "Lasso is still on top and the accuracy didn't get any better... Let's see if we still get the same negative prediction."
   ]
  },
  {
   "cell_type": "code",
   "execution_count": 471,
   "metadata": {},
   "outputs": [],
   "source": [
    "model = Lasso()"
   ]
  },
  {
   "cell_type": "code",
   "execution_count": 472,
   "metadata": {},
   "outputs": [],
   "source": [
    "fit = model.fit(fare_X0, fare_y0)"
   ]
  },
  {
   "cell_type": "code",
   "execution_count": 473,
   "metadata": {},
   "outputs": [],
   "source": [
    "test_fare_X = test.loc[test.fare.isnull(), fare_X0.columns]"
   ]
  },
  {
   "cell_type": "code",
   "execution_count": 474,
   "metadata": {},
   "outputs": [],
   "source": [
    "test_fare_y = model.predict(test_fare_X)"
   ]
  },
  {
   "cell_type": "code",
   "execution_count": 476,
   "metadata": {},
   "outputs": [
    {
     "data": {
      "text/plain": [
       "array([-7.62368766])"
      ]
     },
     "execution_count": 476,
     "metadata": {},
     "output_type": "execute_result"
    }
   ],
   "source": [
    "test_fare_y"
   ]
  },
  {
   "cell_type": "markdown",
   "metadata": {},
   "source": [
    "Our predicted value is even more negative...\n",
    "\n",
    "Let's try a different clustering algorithm and see if that gives any better clusters."
   ]
  },
  {
   "cell_type": "markdown",
   "metadata": {},
   "source": [
    "##### Hiearchy"
   ]
  },
  {
   "cell_type": "code",
   "execution_count": 503,
   "metadata": {},
   "outputs": [],
   "source": [
    "from scipy.cluster import hierarchy"
   ]
  },
  {
   "cell_type": "code",
   "execution_count": 520,
   "metadata": {},
   "outputs": [],
   "source": [
    "linkage = hierarchy.linkage(fare_X, method = 'ward')"
   ]
  },
  {
   "cell_type": "code",
   "execution_count": 521,
   "metadata": {},
   "outputs": [
    {
     "data": {
      "image/png": "[encoded data removed]",
      "text/plain": [
       "<Figure size 432x288 with 1 Axes>"
      ]
     },
     "metadata": {
      "needs_background": "light"
     },
     "output_type": "display_data"
    }
   ],
   "source": [
    "fit = hierarchy.dendrogram(linkage, )"
   ]
  },
  {
   "cell_type": "markdown",
   "metadata": {},
   "source": [
    "Looking at this dendrogram it appears there might be more than 2 clusters. In fact, we could say there are 2 to 5 clusters. Let's try to confirm this using the elbow method and the K-Means algorithm."
   ]
  },
  {
   "cell_type": "code",
   "execution_count": 523,
   "metadata": {},
   "outputs": [],
   "source": [
    "from sklearn.cluster import KMeans\n",
    "from scipy.spatial.distance import cdist\n",
    "import matplotlib.pyplot as plt"
   ]
  },
  {
   "cell_type": "code",
   "execution_count": null,
   "metadata": {},
   "outputs": [],
   "source": [
    "distortions = []\n",
    "K = range(1,11)\n",
    "for k in K:\n",
    "    model = KMeans(n_clusters=k)\n",
    "    fit = model.fit(fare_X)\n",
    "    distortions.append(sum(np.min(cd)))"
   ]
  },
  {
   "cell_type": "code",
   "execution_count": 426,
   "metadata": {},
   "outputs": [
    {
     "data": {
      "text/plain": [
       "2.0    0.289216\n",
       "1.0    0.230392\n",
       "3.0    0.161765\n",
       "4.0    0.161765\n",
       "0.0    0.073529\n",
       "5.0    0.058824\n",
       "6.0    0.019608\n",
       "7.0    0.004902\n",
       "Name: deck, dtype: float64"
      ]
     },
     "execution_count": 426,
     "metadata": {},
     "output_type": "execute_result"
    }
   ],
   "source": [
    "train.deck.value_counts(normalize=True)"
   ]
  },
  {
   "cell_type": "code",
   "execution_count": 156,
   "metadata": {},
   "outputs": [],
   "source": [
    "train.loc[train.deck.isnull(), 'deck'] = deck_y"
   ]
  },
  {
   "cell_type": "code",
   "execution_count": 157,
   "metadata": {
    "collapsed": true
   },
   "outputs": [
    {
     "ename": "ValueError",
     "evalue": "Must have equal len keys and value when setting with an iterable",
     "output_type": "error",
     "traceback": [
      "\u001b[1;31m---------------------------------------------------------------------------\u001b[0m",
      "\u001b[1;31mValueError\u001b[0m                                Traceback (most recent call last)",
      "\u001b[1;32m<ipython-input-157-ddd7ca4ec90e>\u001b[0m in \u001b[0;36m<module>\u001b[1;34m()\u001b[0m\n\u001b[1;32m----> 1\u001b[1;33m \u001b[0mtest\u001b[0m\u001b[1;33m.\u001b[0m\u001b[0mloc\u001b[0m\u001b[1;33m[\u001b[0m\u001b[0mtest\u001b[0m\u001b[1;33m.\u001b[0m\u001b[0mdeck\u001b[0m\u001b[1;33m.\u001b[0m\u001b[0misnull\u001b[0m\u001b[1;33m(\u001b[0m\u001b[1;33m)\u001b[0m\u001b[1;33m,\u001b[0m \u001b[1;34m'deck'\u001b[0m\u001b[1;33m]\u001b[0m \u001b[1;33m=\u001b[0m \u001b[0mtest_deck_y\u001b[0m\u001b[1;33m\u001b[0m\u001b[0m\n\u001b[0m",
      "\u001b[1;32m~\\AppData\\Local\\Continuum\\anaconda3\\lib\\site-packages\\pandas\\core\\indexing.py\u001b[0m in \u001b[0;36m__setitem__\u001b[1;34m(self, key, value)\u001b[0m\n\u001b[0;32m    187\u001b[0m             \u001b[0mkey\u001b[0m \u001b[1;33m=\u001b[0m \u001b[0mcom\u001b[0m\u001b[1;33m.\u001b[0m\u001b[0m_apply_if_callable\u001b[0m\u001b[1;33m(\u001b[0m\u001b[0mkey\u001b[0m\u001b[1;33m,\u001b[0m \u001b[0mself\u001b[0m\u001b[1;33m.\u001b[0m\u001b[0mobj\u001b[0m\u001b[1;33m)\u001b[0m\u001b[1;33m\u001b[0m\u001b[0m\n\u001b[0;32m    188\u001b[0m         \u001b[0mindexer\u001b[0m \u001b[1;33m=\u001b[0m \u001b[0mself\u001b[0m\u001b[1;33m.\u001b[0m\u001b[0m_get_setitem_indexer\u001b[0m\u001b[1;33m(\u001b[0m\u001b[0mkey\u001b[0m\u001b[1;33m)\u001b[0m\u001b[1;33m\u001b[0m\u001b[0m\n\u001b[1;32m--> 189\u001b[1;33m         \u001b[0mself\u001b[0m\u001b[1;33m.\u001b[0m\u001b[0m_setitem_with_indexer\u001b[0m\u001b[1;33m(\u001b[0m\u001b[0mindexer\u001b[0m\u001b[1;33m,\u001b[0m \u001b[0mvalue\u001b[0m\u001b[1;33m)\u001b[0m\u001b[1;33m\u001b[0m\u001b[0m\n\u001b[0m\u001b[0;32m    190\u001b[0m \u001b[1;33m\u001b[0m\u001b[0m\n\u001b[0;32m    191\u001b[0m     \u001b[1;32mdef\u001b[0m \u001b[0m_validate_key\u001b[0m\u001b[1;33m(\u001b[0m\u001b[0mself\u001b[0m\u001b[1;33m,\u001b[0m \u001b[0mkey\u001b[0m\u001b[1;33m,\u001b[0m \u001b[0maxis\u001b[0m\u001b[1;33m)\u001b[0m\u001b[1;33m:\u001b[0m\u001b[1;33m\u001b[0m\u001b[0m\n",
      "\u001b[1;32m~\\AppData\\Local\\Continuum\\anaconda3\\lib\\site-packages\\pandas\\core\\indexing.py\u001b[0m in \u001b[0;36m_setitem_with_indexer\u001b[1;34m(self, indexer, value)\u001b[0m\n\u001b[0;32m    604\u001b[0m \u001b[1;33m\u001b[0m\u001b[0m\n\u001b[0;32m    605\u001b[0m                     \u001b[1;32mif\u001b[0m \u001b[0mlen\u001b[0m\u001b[1;33m(\u001b[0m\u001b[0mlabels\u001b[0m\u001b[1;33m)\u001b[0m \u001b[1;33m!=\u001b[0m \u001b[0mlen\u001b[0m\u001b[1;33m(\u001b[0m\u001b[0mvalue\u001b[0m\u001b[1;33m)\u001b[0m\u001b[1;33m:\u001b[0m\u001b[1;33m\u001b[0m\u001b[0m\n\u001b[1;32m--> 606\u001b[1;33m                         raise ValueError('Must have equal len keys and value '\n\u001b[0m\u001b[0;32m    607\u001b[0m                                          'when setting with an iterable')\n\u001b[0;32m    608\u001b[0m \u001b[1;33m\u001b[0m\u001b[0m\n",
      "\u001b[1;31mValueError\u001b[0m: Must have equal len keys and value when setting with an iterable"
     ]
    }
   ],
   "source": [
    "test.loc[test.deck.isnull(), 'deck'] = test_deck_y"
   ]
  },
  {
   "cell_type": "code",
   "execution_count": 437,
   "metadata": {},
   "outputs": [
    {
     "data": {
      "text/plain": [
       "5.0    0.386083\n",
       "4.0    0.225589\n",
       "3.0    0.163861\n",
       "2.0    0.092031\n",
       "1.0    0.060606\n",
       "6.0    0.046016\n",
       "0.0    0.024691\n",
       "7.0    0.001122\n",
       "Name: deck, dtype: float64"
      ]
     },
     "execution_count": 437,
     "metadata": {},
     "output_type": "execute_result"
    }
   ],
   "source": [
    "train.deck.value_counts(normalize=True)"
   ]
  },
  {
   "cell_type": "markdown",
   "metadata": {},
   "source": [
    "I have now imputed missing values in the columns I consider important for predicting survival. Let's check and see if the same features are still important."
   ]
  },
  {
   "cell_type": "code",
   "execution_count": 438,
   "metadata": {},
   "outputs": [],
   "source": [
    "model = ExtraTreesClassifier()"
   ]
  },
  {
   "cell_type": "code",
   "execution_count": 450,
   "metadata": {},
   "outputs": [],
   "source": [
    "X = train.loc[:, train.columns[train.notnull().all()]].select_dtypes(exclude=['O']).drop(columns='survived')\n",
    "y = train.loc[:, train.columns[train.notnull().all()]].select_dtypes(exclude=['O']).survived"
   ]
  },
  {
   "cell_type": "code",
   "execution_count": 451,
   "metadata": {},
   "outputs": [],
   "source": [
    "fit = model.fit(X, y)"
   ]
  },
  {
   "cell_type": "code",
   "execution_count": 452,
   "metadata": {},
   "outputs": [],
   "source": [
    "importances = fit.feature_importances_"
   ]
  },
  {
   "cell_type": "code",
   "execution_count": 453,
   "metadata": {},
   "outputs": [],
   "source": [
    "indices = np.argsort(importances)[::-1]"
   ]
  },
  {
   "cell_type": "code",
   "execution_count": 454,
   "metadata": {},
   "outputs": [],
   "source": [
    "std = np.std([tree.feature_importances_ for tree in fit.estimators_], axis = 0)"
   ]
  },
  {
   "cell_type": "code",
   "execution_count": 455,
   "metadata": {},
   "outputs": [
    {
     "data": {
      "image/png": "[encoded data removed]",
      "text/plain": [
       "<Figure size 720x432 with 1 Axes>"
      ]
     },
     "metadata": {
      "needs_background": "light"
     },
     "output_type": "display_data"
    }
   ],
   "source": [
    "pd.DataFrame(data = importances[indices], index=X.columns[indices]).plot.bar(figsize = (10,6), **{\n",
    "    'yerr' : std[indices],\n",
    "    'legend' : False\n",
    "});"
   ]
  },
  {
   "cell_type": "markdown",
   "metadata": {},
   "source": [
    "`fare`, `age`, and `sex` are still the top 3. Let's run our algorithm using all the features above and see what our accuracy looks like."
   ]
  },
  {
   "cell_type": "markdown",
   "metadata": {},
   "source": [
    "##### Logistic Regression"
   ]
  },
  {
   "cell_type": "code",
   "execution_count": 462,
   "metadata": {},
   "outputs": [],
   "source": [
    "from sklearn.linear_model import LogisticRegression"
   ]
  },
  {
   "cell_type": "code",
   "execution_count": 463,
   "metadata": {},
   "outputs": [],
   "source": [
    "model = LogisticRegression()"
   ]
  },
  {
   "cell_type": "code",
   "execution_count": 464,
   "metadata": {},
   "outputs": [],
   "source": [
    "kfold = model_selection.KFold(n_splits=10)"
   ]
  },
  {
   "cell_type": "code",
   "execution_count": 465,
   "metadata": {},
   "outputs": [],
   "source": [
    "results = model_selection.cross_val_score(model, X, y, cv = kfold)"
   ]
  },
  {
   "cell_type": "code",
   "execution_count": 466,
   "metadata": {},
   "outputs": [
    {
     "name": "stdout",
     "output_type": "stream",
     "text": [
      "Accuracy: 0.8249188514357053 (0.04147973469822705)\n"
     ]
    }
   ],
   "source": [
    "print(f\"Accuracy: {results.mean()} ({results.std()})\")"
   ]
  },
  {
   "cell_type": "markdown",
   "metadata": {},
   "source": [
    "##### Random Forest"
   ]
  },
  {
   "cell_type": "code",
   "execution_count": 467,
   "metadata": {},
   "outputs": [],
   "source": [
    "from sklearn.ensemble import RandomForestClassifier"
   ]
  },
  {
   "cell_type": "code",
   "execution_count": 468,
   "metadata": {},
   "outputs": [],
   "source": [
    "model = RandomForestClassifier()"
   ]
  },
  {
   "cell_type": "code",
   "execution_count": 469,
   "metadata": {},
   "outputs": [],
   "source": [
    "kfold = model_selection.KFold(n_splits=10)"
   ]
  },
  {
   "cell_type": "code",
   "execution_count": 470,
   "metadata": {},
   "outputs": [],
   "source": [
    "results = model_selection.cross_val_score(model, X, y, cv = kfold)"
   ]
  },
  {
   "cell_type": "code",
   "execution_count": 471,
   "metadata": {},
   "outputs": [
    {
     "name": "stdout",
     "output_type": "stream",
     "text": [
      "Accuracy: 0.7991635455680399 (0.03377373921124881)\n"
     ]
    }
   ],
   "source": [
    "print(f\"Accuracy: {results.mean()} ({results.std()})\")"
   ]
  },
  {
   "cell_type": "markdown",
   "metadata": {},
   "source": [
    "##### Decision Tree"
   ]
  },
  {
   "cell_type": "code",
   "execution_count": 472,
   "metadata": {},
   "outputs": [],
   "source": [
    "from sklearn.tree import DecisionTreeClassifier"
   ]
  },
  {
   "cell_type": "code",
   "execution_count": 473,
   "metadata": {},
   "outputs": [],
   "source": [
    "model = DecisionTreeClassifier()"
   ]
  },
  {
   "cell_type": "code",
   "execution_count": 474,
   "metadata": {},
   "outputs": [],
   "source": [
    "kfold = model_selection.KFold(n_splits=10)"
   ]
  },
  {
   "cell_type": "code",
   "execution_count": 475,
   "metadata": {},
   "outputs": [],
   "source": [
    "results = model_selection.cross_val_score(model, X, y, cv = kfold)"
   ]
  },
  {
   "cell_type": "code",
   "execution_count": 476,
   "metadata": {},
   "outputs": [
    {
     "name": "stdout",
     "output_type": "stream",
     "text": [
      "Accuracy: 0.7801123595505618 (0.04204724980014256)\n"
     ]
    }
   ],
   "source": [
    "print(f\"Accuracy: {results.mean()} ({results.std()})\")"
   ]
  },
  {
   "cell_type": "markdown",
   "metadata": {},
   "source": [
    "##### Nearest Neighbors"
   ]
  },
  {
   "cell_type": "code",
   "execution_count": 477,
   "metadata": {},
   "outputs": [],
   "source": [
    "from sklearn.neighbors import KNeighborsClassifier"
   ]
  },
  {
   "cell_type": "code",
   "execution_count": 478,
   "metadata": {},
   "outputs": [],
   "source": [
    "model = KNeighborsClassifier()"
   ]
  },
  {
   "cell_type": "code",
   "execution_count": 479,
   "metadata": {},
   "outputs": [],
   "source": [
    "kfold = model_selection.KFold(n_splits=10)"
   ]
  },
  {
   "cell_type": "code",
   "execution_count": 480,
   "metadata": {},
   "outputs": [],
   "source": [
    "results = model_selection.cross_val_score(model, X, y, cv = kfold)"
   ]
  },
  {
   "cell_type": "code",
   "execution_count": 481,
   "metadata": {},
   "outputs": [
    {
     "name": "stdout",
     "output_type": "stream",
     "text": [
      "Accuracy: 0.7160799001248439 (0.03107856051216875)\n"
     ]
    }
   ],
   "source": [
    "print(f\"Accuracy: {results.mean()} ({results.std()})\")"
   ]
  },
  {
   "cell_type": "markdown",
   "metadata": {},
   "source": [
    "##### Gaussian Naive Bayes"
   ]
  },
  {
   "cell_type": "code",
   "execution_count": 482,
   "metadata": {},
   "outputs": [],
   "source": [
    "from sklearn.naive_bayes import GaussianNB"
   ]
  },
  {
   "cell_type": "code",
   "execution_count": 483,
   "metadata": {},
   "outputs": [],
   "source": [
    "model = GaussianNB()"
   ]
  },
  {
   "cell_type": "code",
   "execution_count": 484,
   "metadata": {},
   "outputs": [],
   "source": [
    "kfold = model_selection.KFold(n_splits=10)"
   ]
  },
  {
   "cell_type": "code",
   "execution_count": 485,
   "metadata": {},
   "outputs": [],
   "source": [
    "results = model_selection.cross_val_score(model, X, y, cv = kfold)"
   ]
  },
  {
   "cell_type": "code",
   "execution_count": 486,
   "metadata": {},
   "outputs": [
    {
     "name": "stdout",
     "output_type": "stream",
     "text": [
      "Accuracy: 0.743096129837703 (0.05204354011548779)\n"
     ]
    }
   ],
   "source": [
    "print(f\"Accuracy: {results.mean()} ({results.std()})\")"
   ]
  },
  {
   "cell_type": "markdown",
   "metadata": {},
   "source": [
    "##### Gaussian Process"
   ]
  },
  {
   "cell_type": "code",
   "execution_count": 487,
   "metadata": {},
   "outputs": [],
   "source": [
    "from sklearn.gaussian_process import GaussianProcessClassifier\n",
    "from sklearn.gaussian_process.kernels import RBF"
   ]
  },
  {
   "cell_type": "code",
   "execution_count": 488,
   "metadata": {},
   "outputs": [],
   "source": [
    "model = GaussianProcessClassifier(1 * RBF())"
   ]
  },
  {
   "cell_type": "code",
   "execution_count": 489,
   "metadata": {},
   "outputs": [],
   "source": [
    "kfold = model_selection.KFold(n_splits=10)"
   ]
  },
  {
   "cell_type": "code",
   "execution_count": 490,
   "metadata": {},
   "outputs": [
    {
     "name": "stderr",
     "output_type": "stream",
     "text": [
      "C:\\Users\\IT045886\\AppData\\Local\\Continuum\\anaconda3\\lib\\site-packages\\sklearn\\gaussian_process\\gpc.py:430: UserWarning: fmin_l_bfgs_b terminated abnormally with the  state: {'grad': array([-1.03812085, -0.02685385]), 'task': b'ABNORMAL_TERMINATION_IN_LNSRCH', 'funcalls': 54, 'nit': 9, 'warnflag': 2}\n",
      "  \" state: %s\" % convergence_dict)\n"
     ]
    }
   ],
   "source": [
    "results = model_selection.cross_val_score(model, X, y, cv = kfold)"
   ]
  },
  {
   "cell_type": "code",
   "execution_count": 491,
   "metadata": {},
   "outputs": [
    {
     "name": "stdout",
     "output_type": "stream",
     "text": [
      "Accuracy: 0.38378277153558055 (0.070492433522623)\n"
     ]
    }
   ],
   "source": [
    "print(f\"Accuracy: {results.mean()} ({results.std()})\")"
   ]
  },
  {
   "cell_type": "markdown",
   "metadata": {},
   "source": [
    "##### Ada Boost"
   ]
  },
  {
   "cell_type": "code",
   "execution_count": 492,
   "metadata": {},
   "outputs": [],
   "source": [
    "from sklearn.ensemble import AdaBoostClassifier"
   ]
  },
  {
   "cell_type": "code",
   "execution_count": 493,
   "metadata": {},
   "outputs": [],
   "source": [
    "model = AdaBoostClassifier()"
   ]
  },
  {
   "cell_type": "code",
   "execution_count": 494,
   "metadata": {},
   "outputs": [],
   "source": [
    "kfold = model_selection.KFold(n_splits=10)"
   ]
  },
  {
   "cell_type": "code",
   "execution_count": 495,
   "metadata": {},
   "outputs": [],
   "source": [
    "results = model_selection.cross_val_score(model, X, y, cv = kfold)"
   ]
  },
  {
   "cell_type": "code",
   "execution_count": 496,
   "metadata": {},
   "outputs": [
    {
     "name": "stdout",
     "output_type": "stream",
     "text": [
      "Accuracy: 0.8227340823970037 (0.031625238406154284)\n"
     ]
    }
   ],
   "source": [
    "print(f\"Accuracy: {results.mean()} ({results.std()})\")"
   ]
  },
  {
   "cell_type": "markdown",
   "metadata": {},
   "source": [
    "Logistic Regression and Ada Boost both performed the best when using all of the variables. Let's limit the features and run them again to see if we improve our accuracy."
   ]
  },
  {
   "cell_type": "markdown",
   "metadata": {},
   "source": [
    "##### Logistic Regression"
   ]
  },
  {
   "cell_type": "code",
   "execution_count": 499,
   "metadata": {},
   "outputs": [],
   "source": [
    "from sklearn.linear_model import LogisticRegression"
   ]
  },
  {
   "cell_type": "code",
   "execution_count": 500,
   "metadata": {},
   "outputs": [],
   "source": [
    "model = LogisticRegression()"
   ]
  },
  {
   "cell_type": "code",
   "execution_count": 501,
   "metadata": {},
   "outputs": [],
   "source": [
    "kfold = model_selection.KFold(n_splits=10)"
   ]
  },
  {
   "cell_type": "code",
   "execution_count": 502,
   "metadata": {},
   "outputs": [],
   "source": [
    "results = model_selection.cross_val_score(model, X.loc[:, :'Master'], y, cv = kfold)"
   ]
  },
  {
   "cell_type": "code",
   "execution_count": 503,
   "metadata": {},
   "outputs": [
    {
     "name": "stdout",
     "output_type": "stream",
     "text": [
      "Accuracy: 0.8249063670411985 (0.034926474252515834)\n"
     ]
    }
   ],
   "source": [
    "print(f\"Accuracy: {results.mean()} ({results.std()})\")"
   ]
  },
  {
   "cell_type": "markdown",
   "metadata": {},
   "source": [
    "##### Random Forest"
   ]
  },
  {
   "cell_type": "code",
   "execution_count": 504,
   "metadata": {},
   "outputs": [],
   "source": [
    "from sklearn.ensemble import RandomForestClassifier"
   ]
  },
  {
   "cell_type": "code",
   "execution_count": 505,
   "metadata": {},
   "outputs": [],
   "source": [
    "model = RandomForestClassifier()"
   ]
  },
  {
   "cell_type": "code",
   "execution_count": 506,
   "metadata": {},
   "outputs": [],
   "source": [
    "kfold = model_selection.KFold(n_splits=10)"
   ]
  },
  {
   "cell_type": "code",
   "execution_count": 507,
   "metadata": {},
   "outputs": [],
   "source": [
    "results = model_selection.cross_val_score(model, X.loc[:, :'Master'], y, cv = kfold)"
   ]
  },
  {
   "cell_type": "code",
   "execution_count": 508,
   "metadata": {},
   "outputs": [
    {
     "name": "stdout",
     "output_type": "stream",
     "text": [
      "Accuracy: 0.799151061173533 (0.038094582809184284)\n"
     ]
    }
   ],
   "source": [
    "print(f\"Accuracy: {results.mean()} ({results.std()})\")"
   ]
  },
  {
   "cell_type": "markdown",
   "metadata": {},
   "source": [
    "##### Decision Tree"
   ]
  },
  {
   "cell_type": "code",
   "execution_count": 509,
   "metadata": {},
   "outputs": [],
   "source": [
    "from sklearn.tree import DecisionTreeClassifier"
   ]
  },
  {
   "cell_type": "code",
   "execution_count": 510,
   "metadata": {},
   "outputs": [],
   "source": [
    "model = DecisionTreeClassifier()"
   ]
  },
  {
   "cell_type": "code",
   "execution_count": 511,
   "metadata": {},
   "outputs": [],
   "source": [
    "kfold = model_selection.KFold(n_splits=10)"
   ]
  },
  {
   "cell_type": "code",
   "execution_count": 512,
   "metadata": {},
   "outputs": [],
   "source": [
    "results = model_selection.cross_val_score(model, X.loc[:, :'Master'], y, cv = kfold)"
   ]
  },
  {
   "cell_type": "code",
   "execution_count": 513,
   "metadata": {},
   "outputs": [
    {
     "name": "stdout",
     "output_type": "stream",
     "text": [
      "Accuracy: 0.7755680399500624 (0.0231704476280234)\n"
     ]
    }
   ],
   "source": [
    "print(f\"Accuracy: {results.mean()} ({results.std()})\")"
   ]
  },
  {
   "cell_type": "markdown",
   "metadata": {},
   "source": [
    "##### Nearest Neighbors"
   ]
  },
  {
   "cell_type": "code",
   "execution_count": 514,
   "metadata": {},
   "outputs": [],
   "source": [
    "from sklearn.neighbors import KNeighborsClassifier"
   ]
  },
  {
   "cell_type": "code",
   "execution_count": 515,
   "metadata": {},
   "outputs": [],
   "source": [
    "model = KNeighborsClassifier()"
   ]
  },
  {
   "cell_type": "code",
   "execution_count": 516,
   "metadata": {},
   "outputs": [],
   "source": [
    "kfold = model_selection.KFold(n_splits=10)"
   ]
  },
  {
   "cell_type": "code",
   "execution_count": 517,
   "metadata": {},
   "outputs": [],
   "source": [
    "results = model_selection.cross_val_score(model, X.loc[:, :'Master'], y, cv = kfold)"
   ]
  },
  {
   "cell_type": "code",
   "execution_count": 518,
   "metadata": {},
   "outputs": [
    {
     "name": "stdout",
     "output_type": "stream",
     "text": [
      "Accuracy: 0.7071161048689139 (0.03699343288349287)\n"
     ]
    }
   ],
   "source": [
    "print(f\"Accuracy: {results.mean()} ({results.std()})\")"
   ]
  },
  {
   "cell_type": "markdown",
   "metadata": {},
   "source": [
    "##### Gaussian Naive Bayes"
   ]
  },
  {
   "cell_type": "code",
   "execution_count": 519,
   "metadata": {},
   "outputs": [],
   "source": [
    "from sklearn.naive_bayes import GaussianNB"
   ]
  },
  {
   "cell_type": "code",
   "execution_count": 520,
   "metadata": {},
   "outputs": [],
   "source": [
    "model = GaussianNB()"
   ]
  },
  {
   "cell_type": "code",
   "execution_count": 521,
   "metadata": {},
   "outputs": [],
   "source": [
    "kfold = model_selection.KFold(n_splits=10)"
   ]
  },
  {
   "cell_type": "code",
   "execution_count": 522,
   "metadata": {},
   "outputs": [],
   "source": [
    "results = model_selection.cross_val_score(model, X.loc[:, :'Master'], y, cv = kfold)"
   ]
  },
  {
   "cell_type": "code",
   "execution_count": 523,
   "metadata": {},
   "outputs": [
    {
     "name": "stdout",
     "output_type": "stream",
     "text": [
      "Accuracy: 0.4835455680399501 (0.150161690967872)\n"
     ]
    }
   ],
   "source": [
    "print(f\"Accuracy: {results.mean()} ({results.std()})\")"
   ]
  },
  {
   "cell_type": "markdown",
   "metadata": {},
   "source": [
    "##### Gaussian Process"
   ]
  },
  {
   "cell_type": "code",
   "execution_count": 524,
   "metadata": {},
   "outputs": [],
   "source": [
    "from sklearn.gaussian_process import GaussianProcessClassifier\n",
    "from sklearn.gaussian_process.kernels import RBF"
   ]
  },
  {
   "cell_type": "code",
   "execution_count": 525,
   "metadata": {},
   "outputs": [],
   "source": [
    "model = GaussianProcessClassifier(1 * RBF())"
   ]
  },
  {
   "cell_type": "code",
   "execution_count": 526,
   "metadata": {},
   "outputs": [],
   "source": [
    "kfold = model_selection.KFold(n_splits=10)"
   ]
  },
  {
   "cell_type": "code",
   "execution_count": 527,
   "metadata": {},
   "outputs": [
    {
     "name": "stderr",
     "output_type": "stream",
     "text": [
      "C:\\Users\\IT045886\\AppData\\Local\\Continuum\\anaconda3\\lib\\site-packages\\sklearn\\gaussian_process\\gpc.py:430: UserWarning: fmin_l_bfgs_b terminated abnormally with the  state: {'grad': array([-2.72809561,  0.25005797]), 'task': b'ABNORMAL_TERMINATION_IN_LNSRCH', 'funcalls': 54, 'nit': 9, 'warnflag': 2}\n",
      "  \" state: %s\" % convergence_dict)\n",
      "C:\\Users\\IT045886\\AppData\\Local\\Continuum\\anaconda3\\lib\\site-packages\\sklearn\\gaussian_process\\gpc.py:430: UserWarning: fmin_l_bfgs_b terminated abnormally with the  state: {'grad': array([-2.59678357e+00, -1.51224160e-04]), 'task': b'ABNORMAL_TERMINATION_IN_LNSRCH', 'funcalls': 56, 'nit': 10, 'warnflag': 2}\n",
      "  \" state: %s\" % convergence_dict)\n"
     ]
    }
   ],
   "source": [
    "results = model_selection.cross_val_score(model, X.loc[:, :'Master'], y, cv = kfold)"
   ]
  },
  {
   "cell_type": "code",
   "execution_count": 528,
   "metadata": {},
   "outputs": [
    {
     "name": "stdout",
     "output_type": "stream",
     "text": [
      "Accuracy: 0.5080649188514357 (0.2133504285537796)\n"
     ]
    }
   ],
   "source": [
    "print(f\"Accuracy: {results.mean()} ({results.std()})\")"
   ]
  },
  {
   "cell_type": "markdown",
   "metadata": {},
   "source": [
    "##### Ada Boost"
   ]
  },
  {
   "cell_type": "code",
   "execution_count": 529,
   "metadata": {},
   "outputs": [],
   "source": [
    "from sklearn.ensemble import AdaBoostClassifier"
   ]
  },
  {
   "cell_type": "code",
   "execution_count": 530,
   "metadata": {},
   "outputs": [],
   "source": [
    "model = AdaBoostClassifier()"
   ]
  },
  {
   "cell_type": "code",
   "execution_count": 531,
   "metadata": {},
   "outputs": [],
   "source": [
    "kfold = model_selection.KFold(n_splits=10)"
   ]
  },
  {
   "cell_type": "code",
   "execution_count": 532,
   "metadata": {},
   "outputs": [],
   "source": [
    "results = model_selection.cross_val_score(model, X.loc[:, :'Master'], y, cv = kfold)"
   ]
  },
  {
   "cell_type": "code",
   "execution_count": 533,
   "metadata": {},
   "outputs": [
    {
     "name": "stdout",
     "output_type": "stream",
     "text": [
      "Accuracy: 0.811498127340824 (0.03547591560917852)\n"
     ]
    }
   ],
   "source": [
    "print(f\"Accuracy: {results.mean()} ({results.std()})\")"
   ]
  },
  {
   "cell_type": "markdown",
   "metadata": {},
   "source": [
    "Some of the algorithms (albeit few) perform better with fewer variables. But the ones that performed the best previously either showed little to no change, or were negatively impacted.\n",
    "\n",
    "Let's submit results using all of the variables in `X`.\n",
    "\n",
    "To do this we will need to clean our `test` data like we did our `train` data."
   ]
  },
  {
   "cell_type": "markdown",
   "metadata": {},
   "source": [
    "# Test"
   ]
  },
  {
   "cell_type": "code",
   "execution_count": 536,
   "metadata": {},
   "outputs": [
    {
     "data": {
      "text/plain": [
       "pclass      False\n",
       "name        False\n",
       "sex         False\n",
       "age          True\n",
       "sibsp       False\n",
       "parch       False\n",
       "ticket      False\n",
       "fare         True\n",
       "cabin        True\n",
       "embarked    False\n",
       "dtype: bool"
      ]
     },
     "execution_count": 536,
     "metadata": {},
     "output_type": "execute_result"
    }
   ],
   "source": [
    "test.isnull().any()"
   ]
  },
  {
   "cell_type": "markdown",
   "metadata": {},
   "source": [
    "Have to impute `age` and create our `deck` variable. We must also find a way to impute `fare` as there is a missing value in our `test` data, but not in our `train` data."
   ]
  },
  {
   "cell_type": "code",
   "execution_count": null,
   "metadata": {},
   "outputs": [],
   "source": []
  }
 ],
 "metadata": {
  "anaconda-cloud": {},
  "kernelspec": {
   "display_name": "Python 3",
   "language": "python",
   "name": "python3"
  },
  "language_info": {
   "codemirror_mode": {
    "name": "ipython",
    "version": 3
   },
   "file_extension": ".py",
   "mimetype": "text/x-python",
   "name": "python",
   "nbconvert_exporter": "python",
   "pygments_lexer": "ipython3",
   "version": "3.7.2"
  },
  "varInspector": {
   "cols": {
    "lenName": 16,
    "lenType": 16,
    "lenVar": 40
   },
   "kernels_config": {
    "python": {
     "delete_cmd_postfix": "",
     "delete_cmd_prefix": "del ",
     "library": "var_list.py",
     "varRefreshCmd": "print(var_dic_list())"
    },
    "r": {
     "delete_cmd_postfix": ") ",
     "delete_cmd_prefix": "rm(",
     "library": "var_list.r",
     "varRefreshCmd": "cat(var_dic_list()) "
    }
   },
   "types_to_exclude": [
    "module",
    "function",
    "builtin_function_or_method",
    "instance",
    "_Feature"
   ],
   "window_display": false
  }
 },
 "nbformat": 4,
 "nbformat_minor": 2
}
